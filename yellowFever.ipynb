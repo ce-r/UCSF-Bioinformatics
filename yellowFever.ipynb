{
 "cells": [
  {
   "cell_type": "code",
   "execution_count": 2,
   "id": "surrounded-measurement",
   "metadata": {},
   "outputs": [
    {
     "name": "stderr",
     "output_type": "stream",
     "text": [
      "Updating HTML index of packages in '.Library'\n",
      "Making 'packages.html' ... done\n",
      "Updating HTML index of packages in '.Library'\n",
      "Making 'packages.html' ... done\n",
      "Bioconductor version 3.10 (BiocManager 1.30.10), R 3.6.3 (2020-02-29)\n",
      "Installing package(s) 'GEOquery'\n",
      "Updating HTML index of packages in '.Library'\n",
      "Making 'packages.html' ... done\n",
      "Old packages: 'backports', 'BH', 'boot', 'brio', 'broom', 'caTools', 'class',\n",
      "  'cli', 'cluster', 'codetools', 'colorspace', 'cpp11', 'crayon', 'crosstalk',\n",
      "  'data.table', 'DBI', 'dbplyr', 'desc', 'diffobj', 'dplyr', 'DT', 'fansi',\n",
      "  'farver', 'fastmap', 'flowCore', 'flowWorkspace', 'forcats', 'formatR',\n",
      "  'ggplot2', 'git2r', 'gitcreds', 'glmnet', 'heatmaply', 'hexbin', 'hms',\n",
      "  'htmltools', 'htmlwidgets', 'httpuv', 'ImmuneSpaceR', 'insight', 'ipred',\n",
      "  'IRdisplay', 'IRkernel', 'isoband', 'jsonlite', 'knitr', 'lava', 'lifecycle',\n",
      "  'limma', 'lubridate', 'magrittr', 'MASS', 'Matrix', 'matrixStats', 'memoise',\n",
      "  'mgcv', 'mime', 'nlme', 'nnet', 'pbdZMQ', 'pillar', 'pkgbuild', 'pkgload',\n",
      "  'plotly', 'pROC', 'processx', 'promises', 'ps', 'quantmod', 'rappdirs',\n",
      "  'Rcpp', 'RcppArmadillo', 'RcppParallel', 'recipes', 'repr', 'reprex',\n",
      "  'Rlabkey', 'rlang', 'rmarkdown', 'rprojroot', 'rstudioapi', 'rvest', 'shiny',\n",
      "  'spatial', 'SQUAREM', 'survival', 'testthat', 'tibble', 'tidyr', 'tinytex',\n",
      "  'usethis', 'utf8', 'vctrs', 'waldo', 'withr', 'xfun', 'zoo'\n",
      "Updating HTML index of packages in '.Library'\n",
      "Making 'packages.html' ... done\n",
      "Skipping install of 'dict' from a github remote, the SHA1 (f4983195) has not changed since last install.\n",
      "  Use `force = TRUE` to force installation\n",
      "Updating HTML index of packages in '.Library'\n",
      "Making 'packages.html' ... done\n"
     ]
    }
   ],
   "source": [
    "install.packages(\"devtools\")\n",
    "install.packages(\"BiocManager\")\n",
    "BiocManager::install(\"GEOquery\")\n",
    "install.packages(\"remotes\")\n",
    "remotes::install_github(\"mkuhn/dict\")\n",
    "install.packages(\"sjmisc\")"
   ]
  },
  {
   "cell_type": "code",
   "execution_count": 3,
   "id": "subtle-deployment",
   "metadata": {},
   "outputs": [
    {
     "name": "stderr",
     "output_type": "stream",
     "text": [
      "Loading required package: Biobase\n",
      "Loading required package: BiocGenerics\n",
      "Loading required package: parallel\n",
      "\n",
      "Attaching package: ‘BiocGenerics’\n",
      "\n",
      "The following objects are masked from ‘package:parallel’:\n",
      "\n",
      "    clusterApply, clusterApplyLB, clusterCall, clusterEvalQ,\n",
      "    clusterExport, clusterMap, parApply, parCapply, parLapply,\n",
      "    parLapplyLB, parRapply, parSapply, parSapplyLB\n",
      "\n",
      "The following objects are masked from ‘package:stats’:\n",
      "\n",
      "    IQR, mad, sd, var, xtabs\n",
      "\n",
      "The following objects are masked from ‘package:base’:\n",
      "\n",
      "    anyDuplicated, append, as.data.frame, basename, cbind, colnames,\n",
      "    dirname, do.call, duplicated, eval, evalq, Filter, Find, get, grep,\n",
      "    grepl, intersect, is.unsorted, lapply, Map, mapply, match, mget,\n",
      "    order, paste, pmax, pmax.int, pmin, pmin.int, Position, rank,\n",
      "    rbind, Reduce, rownames, sapply, setdiff, sort, table, tapply,\n",
      "    union, unique, unsplit, which, which.max, which.min\n",
      "\n",
      "Welcome to Bioconductor\n",
      "\n",
      "    Vignettes contain introductory material; view with\n",
      "    'browseVignettes()'. To cite Bioconductor, see\n",
      "    'citation(\"Biobase\")', and for packages 'citation(\"pkgname\")'.\n",
      "\n",
      "Setting options('download.file.method.GEOquery'='auto')\n",
      "Setting options('GEOquery.inmemory.gpl'=FALSE)\n",
      "\n",
      "Attaching package: ‘dplyr’\n",
      "\n",
      "The following objects are masked from ‘package:data.table’:\n",
      "\n",
      "    between, first, last\n",
      "\n",
      "The following object is masked from ‘package:Biobase’:\n",
      "\n",
      "    combine\n",
      "\n",
      "The following objects are masked from ‘package:BiocGenerics’:\n",
      "\n",
      "    combine, intersect, setdiff, union\n",
      "\n",
      "The following objects are masked from ‘package:stats’:\n",
      "\n",
      "    filter, lag\n",
      "\n",
      "The following objects are masked from ‘package:base’:\n",
      "\n",
      "    intersect, setdiff, setequal, union\n",
      "\n",
      "\n",
      "Attaching package: ‘tidyr’\n",
      "\n",
      "The following object is masked from ‘package:magrittr’:\n",
      "\n",
      "    extract\n",
      "\n",
      "\n",
      "Attaching package: ‘sjmisc’\n",
      "\n",
      "The following object is masked from ‘package:tidyr’:\n",
      "\n",
      "    replace_na\n",
      "\n"
     ]
    }
   ],
   "source": [
    "library(GEOquery)\n",
    "library(data.table)\n",
    "library(magrittr)\n",
    "library(dplyr)\n",
    "library(tidyr)\n",
    "library(sjmisc)\n",
    "library(dict)"
   ]
  },
  {
   "cell_type": "code",
   "execution_count": 4,
   "id": "athletic-indianapolis",
   "metadata": {},
   "outputs": [],
   "source": [
    "# read expsample to biosample\n",
    "fn = \"expsample_2_biosample.txt\"\n",
    "e2b = fread(fn, data.table = F)\n",
    "\n",
    "\n",
    "# read biosample table\n",
    "fn = \"biosample.txt\"\n",
    "biosample = fread(fn, data.table = F)\n",
    "biosample = biosample%>%select(SUBJECT_ACCESSION, BIOSAMPLE_ACCESSION, STUDY_ACCESSION)\n",
    "\n",
    "\n",
    "# find gene expression result\n",
    "fn = \"expsample_public_repository.txt\"\n",
    "pub_repos = fread(fn, data.table = F)\n",
    "pub_repos = pub_repos%>%filter(REPOSITORY_NAME==\"GEO\")\n",
    "\n",
    "\n",
    "#(2) map gene expression result to biosample w/ expsample_accession\n",
    "pub_repos1 = pub_repos%>%inner_join(e2b[, c(\"EXPSAMPLE_ACCESSION\",\"BIOSAMPLE_ACCESSION\")], by=\"EXPSAMPLE_ACCESSION\")\n",
    "\n",
    "\n",
    "#(3) map gene expression result to subject\n",
    "pub_repos2 = pub_repos1%>%inner_join(biosample, by=\"BIOSAMPLE_ACCESSION\")"
   ]
  },
  {
   "cell_type": "code",
   "execution_count": 5,
   "id": "favorite-logging",
   "metadata": {},
   "outputs": [
    {
     "data": {
      "text/html": [
       "<table>\n",
       "<caption>A data.frame: 6 × 7</caption>\n",
       "<thead>\n",
       "\t<tr><th></th><th scope=col>RESULT_ID</th><th scope=col>EXPSAMPLE_ACCESSION</th><th scope=col>REPOSITORY_ACCESSION</th><th scope=col>REPOSITORY_NAME</th><th scope=col>BIOSAMPLE_ACCESSION</th><th scope=col>SUBJECT_ACCESSION</th><th scope=col>STUDY_ACCESSION</th></tr>\n",
       "\t<tr><th></th><th scope=col>&lt;int&gt;</th><th scope=col>&lt;chr&gt;</th><th scope=col>&lt;chr&gt;</th><th scope=col>&lt;chr&gt;</th><th scope=col>&lt;chr&gt;</th><th scope=col>&lt;chr&gt;</th><th scope=col>&lt;chr&gt;</th></tr>\n",
       "</thead>\n",
       "<tbody>\n",
       "\t<tr><th scope=row>1</th><td>46870</td><td>ES1262321</td><td>GSM3584982</td><td>GEO</td><td>BS1028390</td><td>SUB205388</td><td>SDY1529</td></tr>\n",
       "\t<tr><th scope=row>2</th><td>46871</td><td>ES1262322</td><td>GSM4041840</td><td>GEO</td><td>BS1028391</td><td>SUB205388</td><td>SDY1529</td></tr>\n",
       "\t<tr><th scope=row>3</th><td>46872</td><td>ES1262323</td><td>GSM4041838</td><td>GEO</td><td>BS1028392</td><td>SUB205388</td><td>SDY1529</td></tr>\n",
       "\t<tr><th scope=row>4</th><td>46873</td><td>ES1262324</td><td>GSM4041839</td><td>GEO</td><td>BS1028393</td><td>SUB205388</td><td>SDY1529</td></tr>\n",
       "\t<tr><th scope=row>5</th><td>46874</td><td>ES1262325</td><td>GSM4041841</td><td>GEO</td><td>BS1028394</td><td>SUB205388</td><td>SDY1529</td></tr>\n",
       "\t<tr><th scope=row>6</th><td>46875</td><td>ES1262326</td><td>GSM3584991</td><td>GEO</td><td>BS1028395</td><td>SUB205387</td><td>SDY1529</td></tr>\n",
       "</tbody>\n",
       "</table>\n"
      ],
      "text/latex": [
       "A data.frame: 6 × 7\n",
       "\\begin{tabular}{r|lllllll}\n",
       "  & RESULT\\_ID & EXPSAMPLE\\_ACCESSION & REPOSITORY\\_ACCESSION & REPOSITORY\\_NAME & BIOSAMPLE\\_ACCESSION & SUBJECT\\_ACCESSION & STUDY\\_ACCESSION\\\\\n",
       "  & <int> & <chr> & <chr> & <chr> & <chr> & <chr> & <chr>\\\\\n",
       "\\hline\n",
       "\t1 & 46870 & ES1262321 & GSM3584982 & GEO & BS1028390 & SUB205388 & SDY1529\\\\\n",
       "\t2 & 46871 & ES1262322 & GSM4041840 & GEO & BS1028391 & SUB205388 & SDY1529\\\\\n",
       "\t3 & 46872 & ES1262323 & GSM4041838 & GEO & BS1028392 & SUB205388 & SDY1529\\\\\n",
       "\t4 & 46873 & ES1262324 & GSM4041839 & GEO & BS1028393 & SUB205388 & SDY1529\\\\\n",
       "\t5 & 46874 & ES1262325 & GSM4041841 & GEO & BS1028394 & SUB205388 & SDY1529\\\\\n",
       "\t6 & 46875 & ES1262326 & GSM3584991 & GEO & BS1028395 & SUB205387 & SDY1529\\\\\n",
       "\\end{tabular}\n"
      ],
      "text/markdown": [
       "\n",
       "A data.frame: 6 × 7\n",
       "\n",
       "| <!--/--> | RESULT_ID &lt;int&gt; | EXPSAMPLE_ACCESSION &lt;chr&gt; | REPOSITORY_ACCESSION &lt;chr&gt; | REPOSITORY_NAME &lt;chr&gt; | BIOSAMPLE_ACCESSION &lt;chr&gt; | SUBJECT_ACCESSION &lt;chr&gt; | STUDY_ACCESSION &lt;chr&gt; |\n",
       "|---|---|---|---|---|---|---|---|\n",
       "| 1 | 46870 | ES1262321 | GSM3584982 | GEO | BS1028390 | SUB205388 | SDY1529 |\n",
       "| 2 | 46871 | ES1262322 | GSM4041840 | GEO | BS1028391 | SUB205388 | SDY1529 |\n",
       "| 3 | 46872 | ES1262323 | GSM4041838 | GEO | BS1028392 | SUB205388 | SDY1529 |\n",
       "| 4 | 46873 | ES1262324 | GSM4041839 | GEO | BS1028393 | SUB205388 | SDY1529 |\n",
       "| 5 | 46874 | ES1262325 | GSM4041841 | GEO | BS1028394 | SUB205388 | SDY1529 |\n",
       "| 6 | 46875 | ES1262326 | GSM3584991 | GEO | BS1028395 | SUB205387 | SDY1529 |\n",
       "\n"
      ],
      "text/plain": [
       "  RESULT_ID EXPSAMPLE_ACCESSION REPOSITORY_ACCESSION REPOSITORY_NAME\n",
       "1 46870     ES1262321           GSM3584982           GEO            \n",
       "2 46871     ES1262322           GSM4041840           GEO            \n",
       "3 46872     ES1262323           GSM4041838           GEO            \n",
       "4 46873     ES1262324           GSM4041839           GEO            \n",
       "5 46874     ES1262325           GSM4041841           GEO            \n",
       "6 46875     ES1262326           GSM3584991           GEO            \n",
       "  BIOSAMPLE_ACCESSION SUBJECT_ACCESSION STUDY_ACCESSION\n",
       "1 BS1028390           SUB205388         SDY1529        \n",
       "2 BS1028391           SUB205388         SDY1529        \n",
       "3 BS1028392           SUB205388         SDY1529        \n",
       "4 BS1028393           SUB205388         SDY1529        \n",
       "5 BS1028394           SUB205388         SDY1529        \n",
       "6 BS1028395           SUB205387         SDY1529        "
      ]
     },
     "metadata": {},
     "output_type": "display_data"
    }
   ],
   "source": [
    "head(pub_repos2)"
   ]
  },
  {
   "cell_type": "code",
   "execution_count": 6,
   "id": "maritime-maldives",
   "metadata": {},
   "outputs": [
    {
     "data": {
      "text/html": [
       "<table>\n",
       "<caption>A data.frame: 1 × 7</caption>\n",
       "<thead>\n",
       "\t<tr><th></th><th scope=col>RESULT_ID</th><th scope=col>EXPSAMPLE_ACCESSION</th><th scope=col>REPOSITORY_ACCESSION</th><th scope=col>REPOSITORY_NAME</th><th scope=col>BIOSAMPLE_ACCESSION</th><th scope=col>SUBJECT_ACCESSION</th><th scope=col>STUDY_ACCESSION</th></tr>\n",
       "\t<tr><th></th><th scope=col>&lt;int&gt;</th><th scope=col>&lt;chr&gt;</th><th scope=col>&lt;chr&gt;</th><th scope=col>&lt;chr&gt;</th><th scope=col>&lt;chr&gt;</th><th scope=col>&lt;chr&gt;</th><th scope=col>&lt;chr&gt;</th></tr>\n",
       "</thead>\n",
       "<tbody>\n",
       "\t<tr><th scope=row>180</th><td>47049</td><td>ES1262500</td><td>GSM4041892</td><td>GEO</td><td>BS1028569</td><td>SUB205401</td><td>SDY1529</td></tr>\n",
       "</tbody>\n",
       "</table>\n"
      ],
      "text/latex": [
       "A data.frame: 1 × 7\n",
       "\\begin{tabular}{r|lllllll}\n",
       "  & RESULT\\_ID & EXPSAMPLE\\_ACCESSION & REPOSITORY\\_ACCESSION & REPOSITORY\\_NAME & BIOSAMPLE\\_ACCESSION & SUBJECT\\_ACCESSION & STUDY\\_ACCESSION\\\\\n",
       "  & <int> & <chr> & <chr> & <chr> & <chr> & <chr> & <chr>\\\\\n",
       "\\hline\n",
       "\t180 & 47049 & ES1262500 & GSM4041892 & GEO & BS1028569 & SUB205401 & SDY1529\\\\\n",
       "\\end{tabular}\n"
      ],
      "text/markdown": [
       "\n",
       "A data.frame: 1 × 7\n",
       "\n",
       "| <!--/--> | RESULT_ID &lt;int&gt; | EXPSAMPLE_ACCESSION &lt;chr&gt; | REPOSITORY_ACCESSION &lt;chr&gt; | REPOSITORY_NAME &lt;chr&gt; | BIOSAMPLE_ACCESSION &lt;chr&gt; | SUBJECT_ACCESSION &lt;chr&gt; | STUDY_ACCESSION &lt;chr&gt; |\n",
       "|---|---|---|---|---|---|---|---|\n",
       "| 180 | 47049 | ES1262500 | GSM4041892 | GEO | BS1028569 | SUB205401 | SDY1529 |\n",
       "\n"
      ],
      "text/plain": [
       "    RESULT_ID EXPSAMPLE_ACCESSION REPOSITORY_ACCESSION REPOSITORY_NAME\n",
       "180 47049     ES1262500           GSM4041892           GEO            \n",
       "    BIOSAMPLE_ACCESSION SUBJECT_ACCESSION STUDY_ACCESSION\n",
       "180 BS1028569           SUB205401         SDY1529        "
      ]
     },
     "metadata": {},
     "output_type": "display_data"
    }
   ],
   "source": [
    "pub_repos2[pub_repos2$REPOSITORY_ACCESSION == 'GSM4041892', ]"
   ]
  },
  {
   "cell_type": "code",
   "execution_count": 7,
   "id": "parental-italian",
   "metadata": {},
   "outputs": [
    {
     "data": {
      "text/html": [
       "'SDY1529'"
      ],
      "text/latex": [
       "'SDY1529'"
      ],
      "text/markdown": [
       "'SDY1529'"
      ],
      "text/plain": [
       "[1] \"SDY1529\""
      ]
     },
     "metadata": {},
     "output_type": "display_data"
    }
   ],
   "source": [
    "unique(pub_repos2$STUDY_ACCESSION)"
   ]
  },
  {
   "cell_type": "code",
   "execution_count": 46,
   "id": "threatened-ethnic",
   "metadata": {},
   "outputs": [
    {
     "data": {
      "text/html": [
       "<style>\n",
       ".list-inline {list-style: none; margin:0; padding: 0}\n",
       ".list-inline>li {display: inline-block}\n",
       ".list-inline>li:not(:last-child)::after {content: \"\\00b7\"; padding: 0 .5ex}\n",
       "</style>\n",
       "<ol class=list-inline><li>'RESULT_ID'</li><li>'EXPSAMPLE_ACCESSION'</li><li>'REPOSITORY_ACCESSION'</li><li>'REPOSITORY_NAME'</li><li>'BIOSAMPLE_ACCESSION'</li><li>'SUBJECT_ACCESSION'</li><li>'STUDY_ACCESSION'</li></ol>\n"
      ],
      "text/latex": [
       "\\begin{enumerate*}\n",
       "\\item 'RESULT\\_ID'\n",
       "\\item 'EXPSAMPLE\\_ACCESSION'\n",
       "\\item 'REPOSITORY\\_ACCESSION'\n",
       "\\item 'REPOSITORY\\_NAME'\n",
       "\\item 'BIOSAMPLE\\_ACCESSION'\n",
       "\\item 'SUBJECT\\_ACCESSION'\n",
       "\\item 'STUDY\\_ACCESSION'\n",
       "\\end{enumerate*}\n"
      ],
      "text/markdown": [
       "1. 'RESULT_ID'\n",
       "2. 'EXPSAMPLE_ACCESSION'\n",
       "3. 'REPOSITORY_ACCESSION'\n",
       "4. 'REPOSITORY_NAME'\n",
       "5. 'BIOSAMPLE_ACCESSION'\n",
       "6. 'SUBJECT_ACCESSION'\n",
       "7. 'STUDY_ACCESSION'\n",
       "\n",
       "\n"
      ],
      "text/plain": [
       "[1] \"RESULT_ID\"            \"EXPSAMPLE_ACCESSION\"  \"REPOSITORY_ACCESSION\"\n",
       "[4] \"REPOSITORY_NAME\"      \"BIOSAMPLE_ACCESSION\"  \"SUBJECT_ACCESSION\"   \n",
       "[7] \"STUDY_ACCESSION\"     "
      ]
     },
     "metadata": {},
     "output_type": "display_data"
    }
   ],
   "source": [
    "colnames(pub_repos2)"
   ]
  },
  {
   "cell_type": "code",
   "execution_count": 74,
   "id": "sexual-transition",
   "metadata": {},
   "outputs": [],
   "source": [
    "gpl_dict = dict()"
   ]
  },
  {
   "cell_type": "code",
   "execution_count": 75,
   "id": "simple-camera",
   "metadata": {},
   "outputs": [],
   "source": [
    "x0 = c('REPOSITORY_ACCESSION', 'BIOSAMPLE_ACCESSION', 'EXPSAMPLE_ACCESSION', 'SUBJECT_ACCESSION', 'GENE_VALUE_0')\n",
    "df0 = data.frame(matrix(ncol = 6, nrow = 0))\n",
    "colnames(df0) = x0"
   ]
  },
  {
   "cell_type": "code",
   "execution_count": 76,
   "id": "invisible-noise",
   "metadata": {},
   "outputs": [
    {
     "name": "stderr",
     "output_type": "stream",
     "text": [
      "Using locally cached version of GSM3584982 found here:\n",
      "/tmp/RtmpL2iCBG/GSM3584982.soft \n",
      "Using locally cached version of GPL10558 found here:\n",
      "/tmp/RtmpL2iCBG/GPL10558.soft \n",
      "Warning message:\n",
      "“3270 parsing failures.\n",
      "  row        col           expected    actual         file\n",
      "29537 Unigene_ID 1/0/T/F/TRUE/FALSE Hs.571610 literal data\n",
      "29538 Unigene_ID 1/0/T/F/TRUE/FALSE Hs.545780 literal data\n",
      "29539 Unigene_ID 1/0/T/F/TRUE/FALSE Hs.554603 literal data\n",
      "29540 Unigene_ID 1/0/T/F/TRUE/FALSE Hs.437179 literal data\n",
      "29541 Unigene_ID 1/0/T/F/TRUE/FALSE Hs.128234 literal data\n",
      "..... .......... .................. ......... ............\n",
      "See problems(...) for more details.\n",
      "”Using locally cached version of GSM4041840 found here:\n",
      "/tmp/RtmpL2iCBG/GSM4041840.soft \n",
      "Using locally cached version of GSM4041838 found here:\n",
      "/tmp/RtmpL2iCBG/GSM4041838.soft \n",
      "Using locally cached version of GSM4041839 found here:\n",
      "/tmp/RtmpL2iCBG/GSM4041839.soft \n",
      "Using locally cached version of GSM4041841 found here:\n",
      "/tmp/RtmpL2iCBG/GSM4041841.soft \n",
      "Using locally cached version of GSM3584991 found here:\n",
      "/tmp/RtmpL2iCBG/GSM3584991.soft \n",
      "Using locally cached version of GSM4041836 found here:\n",
      "/tmp/RtmpL2iCBG/GSM4041836.soft \n",
      "Using locally cached version of GSM4041837 found here:\n",
      "/tmp/RtmpL2iCBG/GSM4041837.soft \n",
      "Using locally cached version of GSM4041834 found here:\n",
      "/tmp/RtmpL2iCBG/GSM4041834.soft \n",
      "Using locally cached version of GSM4041835 found here:\n",
      "/tmp/RtmpL2iCBG/GSM4041835.soft \n",
      "Using locally cached version of GSM3584992 found here:\n",
      "/tmp/RtmpL2iCBG/GSM3584992.soft \n",
      "Using locally cached version of GSM4041861 found here:\n",
      "/tmp/RtmpL2iCBG/GSM4041861.soft \n",
      "Using locally cached version of GSM4041858 found here:\n",
      "/tmp/RtmpL2iCBG/GSM4041858.soft \n",
      "Using locally cached version of GSM4041860 found here:\n",
      "/tmp/RtmpL2iCBG/GSM4041860.soft \n",
      "Using locally cached version of GSM4041859 found here:\n",
      "/tmp/RtmpL2iCBG/GSM4041859.soft \n",
      "Using locally cached version of GSM3584993 found here:\n",
      "/tmp/RtmpL2iCBG/GSM3584993.soft \n",
      "Using locally cached version of GSM4041882 found here:\n",
      "/tmp/RtmpL2iCBG/GSM4041882.soft \n",
      "Using locally cached version of GSM4041883 found here:\n",
      "/tmp/RtmpL2iCBG/GSM4041883.soft \n",
      "Using locally cached version of GSM4041884 found here:\n",
      "/tmp/RtmpL2iCBG/GSM4041884.soft \n",
      "Using locally cached version of GSM4041885 found here:\n",
      "/tmp/RtmpL2iCBG/GSM4041885.soft \n",
      "Using locally cached version of GSM3584994 found here:\n",
      "/tmp/RtmpL2iCBG/GSM3584994.soft \n",
      "Using locally cached version of GSM4041939 found here:\n",
      "/tmp/RtmpL2iCBG/GSM4041939.soft \n",
      "Using locally cached version of GSM4041938 found here:\n",
      "/tmp/RtmpL2iCBG/GSM4041938.soft \n",
      "Using locally cached version of GSM4041941 found here:\n",
      "/tmp/RtmpL2iCBG/GSM4041941.soft \n",
      "Using locally cached version of GSM4041940 found here:\n",
      "/tmp/RtmpL2iCBG/GSM4041940.soft \n",
      "Using locally cached version of GSM3584995 found here:\n",
      "/tmp/RtmpL2iCBG/GSM3584995.soft \n",
      "Using locally cached version of GSM4041852 found here:\n",
      "/tmp/RtmpL2iCBG/GSM4041852.soft \n",
      "Using locally cached version of GSM4041850 found here:\n",
      "/tmp/RtmpL2iCBG/GSM4041850.soft \n",
      "Using locally cached version of GSM4041853 found here:\n",
      "/tmp/RtmpL2iCBG/GSM4041853.soft \n",
      "Using locally cached version of GSM4041851 found here:\n",
      "/tmp/RtmpL2iCBG/GSM4041851.soft \n",
      "Using locally cached version of GSM3584996 found here:\n",
      "/tmp/RtmpL2iCBG/GSM3584996.soft \n",
      "Using locally cached version of GSM4041907 found here:\n",
      "/tmp/RtmpL2iCBG/GSM4041907.soft \n",
      "Using locally cached version of GSM4041909 found here:\n",
      "/tmp/RtmpL2iCBG/GSM4041909.soft \n",
      "Using locally cached version of GSM4041906 found here:\n",
      "/tmp/RtmpL2iCBG/GSM4041906.soft \n",
      "Using locally cached version of GSM4041908 found here:\n",
      "/tmp/RtmpL2iCBG/GSM4041908.soft \n",
      "Using locally cached version of GSM3584997 found here:\n",
      "/tmp/RtmpL2iCBG/GSM3584997.soft \n",
      "Using locally cached version of GSM4041910 found here:\n",
      "/tmp/RtmpL2iCBG/GSM4041910.soft \n",
      "Using locally cached version of GSM4041912 found here:\n",
      "/tmp/RtmpL2iCBG/GSM4041912.soft \n",
      "Using locally cached version of GSM4041911 found here:\n",
      "/tmp/RtmpL2iCBG/GSM4041911.soft \n",
      "Using locally cached version of GSM4041913 found here:\n",
      "/tmp/RtmpL2iCBG/GSM4041913.soft \n",
      "Using locally cached version of GSM3584998 found here:\n",
      "/tmp/RtmpL2iCBG/GSM3584998.soft \n",
      "Using locally cached version of GSM4041920 found here:\n",
      "/tmp/RtmpL2iCBG/GSM4041920.soft \n",
      "Using locally cached version of GSM4041918 found here:\n",
      "/tmp/RtmpL2iCBG/GSM4041918.soft \n",
      "Using locally cached version of GSM4041919 found here:\n",
      "/tmp/RtmpL2iCBG/GSM4041919.soft \n",
      "Using locally cached version of GSM4041921 found here:\n",
      "/tmp/RtmpL2iCBG/GSM4041921.soft \n",
      "Using locally cached version of GSM3584999 found here:\n",
      "/tmp/RtmpL2iCBG/GSM3584999.soft \n",
      "Using locally cached version of GSM4041870 found here:\n",
      "/tmp/RtmpL2iCBG/GSM4041870.soft \n",
      "Using locally cached version of GSM4041871 found here:\n",
      "/tmp/RtmpL2iCBG/GSM4041871.soft \n",
      "Using locally cached version of GSM4041872 found here:\n",
      "/tmp/RtmpL2iCBG/GSM4041872.soft \n",
      "Using locally cached version of GSM4041873 found here:\n",
      "/tmp/RtmpL2iCBG/GSM4041873.soft \n",
      "Using locally cached version of GSM3585000 found here:\n",
      "/tmp/RtmpL2iCBG/GSM3585000.soft \n",
      "Using locally cached version of GSM4041917 found here:\n",
      "/tmp/RtmpL2iCBG/GSM4041917.soft \n",
      "Using locally cached version of GSM4041916 found here:\n",
      "/tmp/RtmpL2iCBG/GSM4041916.soft \n",
      "Using locally cached version of GSM4041915 found here:\n",
      "/tmp/RtmpL2iCBG/GSM4041915.soft \n",
      "Using locally cached version of GSM4041914 found here:\n",
      "/tmp/RtmpL2iCBG/GSM4041914.soft \n",
      "Using locally cached version of GSM3584983 found here:\n",
      "/tmp/RtmpL2iCBG/GSM3584983.soft \n",
      "Using locally cached version of GSM4041849 found here:\n",
      "/tmp/RtmpL2iCBG/GSM4041849.soft \n",
      "Using locally cached version of GSM4041846 found here:\n",
      "/tmp/RtmpL2iCBG/GSM4041846.soft \n",
      "Using locally cached version of GSM4041847 found here:\n",
      "/tmp/RtmpL2iCBG/GSM4041847.soft \n",
      "Using locally cached version of GSM4041848 found here:\n",
      "/tmp/RtmpL2iCBG/GSM4041848.soft \n",
      "Using locally cached version of GSM3585001 found here:\n",
      "/tmp/RtmpL2iCBG/GSM3585001.soft \n",
      "Using locally cached version of GSM4041905 found here:\n",
      "/tmp/RtmpL2iCBG/GSM4041905.soft \n",
      "Using locally cached version of GSM4041904 found here:\n",
      "/tmp/RtmpL2iCBG/GSM4041904.soft \n",
      "Using locally cached version of GSM4041902 found here:\n",
      "/tmp/RtmpL2iCBG/GSM4041902.soft \n",
      "Using locally cached version of GSM4041903 found here:\n",
      "/tmp/RtmpL2iCBG/GSM4041903.soft \n",
      "Using locally cached version of GSM3585002 found here:\n",
      "/tmp/RtmpL2iCBG/GSM3585002.soft \n",
      "Using locally cached version of GSM4041953 found here:\n",
      "/tmp/RtmpL2iCBG/GSM4041953.soft \n",
      "Using locally cached version of GSM4041952 found here:\n",
      "/tmp/RtmpL2iCBG/GSM4041952.soft \n",
      "Using locally cached version of GSM4041951 found here:\n",
      "/tmp/RtmpL2iCBG/GSM4041951.soft \n",
      "Using locally cached version of GSM4041950 found here:\n",
      "/tmp/RtmpL2iCBG/GSM4041950.soft \n",
      "Using locally cached version of GSM3585003 found here:\n",
      "/tmp/RtmpL2iCBG/GSM3585003.soft \n",
      "Using locally cached version of GSM4041949 found here:\n",
      "/tmp/RtmpL2iCBG/GSM4041949.soft \n",
      "Using locally cached version of GSM4041948 found here:\n",
      "/tmp/RtmpL2iCBG/GSM4041948.soft \n",
      "Using locally cached version of GSM4041946 found here:\n",
      "/tmp/RtmpL2iCBG/GSM4041946.soft \n",
      "Using locally cached version of GSM4041947 found here:\n",
      "/tmp/RtmpL2iCBG/GSM4041947.soft \n",
      "Using locally cached version of GSM3585004 found here:\n",
      "/tmp/RtmpL2iCBG/GSM3585004.soft \n",
      "Using locally cached version of GSM4041943 found here:\n",
      "/tmp/RtmpL2iCBG/GSM4041943.soft \n",
      "Using locally cached version of GSM4041945 found here:\n",
      "/tmp/RtmpL2iCBG/GSM4041945.soft \n",
      "Using locally cached version of GSM4041944 found here:\n",
      "/tmp/RtmpL2iCBG/GSM4041944.soft \n",
      "Using locally cached version of GSM4041942 found here:\n",
      "/tmp/RtmpL2iCBG/GSM4041942.soft \n",
      "Using locally cached version of GSM3585005 found here:\n",
      "/tmp/RtmpL2iCBG/GSM3585005.soft \n",
      "Using locally cached version of GSM4041957 found here:\n",
      "/tmp/RtmpL2iCBG/GSM4041957.soft \n",
      "Using locally cached version of GSM4041955 found here:\n",
      "/tmp/RtmpL2iCBG/GSM4041955.soft \n",
      "Using locally cached version of GSM4041954 found here:\n",
      "/tmp/RtmpL2iCBG/GSM4041954.soft \n",
      "Using locally cached version of GSM4041956 found here:\n",
      "/tmp/RtmpL2iCBG/GSM4041956.soft \n",
      "Using locally cached version of GSM3585006 found here:\n",
      "/tmp/RtmpL2iCBG/GSM3585006.soft \n",
      "Using locally cached version of GSM4041960 found here:\n",
      "/tmp/RtmpL2iCBG/GSM4041960.soft \n",
      "Using locally cached version of GSM4041961 found here:\n",
      "/tmp/RtmpL2iCBG/GSM4041961.soft \n",
      "Using locally cached version of GSM4041959 found here:\n",
      "/tmp/RtmpL2iCBG/GSM4041959.soft \n",
      "Using locally cached version of GSM4041958 found here:\n",
      "/tmp/RtmpL2iCBG/GSM4041958.soft \n",
      "Using locally cached version of GSM3585007 found here:\n",
      "/tmp/RtmpL2iCBG/GSM3585007.soft \n",
      "Using locally cached version of GSM4041856 found here:\n",
      "/tmp/RtmpL2iCBG/GSM4041856.soft \n",
      "Using locally cached version of GSM4041854 found here:\n",
      "/tmp/RtmpL2iCBG/GSM4041854.soft \n",
      "Using locally cached version of GSM4041855 found here:\n",
      "/tmp/RtmpL2iCBG/GSM4041855.soft \n",
      "Using locally cached version of GSM4041857 found here:\n",
      "/tmp/RtmpL2iCBG/GSM4041857.soft \n",
      "Using locally cached version of GSM3585008 found here:\n",
      "/tmp/RtmpL2iCBG/GSM3585008.soft \n",
      "Using locally cached version of GSM4041901 found here:\n",
      "/tmp/RtmpL2iCBG/GSM4041901.soft \n",
      "Using locally cached version of GSM4041898 found here:\n",
      "/tmp/RtmpL2iCBG/GSM4041898.soft \n",
      "Using locally cached version of GSM4041899 found here:\n",
      "/tmp/RtmpL2iCBG/GSM4041899.soft \n",
      "Using locally cached version of GSM4041900 found here:\n",
      "/tmp/RtmpL2iCBG/GSM4041900.soft \n",
      "Using locally cached version of GSM3585009 found here:\n",
      "/tmp/RtmpL2iCBG/GSM3585009.soft \n",
      "Using locally cached version of GSM4041878 found here:\n",
      "/tmp/RtmpL2iCBG/GSM4041878.soft \n",
      "Using locally cached version of GSM4041879 found here:\n",
      "/tmp/RtmpL2iCBG/GSM4041879.soft \n",
      "Using locally cached version of GSM4041881 found here:\n",
      "/tmp/RtmpL2iCBG/GSM4041881.soft \n",
      "Using locally cached version of GSM4041880 found here:\n",
      "/tmp/RtmpL2iCBG/GSM4041880.soft \n",
      "Using locally cached version of GSM3585010 found here:\n",
      "/tmp/RtmpL2iCBG/GSM3585010.soft \n",
      "Using locally cached version of GSM4041924 found here:\n",
      "/tmp/RtmpL2iCBG/GSM4041924.soft \n",
      "Using locally cached version of GSM4041922 found here:\n",
      "/tmp/RtmpL2iCBG/GSM4041922.soft \n",
      "Using locally cached version of GSM4041923 found here:\n",
      "/tmp/RtmpL2iCBG/GSM4041923.soft \n",
      "Using locally cached version of GSM4041925 found here:\n",
      "/tmp/RtmpL2iCBG/GSM4041925.soft \n",
      "Using locally cached version of GSM3584984 found here:\n",
      "/tmp/RtmpL2iCBG/GSM3584984.soft \n",
      "Using locally cached version of GSM4041864 found here:\n",
      "/tmp/RtmpL2iCBG/GSM4041864.soft \n",
      "Using locally cached version of GSM4041863 found here:\n",
      "/tmp/RtmpL2iCBG/GSM4041863.soft \n",
      "Using locally cached version of GSM4041862 found here:\n",
      "/tmp/RtmpL2iCBG/GSM4041862.soft \n",
      "Using locally cached version of GSM4041865 found here:\n",
      "/tmp/RtmpL2iCBG/GSM4041865.soft \n",
      "Using locally cached version of GSM3585011 found here:\n",
      "/tmp/RtmpL2iCBG/GSM3585011.soft \n",
      "Using locally cached version of GSM4041964 found here:\n",
      "/tmp/RtmpL2iCBG/GSM4041964.soft \n",
      "Using locally cached version of GSM4041965 found here:\n",
      "/tmp/RtmpL2iCBG/GSM4041965.soft \n",
      "Using locally cached version of GSM4041963 found here:\n",
      "/tmp/RtmpL2iCBG/GSM4041963.soft \n",
      "Using locally cached version of GSM4041962 found here:\n",
      "/tmp/RtmpL2iCBG/GSM4041962.soft \n",
      "Using locally cached version of GSM3585012 found here:\n",
      "/tmp/RtmpL2iCBG/GSM3585012.soft \n",
      "Using locally cached version of GSM4041968 found here:\n",
      "/tmp/RtmpL2iCBG/GSM4041968.soft \n",
      "Using locally cached version of GSM4041969 found here:\n",
      "/tmp/RtmpL2iCBG/GSM4041969.soft \n",
      "Using locally cached version of GSM4041967 found here:\n",
      "/tmp/RtmpL2iCBG/GSM4041967.soft \n",
      "Using locally cached version of GSM4041966 found here:\n",
      "/tmp/RtmpL2iCBG/GSM4041966.soft \n",
      "Using locally cached version of GSM3585013 found here:\n",
      "/tmp/RtmpL2iCBG/GSM3585013.soft \n",
      "Using locally cached version of GSM4041927 found here:\n",
      "/tmp/RtmpL2iCBG/GSM4041927.soft \n",
      "Using locally cached version of GSM4041928 found here:\n",
      "/tmp/RtmpL2iCBG/GSM4041928.soft \n",
      "Using locally cached version of GSM4041929 found here:\n",
      "/tmp/RtmpL2iCBG/GSM4041929.soft \n",
      "Using locally cached version of GSM4041926 found here:\n",
      "/tmp/RtmpL2iCBG/GSM4041926.soft \n",
      "Using locally cached version of GSM3585014 found here:\n",
      "/tmp/RtmpL2iCBG/GSM3585014.soft \n",
      "Using locally cached version of GSM4041936 found here:\n",
      "/tmp/RtmpL2iCBG/GSM4041936.soft \n",
      "Using locally cached version of GSM4041934 found here:\n",
      "/tmp/RtmpL2iCBG/GSM4041934.soft \n",
      "Using locally cached version of GSM4041937 found here:\n",
      "/tmp/RtmpL2iCBG/GSM4041937.soft \n",
      "Using locally cached version of GSM4041935 found here:\n",
      "/tmp/RtmpL2iCBG/GSM4041935.soft \n",
      "Using locally cached version of GSM3585015 found here:\n",
      "/tmp/RtmpL2iCBG/GSM3585015.soft \n",
      "Using locally cached version of GSM4041866 found here:\n",
      "/tmp/RtmpL2iCBG/GSM4041866.soft \n",
      "Using locally cached version of GSM4041868 found here:\n",
      "/tmp/RtmpL2iCBG/GSM4041868.soft \n",
      "Using locally cached version of GSM4041869 found here:\n",
      "/tmp/RtmpL2iCBG/GSM4041869.soft \n",
      "Using locally cached version of GSM4041867 found here:\n",
      "/tmp/RtmpL2iCBG/GSM4041867.soft \n",
      "Using locally cached version of GSM3585016 found here:\n",
      "/tmp/RtmpL2iCBG/GSM3585016.soft \n",
      "Using locally cached version of GSM4041875 found here:\n",
      "/tmp/RtmpL2iCBG/GSM4041875.soft \n",
      "Using locally cached version of GSM4041876 found here:\n",
      "/tmp/RtmpL2iCBG/GSM4041876.soft \n",
      "Using locally cached version of GSM4041874 found here:\n",
      "/tmp/RtmpL2iCBG/GSM4041874.soft \n",
      "Using locally cached version of GSM4041877 found here:\n",
      "/tmp/RtmpL2iCBG/GSM4041877.soft \n",
      "Using locally cached version of GSM3585017 found here:\n",
      "/tmp/RtmpL2iCBG/GSM3585017.soft \n",
      "Using locally cached version of GSM4041973 found here:\n",
      "/tmp/RtmpL2iCBG/GSM4041973.soft \n",
      "Using locally cached version of GSM4041970 found here:\n",
      "/tmp/RtmpL2iCBG/GSM4041970.soft \n",
      "Using locally cached version of GSM4041972 found here:\n",
      "/tmp/RtmpL2iCBG/GSM4041972.soft \n",
      "Using locally cached version of GSM4041971 found here:\n",
      "/tmp/RtmpL2iCBG/GSM4041971.soft \n",
      "Using locally cached version of GSM3584985 found here:\n",
      "/tmp/RtmpL2iCBG/GSM3584985.soft \n",
      "Using locally cached version of GSM4041844 found here:\n",
      "/tmp/RtmpL2iCBG/GSM4041844.soft \n",
      "Using locally cached version of GSM4041842 found here:\n",
      "/tmp/RtmpL2iCBG/GSM4041842.soft \n",
      "Using locally cached version of GSM4041843 found here:\n",
      "/tmp/RtmpL2iCBG/GSM4041843.soft \n",
      "Using locally cached version of GSM4041845 found here:\n",
      "/tmp/RtmpL2iCBG/GSM4041845.soft \n",
      "Using locally cached version of GSM3584986 found here:\n",
      "/tmp/RtmpL2iCBG/GSM3584986.soft \n",
      "Using locally cached version of GSM4041895 found here:\n",
      "/tmp/RtmpL2iCBG/GSM4041895.soft \n",
      "Using locally cached version of GSM4041896 found here:\n",
      "/tmp/RtmpL2iCBG/GSM4041896.soft \n",
      "Using locally cached version of GSM4041894 found here:\n",
      "/tmp/RtmpL2iCBG/GSM4041894.soft \n",
      "Using locally cached version of GSM4041897 found here:\n",
      "/tmp/RtmpL2iCBG/GSM4041897.soft \n",
      "Using locally cached version of GSM3584987 found here:\n",
      "/tmp/RtmpL2iCBG/GSM3584987.soft \n",
      "Using locally cached version of GSM4041886 found here:\n",
      "/tmp/RtmpL2iCBG/GSM4041886.soft \n",
      "Using locally cached version of GSM4041888 found here:\n",
      "/tmp/RtmpL2iCBG/GSM4041888.soft \n",
      "Using locally cached version of GSM4041889 found here:\n",
      "/tmp/RtmpL2iCBG/GSM4041889.soft \n",
      "Using locally cached version of GSM4041887 found here:\n",
      "/tmp/RtmpL2iCBG/GSM4041887.soft \n",
      "Using locally cached version of GSM3584988 found here:\n",
      "/tmp/RtmpL2iCBG/GSM3584988.soft \n",
      "Using locally cached version of GSM4041832 found here:\n",
      "/tmp/RtmpL2iCBG/GSM4041832.soft \n",
      "Using locally cached version of GSM4041831 found here:\n",
      "/tmp/RtmpL2iCBG/GSM4041831.soft \n",
      "Using locally cached version of GSM4041830 found here:\n",
      "/tmp/RtmpL2iCBG/GSM4041830.soft \n",
      "Using locally cached version of GSM4041833 found here:\n",
      "/tmp/RtmpL2iCBG/GSM4041833.soft \n",
      "Using locally cached version of GSM3584989 found here:\n",
      "/tmp/RtmpL2iCBG/GSM3584989.soft \n",
      "Using locally cached version of GSM4041932 found here:\n",
      "/tmp/RtmpL2iCBG/GSM4041932.soft \n",
      "Using locally cached version of GSM4041931 found here:\n",
      "/tmp/RtmpL2iCBG/GSM4041931.soft \n",
      "Using locally cached version of GSM4041930 found here:\n",
      "/tmp/RtmpL2iCBG/GSM4041930.soft \n",
      "Using locally cached version of GSM4041933 found here:\n",
      "/tmp/RtmpL2iCBG/GSM4041933.soft \n",
      "Using locally cached version of GSM3584990 found here:\n",
      "/tmp/RtmpL2iCBG/GSM3584990.soft \n",
      "Using locally cached version of GSM4041890 found here:\n",
      "/tmp/RtmpL2iCBG/GSM4041890.soft \n",
      "Using locally cached version of GSM4041893 found here:\n",
      "/tmp/RtmpL2iCBG/GSM4041893.soft \n",
      "Using locally cached version of GSM4041891 found here:\n",
      "/tmp/RtmpL2iCBG/GSM4041891.soft \n",
      "Using locally cached version of GSM4041892 found here:\n",
      "/tmp/RtmpL2iCBG/GSM4041892.soft \n"
     ]
    }
   ],
   "source": [
    "for(i in 1:length(pub_repos2$REPOSITORY_ACCESSION)) {\n",
    "    ### LOADING TABLES\n",
    "    GSM = getGEO(pub_repos2$REPOSITORY_ACCESSION[i], getGPL=FALSE)\n",
    "    \n",
    "    if(length(colnames(GSM@dataTable@table)) == 0)\n",
    "        next\n",
    "    \n",
    "    genex = GSM@dataTable@table[,1:2]# it exists, load it\n",
    "    platform_char = GSM@header$platform_id\n",
    "  \n",
    "    ### check if platform id already loaded\n",
    "    if(platform_char %in% gpl_dict$keys()){\n",
    "        ### at this point the platform table should only have cols ID and Symbol\n",
    "        gene_prof = genex%>%inner_join(gpl_dict[[platform_char]], by=c(\"ID_REF\"=\"ID\"))\n",
    "    \n",
    "    } else { ### we have a unique platform GPL ID to add to the dict\n",
    "        ### load unique GPL\n",
    "        platform_obj = getGEO(platform_char, getGPL=FALSE)\n",
    "        platform = platform_obj@dataTable@table\n",
    "        \n",
    "        if(\"ID\" %in% colnames(platform) && str_contains(colnames(platform), \"Symbol\")){\n",
    "            names(platform)[grepl(\"Symbol\", names(platform))] = \"Symbol\"\n",
    "            platform = platform[,c(\"ID\",\"Symbol\")]\n",
    "\n",
    "            gpl_dict[[platform_char]] = platform ## add platform table to dict\n",
    "            gene_prof = genex%>%inner_join(platform, by=c(\"ID_REF\"=\"ID\"))\n",
    "      \n",
    "        } else\n",
    "            next\n",
    "    }\n",
    "      \n",
    "    gene_profiles = gene_prof[ ,c(\"Symbol\",\"VALUE\")]\n",
    "    gene_profiles = gene_profiles[!(gene_profiles$Symbol == \"---\" | gene_profiles$Symbol == \"\"), ]\n",
    "    \n",
    "    if(exists(\"gene_profiles\")){\n",
    "        add_row = data.frame(pub_repos2$REPOSITORY_ACCESSION[i], pub_repos2$BIOSAMPLE_ACCESSION[i], pub_repos2$EXPSAMPLE_ACCESSION[i], \n",
    "                             pub_repos2$SUBJECT_ACCESSION[i], gene_profiles[gene_profiles$Symbol == 'GZMH',][2])\n",
    "        colnames(add_row) = x0\n",
    "        df0 = rbind(df0, add_row)\n",
    "    }\n",
    "}"
   ]
  },
  {
   "cell_type": "code",
   "execution_count": 10,
   "id": "assured-eugene",
   "metadata": {},
   "outputs": [
    {
     "data": {
      "text/html": [
       "<table>\n",
       "<caption>A data.frame: 6 × 2</caption>\n",
       "<thead>\n",
       "\t<tr><th></th><th scope=col>Symbol</th><th scope=col>GSM4041892</th></tr>\n",
       "\t<tr><th></th><th scope=col>&lt;chr&gt;</th><th scope=col>&lt;dbl&gt;</th></tr>\n",
       "</thead>\n",
       "<tbody>\n",
       "\t<tr><th scope=row>1</th><td>ERCC-00162</td><td>6.510425</td></tr>\n",
       "\t<tr><th scope=row>2</th><td>ERCC-00071</td><td>6.593000</td></tr>\n",
       "\t<tr><th scope=row>3</th><td>ERCC-00009</td><td>6.538246</td></tr>\n",
       "\t<tr><th scope=row>4</th><td>ERCC-00053</td><td>6.325730</td></tr>\n",
       "\t<tr><th scope=row>5</th><td>ERCC-00144</td><td>6.358830</td></tr>\n",
       "\t<tr><th scope=row>6</th><td>ERCC-00003</td><td>6.437396</td></tr>\n",
       "</tbody>\n",
       "</table>\n"
      ],
      "text/latex": [
       "A data.frame: 6 × 2\n",
       "\\begin{tabular}{r|ll}\n",
       "  & Symbol & GSM4041892\\\\\n",
       "  & <chr> & <dbl>\\\\\n",
       "\\hline\n",
       "\t1 & ERCC-00162 & 6.510425\\\\\n",
       "\t2 & ERCC-00071 & 6.593000\\\\\n",
       "\t3 & ERCC-00009 & 6.538246\\\\\n",
       "\t4 & ERCC-00053 & 6.325730\\\\\n",
       "\t5 & ERCC-00144 & 6.358830\\\\\n",
       "\t6 & ERCC-00003 & 6.437396\\\\\n",
       "\\end{tabular}\n"
      ],
      "text/markdown": [
       "\n",
       "A data.frame: 6 × 2\n",
       "\n",
       "| <!--/--> | Symbol &lt;chr&gt; | GSM4041892 &lt;dbl&gt; |\n",
       "|---|---|---|\n",
       "| 1 | ERCC-00162 | 6.510425 |\n",
       "| 2 | ERCC-00071 | 6.593000 |\n",
       "| 3 | ERCC-00009 | 6.538246 |\n",
       "| 4 | ERCC-00053 | 6.325730 |\n",
       "| 5 | ERCC-00144 | 6.358830 |\n",
       "| 6 | ERCC-00003 | 6.437396 |\n",
       "\n"
      ],
      "text/plain": [
       "  Symbol     GSM4041892\n",
       "1 ERCC-00162 6.510425  \n",
       "2 ERCC-00071 6.593000  \n",
       "3 ERCC-00009 6.538246  \n",
       "4 ERCC-00053 6.325730  \n",
       "5 ERCC-00144 6.358830  \n",
       "6 ERCC-00003 6.437396  "
      ]
     },
     "metadata": {},
     "output_type": "display_data"
    }
   ],
   "source": [
    "head(final_res1)"
   ]
  },
  {
   "cell_type": "code",
   "execution_count": 64,
   "id": "ongoing-packing",
   "metadata": {},
   "outputs": [
    {
     "data": {
      "text/html": [
       "<table>\n",
       "<caption>A data.frame: 6 × 6</caption>\n",
       "<thead>\n",
       "\t<tr><th></th><th scope=col>REPOSITORY_ACCESSION</th><th scope=col>BIOSAMPLE_ACCESSION</th><th scope=col>EXPSAMPLE_ACCESSION</th><th scope=col>SUBJECT_ACCESSION</th><th scope=col>SYMBOL</th><th scope=col>GENE_VALUE</th></tr>\n",
       "\t<tr><th></th><th scope=col>&lt;fct&gt;</th><th scope=col>&lt;fct&gt;</th><th scope=col>&lt;fct&gt;</th><th scope=col>&lt;fct&gt;</th><th scope=col>&lt;chr&gt;</th><th scope=col>&lt;dbl&gt;</th></tr>\n",
       "</thead>\n",
       "<tbody>\n",
       "\t<tr><th scope=row>15078</th><td>GSM3584982</td><td>BS1028390</td><td>ES1262321</td><td>SUB205388</td><td>GZMH</td><td>9.204821</td></tr>\n",
       "\t<tr><th scope=row>14677</th><td>GSM4041840</td><td>BS1028391</td><td>ES1262322</td><td>SUB205388</td><td>GZMH</td><td>9.243751</td></tr>\n",
       "\t<tr><th scope=row>146771</th><td>GSM4041838</td><td>BS1028392</td><td>ES1262323</td><td>SUB205388</td><td>GZMH</td><td>9.036877</td></tr>\n",
       "\t<tr><th scope=row>146772</th><td>GSM4041839</td><td>BS1028393</td><td>ES1262324</td><td>SUB205388</td><td>GZMH</td><td>9.717368</td></tr>\n",
       "\t<tr><th scope=row>146773</th><td>GSM4041841</td><td>BS1028394</td><td>ES1262325</td><td>SUB205388</td><td>GZMH</td><td>9.448006</td></tr>\n",
       "\t<tr><th scope=row>150781</th><td>GSM3584991</td><td>BS1028395</td><td>ES1262326</td><td>SUB205387</td><td>GZMH</td><td>9.045475</td></tr>\n",
       "</tbody>\n",
       "</table>\n"
      ],
      "text/latex": [
       "A data.frame: 6 × 6\n",
       "\\begin{tabular}{r|llllll}\n",
       "  & REPOSITORY\\_ACCESSION & BIOSAMPLE\\_ACCESSION & EXPSAMPLE\\_ACCESSION & SUBJECT\\_ACCESSION & SYMBOL & GENE\\_VALUE\\\\\n",
       "  & <fct> & <fct> & <fct> & <fct> & <chr> & <dbl>\\\\\n",
       "\\hline\n",
       "\t15078 & GSM3584982 & BS1028390 & ES1262321 & SUB205388 & GZMH & 9.204821\\\\\n",
       "\t14677 & GSM4041840 & BS1028391 & ES1262322 & SUB205388 & GZMH & 9.243751\\\\\n",
       "\t146771 & GSM4041838 & BS1028392 & ES1262323 & SUB205388 & GZMH & 9.036877\\\\\n",
       "\t146772 & GSM4041839 & BS1028393 & ES1262324 & SUB205388 & GZMH & 9.717368\\\\\n",
       "\t146773 & GSM4041841 & BS1028394 & ES1262325 & SUB205388 & GZMH & 9.448006\\\\\n",
       "\t150781 & GSM3584991 & BS1028395 & ES1262326 & SUB205387 & GZMH & 9.045475\\\\\n",
       "\\end{tabular}\n"
      ],
      "text/markdown": [
       "\n",
       "A data.frame: 6 × 6\n",
       "\n",
       "| <!--/--> | REPOSITORY_ACCESSION &lt;fct&gt; | BIOSAMPLE_ACCESSION &lt;fct&gt; | EXPSAMPLE_ACCESSION &lt;fct&gt; | SUBJECT_ACCESSION &lt;fct&gt; | SYMBOL &lt;chr&gt; | GENE_VALUE &lt;dbl&gt; |\n",
       "|---|---|---|---|---|---|---|\n",
       "| 15078 | GSM3584982 | BS1028390 | ES1262321 | SUB205388 | GZMH | 9.204821 |\n",
       "| 14677 | GSM4041840 | BS1028391 | ES1262322 | SUB205388 | GZMH | 9.243751 |\n",
       "| 146771 | GSM4041838 | BS1028392 | ES1262323 | SUB205388 | GZMH | 9.036877 |\n",
       "| 146772 | GSM4041839 | BS1028393 | ES1262324 | SUB205388 | GZMH | 9.717368 |\n",
       "| 146773 | GSM4041841 | BS1028394 | ES1262325 | SUB205388 | GZMH | 9.448006 |\n",
       "| 150781 | GSM3584991 | BS1028395 | ES1262326 | SUB205387 | GZMH | 9.045475 |\n",
       "\n"
      ],
      "text/plain": [
       "       REPOSITORY_ACCESSION BIOSAMPLE_ACCESSION EXPSAMPLE_ACCESSION\n",
       "15078  GSM3584982           BS1028390           ES1262321          \n",
       "14677  GSM4041840           BS1028391           ES1262322          \n",
       "146771 GSM4041838           BS1028392           ES1262323          \n",
       "146772 GSM4041839           BS1028393           ES1262324          \n",
       "146773 GSM4041841           BS1028394           ES1262325          \n",
       "150781 GSM3584991           BS1028395           ES1262326          \n",
       "       SUBJECT_ACCESSION SYMBOL GENE_VALUE\n",
       "15078  SUB205388         GZMH   9.204821  \n",
       "14677  SUB205388         GZMH   9.243751  \n",
       "146771 SUB205388         GZMH   9.036877  \n",
       "146772 SUB205388         GZMH   9.717368  \n",
       "146773 SUB205388         GZMH   9.448006  \n",
       "150781 SUB205387         GZMH   9.045475  "
      ]
     },
     "metadata": {},
     "output_type": "display_data"
    }
   ],
   "source": [
    "head(df0)"
   ]
  },
  {
   "cell_type": "code",
   "execution_count": 11,
   "id": "central-perth",
   "metadata": {},
   "outputs": [
    {
     "data": {
      "text/html": [
       "<style>\n",
       ".list-inline {list-style: none; margin:0; padding: 0}\n",
       ".list-inline>li {display: inline-block}\n",
       ".list-inline>li:not(:last-child)::after {content: \"\\00b7\"; padding: 0 .5ex}\n",
       "</style>\n",
       "<ol class=list-inline><li>44053</li><li>2</li></ol>\n"
      ],
      "text/latex": [
       "\\begin{enumerate*}\n",
       "\\item 44053\n",
       "\\item 2\n",
       "\\end{enumerate*}\n"
      ],
      "text/markdown": [
       "1. 44053\n",
       "2. 2\n",
       "\n",
       "\n"
      ],
      "text/plain": [
       "[1] 44053     2"
      ]
     },
     "metadata": {},
     "output_type": "display_data"
    }
   ],
   "source": [
    "dim(final_res1)#****************"
   ]
  },
  {
   "cell_type": "code",
   "execution_count": 12,
   "id": "korean-favorite",
   "metadata": {},
   "outputs": [],
   "source": [
    "#unique(final_res1$Symbol)[93:200]"
   ]
  },
  {
   "cell_type": "code",
   "execution_count": 13,
   "id": "valuable-version",
   "metadata": {},
   "outputs": [
    {
     "data": {
      "text/html": [
       "<table>\n",
       "<caption>A data.frame: 1 × 2</caption>\n",
       "<thead>\n",
       "\t<tr><th></th><th scope=col>Symbol</th><th scope=col>GSM4041892</th></tr>\n",
       "\t<tr><th></th><th scope=col>&lt;chr&gt;</th><th scope=col>&lt;dbl&gt;</th></tr>\n",
       "</thead>\n",
       "<tbody>\n",
       "\t<tr><th scope=row>14677</th><td>GZMH</td><td>10.58033</td></tr>\n",
       "</tbody>\n",
       "</table>\n"
      ],
      "text/latex": [
       "A data.frame: 1 × 2\n",
       "\\begin{tabular}{r|ll}\n",
       "  & Symbol & GSM4041892\\\\\n",
       "  & <chr> & <dbl>\\\\\n",
       "\\hline\n",
       "\t14677 & GZMH & 10.58033\\\\\n",
       "\\end{tabular}\n"
      ],
      "text/markdown": [
       "\n",
       "A data.frame: 1 × 2\n",
       "\n",
       "| <!--/--> | Symbol &lt;chr&gt; | GSM4041892 &lt;dbl&gt; |\n",
       "|---|---|---|\n",
       "| 14677 | GZMH | 10.58033 |\n",
       "\n"
      ],
      "text/plain": [
       "      Symbol GSM4041892\n",
       "14677 GZMH   10.58033  "
      ]
     },
     "metadata": {},
     "output_type": "display_data"
    }
   ],
   "source": [
    "final_res1[final_res1$Symbol == 'GZMH',]"
   ]
  },
  {
   "cell_type": "code",
   "execution_count": 14,
   "id": "august-corporation",
   "metadata": {},
   "outputs": [],
   "source": [
    "fn = \"neut_ab_titer_result.txt\"\n",
    "titer = fread(fn, data.table = F)"
   ]
  },
  {
   "cell_type": "code",
   "execution_count": 15,
   "id": "isolated-money",
   "metadata": {},
   "outputs": [
    {
     "data": {
      "text/html": [
       "<table>\n",
       "<caption>A data.frame: 6 × 19</caption>\n",
       "<thead>\n",
       "\t<tr><th></th><th scope=col>RESULT_ID</th><th scope=col>ARM_ACCESSION</th><th scope=col>BIOSAMPLE_ACCESSION</th><th scope=col>COMMENTS</th><th scope=col>EXPERIMENT_ACCESSION</th><th scope=col>EXPSAMPLE_ACCESSION</th><th scope=col>REPOSITORY_ACCESSION</th><th scope=col>REPOSITORY_NAME</th><th scope=col>STUDY_ACCESSION</th><th scope=col>STUDY_TIME_COLLECTED</th><th scope=col>STUDY_TIME_COLLECTED_UNIT</th><th scope=col>SUBJECT_ACCESSION</th><th scope=col>UNIT_PREFERRED</th><th scope=col>UNIT_REPORTED</th><th scope=col>VALUE_PREFERRED</th><th scope=col>VALUE_REPORTED</th><th scope=col>VIRUS_STRAIN_PREFERRED</th><th scope=col>VIRUS_STRAIN_REPORTED</th><th scope=col>WORKSPACE_ID</th></tr>\n",
       "\t<tr><th></th><th scope=col>&lt;int&gt;</th><th scope=col>&lt;chr&gt;</th><th scope=col>&lt;chr&gt;</th><th scope=col>&lt;lgl&gt;</th><th scope=col>&lt;chr&gt;</th><th scope=col>&lt;chr&gt;</th><th scope=col>&lt;lgl&gt;</th><th scope=col>&lt;lgl&gt;</th><th scope=col>&lt;chr&gt;</th><th scope=col>&lt;int&gt;</th><th scope=col>&lt;chr&gt;</th><th scope=col>&lt;chr&gt;</th><th scope=col>&lt;chr&gt;</th><th scope=col>&lt;chr&gt;</th><th scope=col>&lt;int&gt;</th><th scope=col>&lt;int&gt;</th><th scope=col>&lt;lgl&gt;</th><th scope=col>&lt;chr&gt;</th><th scope=col>&lt;int&gt;</th></tr>\n",
       "</thead>\n",
       "<tbody>\n",
       "\t<tr><th scope=row>1</th><td>797961</td><td>ARM5007</td><td>BS1028555</td><td>NA</td><td>EXP28324</td><td>ES1262501</td><td>NA</td><td>NA</td><td>SDY1529</td><td>0</td><td>Days</td><td>SUB205386</td><td>Antibody titer</td><td>Antibody titer</td><td>80</td><td>80</td><td>NA</td><td>YF-17D</td><td>6133</td></tr>\n",
       "\t<tr><th scope=row>2</th><td>797962</td><td>ARM5007</td><td>BS1028395</td><td>NA</td><td>EXP28324</td><td>ES1262502</td><td>NA</td><td>NA</td><td>SDY1529</td><td>0</td><td>Days</td><td>SUB205387</td><td>Antibody titer</td><td>Antibody titer</td><td>80</td><td>80</td><td>NA</td><td>YF-17D</td><td>6133</td></tr>\n",
       "\t<tr><th scope=row>3</th><td>797963</td><td>ARM5007</td><td>BS1028390</td><td>NA</td><td>EXP28324</td><td>ES1262503</td><td>NA</td><td>NA</td><td>SDY1529</td><td>0</td><td>Days</td><td>SUB205388</td><td>Antibody titer</td><td>Antibody titer</td><td>80</td><td>80</td><td>NA</td><td>YF-17D</td><td>6133</td></tr>\n",
       "\t<tr><th scope=row>4</th><td>797964</td><td>ARM5007</td><td>BS1028540</td><td>NA</td><td>EXP28324</td><td>ES1262504</td><td>NA</td><td>NA</td><td>SDY1529</td><td>0</td><td>Days</td><td>SUB205389</td><td>Antibody titer</td><td>Antibody titer</td><td>80</td><td>80</td><td>NA</td><td>YF-17D</td><td>6133</td></tr>\n",
       "\t<tr><th scope=row>5</th><td>797965</td><td>ARM5007</td><td>BS1028445</td><td>NA</td><td>EXP28324</td><td>ES1262505</td><td>NA</td><td>NA</td><td>SDY1529</td><td>0</td><td>Days</td><td>SUB205390</td><td>Antibody titer</td><td>Antibody titer</td><td>80</td><td>80</td><td>NA</td><td>YF-17D</td><td>6133</td></tr>\n",
       "\t<tr><th scope=row>6</th><td>797966</td><td>ARM5007</td><td>BS1028415</td><td>NA</td><td>EXP28324</td><td>ES1262506</td><td>NA</td><td>NA</td><td>SDY1529</td><td>0</td><td>Days</td><td>SUB205391</td><td>Antibody titer</td><td>Antibody titer</td><td>80</td><td>80</td><td>NA</td><td>YF-17D</td><td>6133</td></tr>\n",
       "</tbody>\n",
       "</table>\n"
      ],
      "text/latex": [
       "A data.frame: 6 × 19\n",
       "\\begin{tabular}{r|lllllllllllllllllll}\n",
       "  & RESULT\\_ID & ARM\\_ACCESSION & BIOSAMPLE\\_ACCESSION & COMMENTS & EXPERIMENT\\_ACCESSION & EXPSAMPLE\\_ACCESSION & REPOSITORY\\_ACCESSION & REPOSITORY\\_NAME & STUDY\\_ACCESSION & STUDY\\_TIME\\_COLLECTED & STUDY\\_TIME\\_COLLECTED\\_UNIT & SUBJECT\\_ACCESSION & UNIT\\_PREFERRED & UNIT\\_REPORTED & VALUE\\_PREFERRED & VALUE\\_REPORTED & VIRUS\\_STRAIN\\_PREFERRED & VIRUS\\_STRAIN\\_REPORTED & WORKSPACE\\_ID\\\\\n",
       "  & <int> & <chr> & <chr> & <lgl> & <chr> & <chr> & <lgl> & <lgl> & <chr> & <int> & <chr> & <chr> & <chr> & <chr> & <int> & <int> & <lgl> & <chr> & <int>\\\\\n",
       "\\hline\n",
       "\t1 & 797961 & ARM5007 & BS1028555 & NA & EXP28324 & ES1262501 & NA & NA & SDY1529 & 0 & Days & SUB205386 & Antibody titer & Antibody titer & 80 & 80 & NA & YF-17D & 6133\\\\\n",
       "\t2 & 797962 & ARM5007 & BS1028395 & NA & EXP28324 & ES1262502 & NA & NA & SDY1529 & 0 & Days & SUB205387 & Antibody titer & Antibody titer & 80 & 80 & NA & YF-17D & 6133\\\\\n",
       "\t3 & 797963 & ARM5007 & BS1028390 & NA & EXP28324 & ES1262503 & NA & NA & SDY1529 & 0 & Days & SUB205388 & Antibody titer & Antibody titer & 80 & 80 & NA & YF-17D & 6133\\\\\n",
       "\t4 & 797964 & ARM5007 & BS1028540 & NA & EXP28324 & ES1262504 & NA & NA & SDY1529 & 0 & Days & SUB205389 & Antibody titer & Antibody titer & 80 & 80 & NA & YF-17D & 6133\\\\\n",
       "\t5 & 797965 & ARM5007 & BS1028445 & NA & EXP28324 & ES1262505 & NA & NA & SDY1529 & 0 & Days & SUB205390 & Antibody titer & Antibody titer & 80 & 80 & NA & YF-17D & 6133\\\\\n",
       "\t6 & 797966 & ARM5007 & BS1028415 & NA & EXP28324 & ES1262506 & NA & NA & SDY1529 & 0 & Days & SUB205391 & Antibody titer & Antibody titer & 80 & 80 & NA & YF-17D & 6133\\\\\n",
       "\\end{tabular}\n"
      ],
      "text/markdown": [
       "\n",
       "A data.frame: 6 × 19\n",
       "\n",
       "| <!--/--> | RESULT_ID &lt;int&gt; | ARM_ACCESSION &lt;chr&gt; | BIOSAMPLE_ACCESSION &lt;chr&gt; | COMMENTS &lt;lgl&gt; | EXPERIMENT_ACCESSION &lt;chr&gt; | EXPSAMPLE_ACCESSION &lt;chr&gt; | REPOSITORY_ACCESSION &lt;lgl&gt; | REPOSITORY_NAME &lt;lgl&gt; | STUDY_ACCESSION &lt;chr&gt; | STUDY_TIME_COLLECTED &lt;int&gt; | STUDY_TIME_COLLECTED_UNIT &lt;chr&gt; | SUBJECT_ACCESSION &lt;chr&gt; | UNIT_PREFERRED &lt;chr&gt; | UNIT_REPORTED &lt;chr&gt; | VALUE_PREFERRED &lt;int&gt; | VALUE_REPORTED &lt;int&gt; | VIRUS_STRAIN_PREFERRED &lt;lgl&gt; | VIRUS_STRAIN_REPORTED &lt;chr&gt; | WORKSPACE_ID &lt;int&gt; |\n",
       "|---|---|---|---|---|---|---|---|---|---|---|---|---|---|---|---|---|---|---|---|\n",
       "| 1 | 797961 | ARM5007 | BS1028555 | NA | EXP28324 | ES1262501 | NA | NA | SDY1529 | 0 | Days | SUB205386 | Antibody titer | Antibody titer | 80 | 80 | NA | YF-17D | 6133 |\n",
       "| 2 | 797962 | ARM5007 | BS1028395 | NA | EXP28324 | ES1262502 | NA | NA | SDY1529 | 0 | Days | SUB205387 | Antibody titer | Antibody titer | 80 | 80 | NA | YF-17D | 6133 |\n",
       "| 3 | 797963 | ARM5007 | BS1028390 | NA | EXP28324 | ES1262503 | NA | NA | SDY1529 | 0 | Days | SUB205388 | Antibody titer | Antibody titer | 80 | 80 | NA | YF-17D | 6133 |\n",
       "| 4 | 797964 | ARM5007 | BS1028540 | NA | EXP28324 | ES1262504 | NA | NA | SDY1529 | 0 | Days | SUB205389 | Antibody titer | Antibody titer | 80 | 80 | NA | YF-17D | 6133 |\n",
       "| 5 | 797965 | ARM5007 | BS1028445 | NA | EXP28324 | ES1262505 | NA | NA | SDY1529 | 0 | Days | SUB205390 | Antibody titer | Antibody titer | 80 | 80 | NA | YF-17D | 6133 |\n",
       "| 6 | 797966 | ARM5007 | BS1028415 | NA | EXP28324 | ES1262506 | NA | NA | SDY1529 | 0 | Days | SUB205391 | Antibody titer | Antibody titer | 80 | 80 | NA | YF-17D | 6133 |\n",
       "\n"
      ],
      "text/plain": [
       "  RESULT_ID ARM_ACCESSION BIOSAMPLE_ACCESSION COMMENTS EXPERIMENT_ACCESSION\n",
       "1 797961    ARM5007       BS1028555           NA       EXP28324            \n",
       "2 797962    ARM5007       BS1028395           NA       EXP28324            \n",
       "3 797963    ARM5007       BS1028390           NA       EXP28324            \n",
       "4 797964    ARM5007       BS1028540           NA       EXP28324            \n",
       "5 797965    ARM5007       BS1028445           NA       EXP28324            \n",
       "6 797966    ARM5007       BS1028415           NA       EXP28324            \n",
       "  EXPSAMPLE_ACCESSION REPOSITORY_ACCESSION REPOSITORY_NAME STUDY_ACCESSION\n",
       "1 ES1262501           NA                   NA              SDY1529        \n",
       "2 ES1262502           NA                   NA              SDY1529        \n",
       "3 ES1262503           NA                   NA              SDY1529        \n",
       "4 ES1262504           NA                   NA              SDY1529        \n",
       "5 ES1262505           NA                   NA              SDY1529        \n",
       "6 ES1262506           NA                   NA              SDY1529        \n",
       "  STUDY_TIME_COLLECTED STUDY_TIME_COLLECTED_UNIT SUBJECT_ACCESSION\n",
       "1 0                    Days                      SUB205386        \n",
       "2 0                    Days                      SUB205387        \n",
       "3 0                    Days                      SUB205388        \n",
       "4 0                    Days                      SUB205389        \n",
       "5 0                    Days                      SUB205390        \n",
       "6 0                    Days                      SUB205391        \n",
       "  UNIT_PREFERRED UNIT_REPORTED  VALUE_PREFERRED VALUE_REPORTED\n",
       "1 Antibody titer Antibody titer 80              80            \n",
       "2 Antibody titer Antibody titer 80              80            \n",
       "3 Antibody titer Antibody titer 80              80            \n",
       "4 Antibody titer Antibody titer 80              80            \n",
       "5 Antibody titer Antibody titer 80              80            \n",
       "6 Antibody titer Antibody titer 80              80            \n",
       "  VIRUS_STRAIN_PREFERRED VIRUS_STRAIN_REPORTED WORKSPACE_ID\n",
       "1 NA                     YF-17D                6133        \n",
       "2 NA                     YF-17D                6133        \n",
       "3 NA                     YF-17D                6133        \n",
       "4 NA                     YF-17D                6133        \n",
       "5 NA                     YF-17D                6133        \n",
       "6 NA                     YF-17D                6133        "
      ]
     },
     "metadata": {},
     "output_type": "display_data"
    }
   ],
   "source": [
    "head(titer)"
   ]
  },
  {
   "cell_type": "code",
   "execution_count": 16,
   "id": "trying-toyota",
   "metadata": {},
   "outputs": [],
   "source": [
    "titer1 = titer[, c(\"BIOSAMPLE_ACCESSION\", \"EXPSAMPLE_ACCESSION\", \"SUBJECT_ACCESSION\", \"STUDY_TIME_COLLECTED\", \"VALUE_PREFERRED\")]"
   ]
  },
  {
   "cell_type": "code",
   "execution_count": 17,
   "id": "anonymous-harvey",
   "metadata": {},
   "outputs": [
    {
     "data": {
      "text/html": [
       "<table>\n",
       "<caption>A data.frame: 6 × 7</caption>\n",
       "<thead>\n",
       "\t<tr><th></th><th scope=col>RESULT_ID</th><th scope=col>EXPSAMPLE_ACCESSION</th><th scope=col>REPOSITORY_ACCESSION</th><th scope=col>REPOSITORY_NAME</th><th scope=col>BIOSAMPLE_ACCESSION</th><th scope=col>SUBJECT_ACCESSION</th><th scope=col>STUDY_ACCESSION</th></tr>\n",
       "\t<tr><th></th><th scope=col>&lt;int&gt;</th><th scope=col>&lt;chr&gt;</th><th scope=col>&lt;chr&gt;</th><th scope=col>&lt;chr&gt;</th><th scope=col>&lt;chr&gt;</th><th scope=col>&lt;chr&gt;</th><th scope=col>&lt;chr&gt;</th></tr>\n",
       "</thead>\n",
       "<tbody>\n",
       "\t<tr><th scope=row>1</th><td>46870</td><td>ES1262321</td><td>GSM3584982</td><td>GEO</td><td>BS1028390</td><td>SUB205388</td><td>SDY1529</td></tr>\n",
       "\t<tr><th scope=row>2</th><td>46871</td><td>ES1262322</td><td>GSM4041840</td><td>GEO</td><td>BS1028391</td><td>SUB205388</td><td>SDY1529</td></tr>\n",
       "\t<tr><th scope=row>3</th><td>46872</td><td>ES1262323</td><td>GSM4041838</td><td>GEO</td><td>BS1028392</td><td>SUB205388</td><td>SDY1529</td></tr>\n",
       "\t<tr><th scope=row>4</th><td>46873</td><td>ES1262324</td><td>GSM4041839</td><td>GEO</td><td>BS1028393</td><td>SUB205388</td><td>SDY1529</td></tr>\n",
       "\t<tr><th scope=row>5</th><td>46874</td><td>ES1262325</td><td>GSM4041841</td><td>GEO</td><td>BS1028394</td><td>SUB205388</td><td>SDY1529</td></tr>\n",
       "\t<tr><th scope=row>6</th><td>46875</td><td>ES1262326</td><td>GSM3584991</td><td>GEO</td><td>BS1028395</td><td>SUB205387</td><td>SDY1529</td></tr>\n",
       "</tbody>\n",
       "</table>\n"
      ],
      "text/latex": [
       "A data.frame: 6 × 7\n",
       "\\begin{tabular}{r|lllllll}\n",
       "  & RESULT\\_ID & EXPSAMPLE\\_ACCESSION & REPOSITORY\\_ACCESSION & REPOSITORY\\_NAME & BIOSAMPLE\\_ACCESSION & SUBJECT\\_ACCESSION & STUDY\\_ACCESSION\\\\\n",
       "  & <int> & <chr> & <chr> & <chr> & <chr> & <chr> & <chr>\\\\\n",
       "\\hline\n",
       "\t1 & 46870 & ES1262321 & GSM3584982 & GEO & BS1028390 & SUB205388 & SDY1529\\\\\n",
       "\t2 & 46871 & ES1262322 & GSM4041840 & GEO & BS1028391 & SUB205388 & SDY1529\\\\\n",
       "\t3 & 46872 & ES1262323 & GSM4041838 & GEO & BS1028392 & SUB205388 & SDY1529\\\\\n",
       "\t4 & 46873 & ES1262324 & GSM4041839 & GEO & BS1028393 & SUB205388 & SDY1529\\\\\n",
       "\t5 & 46874 & ES1262325 & GSM4041841 & GEO & BS1028394 & SUB205388 & SDY1529\\\\\n",
       "\t6 & 46875 & ES1262326 & GSM3584991 & GEO & BS1028395 & SUB205387 & SDY1529\\\\\n",
       "\\end{tabular}\n"
      ],
      "text/markdown": [
       "\n",
       "A data.frame: 6 × 7\n",
       "\n",
       "| <!--/--> | RESULT_ID &lt;int&gt; | EXPSAMPLE_ACCESSION &lt;chr&gt; | REPOSITORY_ACCESSION &lt;chr&gt; | REPOSITORY_NAME &lt;chr&gt; | BIOSAMPLE_ACCESSION &lt;chr&gt; | SUBJECT_ACCESSION &lt;chr&gt; | STUDY_ACCESSION &lt;chr&gt; |\n",
       "|---|---|---|---|---|---|---|---|\n",
       "| 1 | 46870 | ES1262321 | GSM3584982 | GEO | BS1028390 | SUB205388 | SDY1529 |\n",
       "| 2 | 46871 | ES1262322 | GSM4041840 | GEO | BS1028391 | SUB205388 | SDY1529 |\n",
       "| 3 | 46872 | ES1262323 | GSM4041838 | GEO | BS1028392 | SUB205388 | SDY1529 |\n",
       "| 4 | 46873 | ES1262324 | GSM4041839 | GEO | BS1028393 | SUB205388 | SDY1529 |\n",
       "| 5 | 46874 | ES1262325 | GSM4041841 | GEO | BS1028394 | SUB205388 | SDY1529 |\n",
       "| 6 | 46875 | ES1262326 | GSM3584991 | GEO | BS1028395 | SUB205387 | SDY1529 |\n",
       "\n"
      ],
      "text/plain": [
       "  RESULT_ID EXPSAMPLE_ACCESSION REPOSITORY_ACCESSION REPOSITORY_NAME\n",
       "1 46870     ES1262321           GSM3584982           GEO            \n",
       "2 46871     ES1262322           GSM4041840           GEO            \n",
       "3 46872     ES1262323           GSM4041838           GEO            \n",
       "4 46873     ES1262324           GSM4041839           GEO            \n",
       "5 46874     ES1262325           GSM4041841           GEO            \n",
       "6 46875     ES1262326           GSM3584991           GEO            \n",
       "  BIOSAMPLE_ACCESSION SUBJECT_ACCESSION STUDY_ACCESSION\n",
       "1 BS1028390           SUB205388         SDY1529        \n",
       "2 BS1028391           SUB205388         SDY1529        \n",
       "3 BS1028392           SUB205388         SDY1529        \n",
       "4 BS1028393           SUB205388         SDY1529        \n",
       "5 BS1028394           SUB205388         SDY1529        \n",
       "6 BS1028395           SUB205387         SDY1529        "
      ]
     },
     "metadata": {},
     "output_type": "display_data"
    }
   ],
   "source": [
    "head(pub_repos2)"
   ]
  },
  {
   "cell_type": "code",
   "execution_count": 18,
   "id": "right-lindsay",
   "metadata": {},
   "outputs": [],
   "source": [
    "repos_titer = titer1%>%inner_join(pub_repos2[,c(\"EXPSAMPLE_ACCESSION\", \"REPOSITORY_ACCESSION\", \"BIOSAMPLE_ACCESSION\", \"SUBJECT_ACCESSION\")], by=c(\"BIOSAMPLE_ACCESSION\", \"SUBJECT_ACCESSION\"))"
   ]
  },
  {
   "cell_type": "code",
   "execution_count": 19,
   "id": "fancy-appraisal",
   "metadata": {},
   "outputs": [
    {
     "data": {
      "text/html": [
       "<table>\n",
       "<caption>A data.frame: 6 × 7</caption>\n",
       "<thead>\n",
       "\t<tr><th></th><th scope=col>BIOSAMPLE_ACCESSION</th><th scope=col>EXPSAMPLE_ACCESSION.x</th><th scope=col>SUBJECT_ACCESSION</th><th scope=col>STUDY_TIME_COLLECTED</th><th scope=col>VALUE_PREFERRED</th><th scope=col>EXPSAMPLE_ACCESSION.y</th><th scope=col>REPOSITORY_ACCESSION</th></tr>\n",
       "\t<tr><th></th><th scope=col>&lt;chr&gt;</th><th scope=col>&lt;chr&gt;</th><th scope=col>&lt;chr&gt;</th><th scope=col>&lt;int&gt;</th><th scope=col>&lt;int&gt;</th><th scope=col>&lt;chr&gt;</th><th scope=col>&lt;chr&gt;</th></tr>\n",
       "</thead>\n",
       "<tbody>\n",
       "\t<tr><th scope=row>1</th><td>BS1028555</td><td>ES1262501</td><td>SUB205386</td><td>0</td><td>80</td><td>ES1262486</td><td>GSM3584988</td></tr>\n",
       "\t<tr><th scope=row>2</th><td>BS1028395</td><td>ES1262502</td><td>SUB205387</td><td>0</td><td>80</td><td>ES1262326</td><td>GSM3584991</td></tr>\n",
       "\t<tr><th scope=row>3</th><td>BS1028390</td><td>ES1262503</td><td>SUB205388</td><td>0</td><td>80</td><td>ES1262321</td><td>GSM3584982</td></tr>\n",
       "\t<tr><th scope=row>4</th><td>BS1028540</td><td>ES1262504</td><td>SUB205389</td><td>0</td><td>80</td><td>ES1262471</td><td>GSM3584985</td></tr>\n",
       "\t<tr><th scope=row>5</th><td>BS1028445</td><td>ES1262505</td><td>SUB205390</td><td>0</td><td>80</td><td>ES1262376</td><td>GSM3584983</td></tr>\n",
       "\t<tr><th scope=row>6</th><td>BS1028415</td><td>ES1262506</td><td>SUB205391</td><td>0</td><td>80</td><td>ES1262346</td><td>GSM3584995</td></tr>\n",
       "</tbody>\n",
       "</table>\n"
      ],
      "text/latex": [
       "A data.frame: 6 × 7\n",
       "\\begin{tabular}{r|lllllll}\n",
       "  & BIOSAMPLE\\_ACCESSION & EXPSAMPLE\\_ACCESSION.x & SUBJECT\\_ACCESSION & STUDY\\_TIME\\_COLLECTED & VALUE\\_PREFERRED & EXPSAMPLE\\_ACCESSION.y & REPOSITORY\\_ACCESSION\\\\\n",
       "  & <chr> & <chr> & <chr> & <int> & <int> & <chr> & <chr>\\\\\n",
       "\\hline\n",
       "\t1 & BS1028555 & ES1262501 & SUB205386 & 0 & 80 & ES1262486 & GSM3584988\\\\\n",
       "\t2 & BS1028395 & ES1262502 & SUB205387 & 0 & 80 & ES1262326 & GSM3584991\\\\\n",
       "\t3 & BS1028390 & ES1262503 & SUB205388 & 0 & 80 & ES1262321 & GSM3584982\\\\\n",
       "\t4 & BS1028540 & ES1262504 & SUB205389 & 0 & 80 & ES1262471 & GSM3584985\\\\\n",
       "\t5 & BS1028445 & ES1262505 & SUB205390 & 0 & 80 & ES1262376 & GSM3584983\\\\\n",
       "\t6 & BS1028415 & ES1262506 & SUB205391 & 0 & 80 & ES1262346 & GSM3584995\\\\\n",
       "\\end{tabular}\n"
      ],
      "text/markdown": [
       "\n",
       "A data.frame: 6 × 7\n",
       "\n",
       "| <!--/--> | BIOSAMPLE_ACCESSION &lt;chr&gt; | EXPSAMPLE_ACCESSION.x &lt;chr&gt; | SUBJECT_ACCESSION &lt;chr&gt; | STUDY_TIME_COLLECTED &lt;int&gt; | VALUE_PREFERRED &lt;int&gt; | EXPSAMPLE_ACCESSION.y &lt;chr&gt; | REPOSITORY_ACCESSION &lt;chr&gt; |\n",
       "|---|---|---|---|---|---|---|---|\n",
       "| 1 | BS1028555 | ES1262501 | SUB205386 | 0 | 80 | ES1262486 | GSM3584988 |\n",
       "| 2 | BS1028395 | ES1262502 | SUB205387 | 0 | 80 | ES1262326 | GSM3584991 |\n",
       "| 3 | BS1028390 | ES1262503 | SUB205388 | 0 | 80 | ES1262321 | GSM3584982 |\n",
       "| 4 | BS1028540 | ES1262504 | SUB205389 | 0 | 80 | ES1262471 | GSM3584985 |\n",
       "| 5 | BS1028445 | ES1262505 | SUB205390 | 0 | 80 | ES1262376 | GSM3584983 |\n",
       "| 6 | BS1028415 | ES1262506 | SUB205391 | 0 | 80 | ES1262346 | GSM3584995 |\n",
       "\n"
      ],
      "text/plain": [
       "  BIOSAMPLE_ACCESSION EXPSAMPLE_ACCESSION.x SUBJECT_ACCESSION\n",
       "1 BS1028555           ES1262501             SUB205386        \n",
       "2 BS1028395           ES1262502             SUB205387        \n",
       "3 BS1028390           ES1262503             SUB205388        \n",
       "4 BS1028540           ES1262504             SUB205389        \n",
       "5 BS1028445           ES1262505             SUB205390        \n",
       "6 BS1028415           ES1262506             SUB205391        \n",
       "  STUDY_TIME_COLLECTED VALUE_PREFERRED EXPSAMPLE_ACCESSION.y\n",
       "1 0                    80              ES1262486            \n",
       "2 0                    80              ES1262326            \n",
       "3 0                    80              ES1262321            \n",
       "4 0                    80              ES1262471            \n",
       "5 0                    80              ES1262376            \n",
       "6 0                    80              ES1262346            \n",
       "  REPOSITORY_ACCESSION\n",
       "1 GSM3584988          \n",
       "2 GSM3584991          \n",
       "3 GSM3584982          \n",
       "4 GSM3584985          \n",
       "5 GSM3584983          \n",
       "6 GSM3584995          "
      ]
     },
     "metadata": {},
     "output_type": "display_data"
    }
   ],
   "source": [
    "head(repos_titer)"
   ]
  },
  {
   "cell_type": "code",
   "execution_count": 49,
   "id": "level-gender",
   "metadata": {},
   "outputs": [
    {
     "data": {
      "text/html": [
       "<style>\n",
       ".list-inline {list-style: none; margin:0; padding: 0}\n",
       ".list-inline>li {display: inline-block}\n",
       ".list-inline>li:not(:last-child)::after {content: \"\\00b7\"; padding: 0 .5ex}\n",
       "</style>\n",
       "<ol class=list-inline><li>'BIOSAMPLE_ACCESSION'</li><li>'EXPSAMPLE_ACCESSION.x'</li><li>'SUBJECT_ACCESSION'</li><li>'STUDY_TIME_COLLECTED'</li><li>'VALUE_PREFERRED'</li><li>'EXPSAMPLE_ACCESSION.y'</li><li>'REPOSITORY_ACCESSION'</li></ol>\n"
      ],
      "text/latex": [
       "\\begin{enumerate*}\n",
       "\\item 'BIOSAMPLE\\_ACCESSION'\n",
       "\\item 'EXPSAMPLE\\_ACCESSION.x'\n",
       "\\item 'SUBJECT\\_ACCESSION'\n",
       "\\item 'STUDY\\_TIME\\_COLLECTED'\n",
       "\\item 'VALUE\\_PREFERRED'\n",
       "\\item 'EXPSAMPLE\\_ACCESSION.y'\n",
       "\\item 'REPOSITORY\\_ACCESSION'\n",
       "\\end{enumerate*}\n"
      ],
      "text/markdown": [
       "1. 'BIOSAMPLE_ACCESSION'\n",
       "2. 'EXPSAMPLE_ACCESSION.x'\n",
       "3. 'SUBJECT_ACCESSION'\n",
       "4. 'STUDY_TIME_COLLECTED'\n",
       "5. 'VALUE_PREFERRED'\n",
       "6. 'EXPSAMPLE_ACCESSION.y'\n",
       "7. 'REPOSITORY_ACCESSION'\n",
       "\n",
       "\n"
      ],
      "text/plain": [
       "[1] \"BIOSAMPLE_ACCESSION\"   \"EXPSAMPLE_ACCESSION.x\" \"SUBJECT_ACCESSION\"    \n",
       "[4] \"STUDY_TIME_COLLECTED\"  \"VALUE_PREFERRED\"       \"EXPSAMPLE_ACCESSION.y\"\n",
       "[7] \"REPOSITORY_ACCESSION\" "
      ]
     },
     "metadata": {},
     "output_type": "display_data"
    }
   ],
   "source": [
    "colnames(repos_titer)"
   ]
  },
  {
   "cell_type": "code",
   "execution_count": 20,
   "id": "magnetic-quantum",
   "metadata": {},
   "outputs": [
    {
     "data": {
      "text/html": [
       "72"
      ],
      "text/latex": [
       "72"
      ],
      "text/markdown": [
       "72"
      ],
      "text/plain": [
       "[1] 72"
      ]
     },
     "metadata": {},
     "output_type": "display_data"
    }
   ],
   "source": [
    "length(repos_titer$REPOSITORY_ACCESSION)"
   ]
  },
  {
   "cell_type": "code",
   "execution_count": 23,
   "id": "adapted-session",
   "metadata": {},
   "outputs": [],
   "source": [
    "#gs = getGEO('GSM4041971', getGPL=FALSE)"
   ]
  },
  {
   "cell_type": "code",
   "execution_count": 24,
   "id": "directed-bonus",
   "metadata": {},
   "outputs": [],
   "source": [
    "#gex = gs@dataTable@table[,1:2]"
   ]
  },
  {
   "cell_type": "code",
   "execution_count": 30,
   "id": "healthy-rough",
   "metadata": {},
   "outputs": [],
   "source": [
    "#gex[gex$ID_REF == \"GZMH\", ]"
   ]
  },
  {
   "cell_type": "code",
   "execution_count": 29,
   "id": "nuclear-patch",
   "metadata": {},
   "outputs": [],
   "source": [
    "#platform_char = gs@header$platform_id"
   ]
  },
  {
   "cell_type": "code",
   "execution_count": 55,
   "id": "stopped-chair",
   "metadata": {},
   "outputs": [],
   "source": [
    "#platform_obj = getGEO(platform_char, getGPL=FALSE)\n",
    "#platform = platform_obj@dataTable@table"
   ]
  },
  {
   "cell_type": "code",
   "execution_count": 31,
   "id": "loose-november",
   "metadata": {},
   "outputs": [],
   "source": [
    "#names(platform)[grepl(\"Symbol\", names(platform))] = \"Symbol\"\n",
    "#platform = platform[,c(\"ID\",\"Symbol\")]\n",
    "\n",
    "#gen_pro= gex%>%inner_join(platform, by=c(\"ID_REF\"=\"ID\"))      "
   ]
  },
  {
   "cell_type": "code",
   "execution_count": 32,
   "id": "latest-museum",
   "metadata": {},
   "outputs": [
    {
     "data": {
      "text/html": [
       "<table>\n",
       "<caption>A data.frame: 6 × 3</caption>\n",
       "<thead>\n",
       "\t<tr><th></th><th scope=col>ID_REF</th><th scope=col>VALUE</th><th scope=col>Symbol</th></tr>\n",
       "\t<tr><th></th><th scope=col>&lt;chr&gt;</th><th scope=col>&lt;dbl&gt;</th><th scope=col>&lt;chr&gt;</th></tr>\n",
       "</thead>\n",
       "<tbody>\n",
       "\t<tr><th scope=row>1</th><td>ILMN_3166687</td><td>6.446268</td><td>ERCC-00162</td></tr>\n",
       "\t<tr><th scope=row>2</th><td>ILMN_3165565</td><td>6.446268</td><td>ERCC-00071</td></tr>\n",
       "\t<tr><th scope=row>3</th><td>ILMN_3164808</td><td>6.461869</td><td>ERCC-00009</td></tr>\n",
       "\t<tr><th scope=row>4</th><td>ILMN_3165363</td><td>6.349310</td><td>ERCC-00053</td></tr>\n",
       "\t<tr><th scope=row>5</th><td>ILMN_3166504</td><td>6.413672</td><td>ERCC-00144</td></tr>\n",
       "\t<tr><th scope=row>6</th><td>ILMN_3164750</td><td>6.430380</td><td>ERCC-00003</td></tr>\n",
       "</tbody>\n",
       "</table>\n"
      ],
      "text/latex": [
       "A data.frame: 6 × 3\n",
       "\\begin{tabular}{r|lll}\n",
       "  & ID\\_REF & VALUE & Symbol\\\\\n",
       "  & <chr> & <dbl> & <chr>\\\\\n",
       "\\hline\n",
       "\t1 & ILMN\\_3166687 & 6.446268 & ERCC-00162\\\\\n",
       "\t2 & ILMN\\_3165565 & 6.446268 & ERCC-00071\\\\\n",
       "\t3 & ILMN\\_3164808 & 6.461869 & ERCC-00009\\\\\n",
       "\t4 & ILMN\\_3165363 & 6.349310 & ERCC-00053\\\\\n",
       "\t5 & ILMN\\_3166504 & 6.413672 & ERCC-00144\\\\\n",
       "\t6 & ILMN\\_3164750 & 6.430380 & ERCC-00003\\\\\n",
       "\\end{tabular}\n"
      ],
      "text/markdown": [
       "\n",
       "A data.frame: 6 × 3\n",
       "\n",
       "| <!--/--> | ID_REF &lt;chr&gt; | VALUE &lt;dbl&gt; | Symbol &lt;chr&gt; |\n",
       "|---|---|---|---|\n",
       "| 1 | ILMN_3166687 | 6.446268 | ERCC-00162 |\n",
       "| 2 | ILMN_3165565 | 6.446268 | ERCC-00071 |\n",
       "| 3 | ILMN_3164808 | 6.461869 | ERCC-00009 |\n",
       "| 4 | ILMN_3165363 | 6.349310 | ERCC-00053 |\n",
       "| 5 | ILMN_3166504 | 6.413672 | ERCC-00144 |\n",
       "| 6 | ILMN_3164750 | 6.430380 | ERCC-00003 |\n",
       "\n"
      ],
      "text/plain": [
       "  ID_REF       VALUE    Symbol    \n",
       "1 ILMN_3166687 6.446268 ERCC-00162\n",
       "2 ILMN_3165565 6.446268 ERCC-00071\n",
       "3 ILMN_3164808 6.461869 ERCC-00009\n",
       "4 ILMN_3165363 6.349310 ERCC-00053\n",
       "5 ILMN_3166504 6.413672 ERCC-00144\n",
       "6 ILMN_3164750 6.430380 ERCC-00003"
      ]
     },
     "metadata": {},
     "output_type": "display_data"
    }
   ],
   "source": [
    "#head(gen_pro)"
   ]
  },
  {
   "cell_type": "code",
   "execution_count": 33,
   "id": "supposed-integer",
   "metadata": {},
   "outputs": [],
   "source": [
    "#gene_profs = gen_pro[ ,c(\"Symbol\",\"VALUE\")]\n",
    "#gene_profs = gene_profs[!(gene_profs$Symbol == \"---\" | gene_profs$Symbol == \"\"), ]"
   ]
  },
  {
   "cell_type": "code",
   "execution_count": 34,
   "id": "alternative-virus",
   "metadata": {},
   "outputs": [
    {
     "data": {
      "text/html": [
       "<table>\n",
       "<caption>A data.frame: 6 × 2</caption>\n",
       "<thead>\n",
       "\t<tr><th></th><th scope=col>Symbol</th><th scope=col>VALUE</th></tr>\n",
       "\t<tr><th></th><th scope=col>&lt;chr&gt;</th><th scope=col>&lt;dbl&gt;</th></tr>\n",
       "</thead>\n",
       "<tbody>\n",
       "\t<tr><th scope=row>1</th><td>ERCC-00162</td><td>6.446268</td></tr>\n",
       "\t<tr><th scope=row>2</th><td>ERCC-00071</td><td>6.446268</td></tr>\n",
       "\t<tr><th scope=row>3</th><td>ERCC-00009</td><td>6.461869</td></tr>\n",
       "\t<tr><th scope=row>4</th><td>ERCC-00053</td><td>6.349310</td></tr>\n",
       "\t<tr><th scope=row>5</th><td>ERCC-00144</td><td>6.413672</td></tr>\n",
       "\t<tr><th scope=row>6</th><td>ERCC-00003</td><td>6.430380</td></tr>\n",
       "</tbody>\n",
       "</table>\n"
      ],
      "text/latex": [
       "A data.frame: 6 × 2\n",
       "\\begin{tabular}{r|ll}\n",
       "  & Symbol & VALUE\\\\\n",
       "  & <chr> & <dbl>\\\\\n",
       "\\hline\n",
       "\t1 & ERCC-00162 & 6.446268\\\\\n",
       "\t2 & ERCC-00071 & 6.446268\\\\\n",
       "\t3 & ERCC-00009 & 6.461869\\\\\n",
       "\t4 & ERCC-00053 & 6.349310\\\\\n",
       "\t5 & ERCC-00144 & 6.413672\\\\\n",
       "\t6 & ERCC-00003 & 6.430380\\\\\n",
       "\\end{tabular}\n"
      ],
      "text/markdown": [
       "\n",
       "A data.frame: 6 × 2\n",
       "\n",
       "| <!--/--> | Symbol &lt;chr&gt; | VALUE &lt;dbl&gt; |\n",
       "|---|---|---|\n",
       "| 1 | ERCC-00162 | 6.446268 |\n",
       "| 2 | ERCC-00071 | 6.446268 |\n",
       "| 3 | ERCC-00009 | 6.461869 |\n",
       "| 4 | ERCC-00053 | 6.349310 |\n",
       "| 5 | ERCC-00144 | 6.413672 |\n",
       "| 6 | ERCC-00003 | 6.430380 |\n",
       "\n"
      ],
      "text/plain": [
       "  Symbol     VALUE   \n",
       "1 ERCC-00162 6.446268\n",
       "2 ERCC-00071 6.446268\n",
       "3 ERCC-00009 6.461869\n",
       "4 ERCC-00053 6.349310\n",
       "5 ERCC-00144 6.413672\n",
       "6 ERCC-00003 6.430380"
      ]
     },
     "metadata": {},
     "output_type": "display_data"
    }
   ],
   "source": [
    "#head(gene_profs)"
   ]
  },
  {
   "cell_type": "code",
   "execution_count": 44,
   "id": "boolean-thong",
   "metadata": {},
   "outputs": [
    {
     "data": {
      "text/html": [
       "<table>\n",
       "<caption>A data.frame: 1 × 2</caption>\n",
       "<thead>\n",
       "\t<tr><th></th><th scope=col>Symbol</th><th scope=col>VALUE</th></tr>\n",
       "\t<tr><th></th><th scope=col>&lt;chr&gt;</th><th scope=col>&lt;dbl&gt;</th></tr>\n",
       "</thead>\n",
       "<tbody>\n",
       "\t<tr><th scope=row>14677</th><td>GZMH</td><td>9.713595</td></tr>\n",
       "</tbody>\n",
       "</table>\n"
      ],
      "text/latex": [
       "A data.frame: 1 × 2\n",
       "\\begin{tabular}{r|ll}\n",
       "  & Symbol & VALUE\\\\\n",
       "  & <chr> & <dbl>\\\\\n",
       "\\hline\n",
       "\t14677 & GZMH & 9.713595\\\\\n",
       "\\end{tabular}\n"
      ],
      "text/markdown": [
       "\n",
       "A data.frame: 1 × 2\n",
       "\n",
       "| <!--/--> | Symbol &lt;chr&gt; | VALUE &lt;dbl&gt; |\n",
       "|---|---|---|\n",
       "| 14677 | GZMH | 9.713595 |\n",
       "\n"
      ],
      "text/plain": [
       "      Symbol VALUE   \n",
       "14677 GZMH   9.713595"
      ]
     },
     "metadata": {},
     "output_type": "display_data"
    }
   ],
   "source": [
    "#gene_profs[gene_profs$Symbol == 'GZMH',]#[1], [2]"
   ]
  },
  {
   "cell_type": "code",
   "execution_count": 77,
   "id": "living-sherman",
   "metadata": {},
   "outputs": [],
   "source": [
    "gpl_dict = dict()"
   ]
  },
  {
   "cell_type": "code",
   "execution_count": 78,
   "id": "determined-imperial",
   "metadata": {},
   "outputs": [],
   "source": [
    "x = c('REPOSITORY_ACCESSION', 'BIOSAMPLE_ACCESSION', 'EXPSAMPLE_ACCESSION', \n",
    "      'SUBJECT_ACCESSION', 'STUDY_TIME_COLLECTED', 'GENE_VALUE', 'VALUE_PREFERRED')\n",
    "df = data.frame(matrix(ncol = 9, nrow = 0))\n",
    "colnames(df) = x"
   ]
  },
  {
   "cell_type": "code",
   "execution_count": 79,
   "id": "charming-retreat",
   "metadata": {},
   "outputs": [
    {
     "name": "stderr",
     "output_type": "stream",
     "text": [
      "Using locally cached version of GSM3584988 found here:\n",
      "/tmp/RtmpL2iCBG/GSM3584988.soft \n",
      "Using locally cached version of GPL10558 found here:\n",
      "/tmp/RtmpL2iCBG/GPL10558.soft \n",
      "Warning message:\n",
      "“3270 parsing failures.\n",
      "  row        col           expected    actual         file\n",
      "29537 Unigene_ID 1/0/T/F/TRUE/FALSE Hs.571610 literal data\n",
      "29538 Unigene_ID 1/0/T/F/TRUE/FALSE Hs.545780 literal data\n",
      "29539 Unigene_ID 1/0/T/F/TRUE/FALSE Hs.554603 literal data\n",
      "29540 Unigene_ID 1/0/T/F/TRUE/FALSE Hs.437179 literal data\n",
      "29541 Unigene_ID 1/0/T/F/TRUE/FALSE Hs.128234 literal data\n",
      "..... .......... .................. ......... ............\n",
      "See problems(...) for more details.\n",
      "”Using locally cached version of GSM3584991 found here:\n",
      "/tmp/RtmpL2iCBG/GSM3584991.soft \n",
      "Using locally cached version of GSM3584982 found here:\n",
      "/tmp/RtmpL2iCBG/GSM3584982.soft \n",
      "Using locally cached version of GSM3584985 found here:\n",
      "/tmp/RtmpL2iCBG/GSM3584985.soft \n",
      "Using locally cached version of GSM3584983 found here:\n",
      "/tmp/RtmpL2iCBG/GSM3584983.soft \n",
      "Using locally cached version of GSM3584995 found here:\n",
      "/tmp/RtmpL2iCBG/GSM3584995.soft \n",
      "Using locally cached version of GSM3585007 found here:\n",
      "/tmp/RtmpL2iCBG/GSM3585007.soft \n",
      "Using locally cached version of GSM3584992 found here:\n",
      "/tmp/RtmpL2iCBG/GSM3584992.soft \n",
      "Using locally cached version of GSM3584984 found here:\n",
      "/tmp/RtmpL2iCBG/GSM3584984.soft \n",
      "Using locally cached version of GSM3585015 found here:\n",
      "/tmp/RtmpL2iCBG/GSM3585015.soft \n",
      "Using locally cached version of GSM3584999 found here:\n",
      "/tmp/RtmpL2iCBG/GSM3584999.soft \n",
      "Using locally cached version of GSM3585016 found here:\n",
      "/tmp/RtmpL2iCBG/GSM3585016.soft \n",
      "Using locally cached version of GSM3585009 found here:\n",
      "/tmp/RtmpL2iCBG/GSM3585009.soft \n",
      "Using locally cached version of GSM3584993 found here:\n",
      "/tmp/RtmpL2iCBG/GSM3584993.soft \n",
      "Using locally cached version of GSM3584987 found here:\n",
      "/tmp/RtmpL2iCBG/GSM3584987.soft \n",
      "Using locally cached version of GSM3584990 found here:\n",
      "/tmp/RtmpL2iCBG/GSM3584990.soft \n",
      "Using locally cached version of GSM3584986 found here:\n",
      "/tmp/RtmpL2iCBG/GSM3584986.soft \n",
      "Using locally cached version of GSM3585008 found here:\n",
      "/tmp/RtmpL2iCBG/GSM3585008.soft \n",
      "Using locally cached version of GSM3585001 found here:\n",
      "/tmp/RtmpL2iCBG/GSM3585001.soft \n",
      "Using locally cached version of GSM3584996 found here:\n",
      "/tmp/RtmpL2iCBG/GSM3584996.soft \n",
      "Using locally cached version of GSM3584997 found here:\n",
      "/tmp/RtmpL2iCBG/GSM3584997.soft \n",
      "Using locally cached version of GSM3585000 found here:\n",
      "/tmp/RtmpL2iCBG/GSM3585000.soft \n",
      "Using locally cached version of GSM3584998 found here:\n",
      "/tmp/RtmpL2iCBG/GSM3584998.soft \n",
      "Using locally cached version of GSM3585010 found here:\n",
      "/tmp/RtmpL2iCBG/GSM3585010.soft \n",
      "Using locally cached version of GSM3585013 found here:\n",
      "/tmp/RtmpL2iCBG/GSM3585013.soft \n",
      "Using locally cached version of GSM3584989 found here:\n",
      "/tmp/RtmpL2iCBG/GSM3584989.soft \n",
      "Using locally cached version of GSM3585014 found here:\n",
      "/tmp/RtmpL2iCBG/GSM3585014.soft \n",
      "Using locally cached version of GSM3584994 found here:\n",
      "/tmp/RtmpL2iCBG/GSM3584994.soft \n",
      "Using locally cached version of GSM3585004 found here:\n",
      "/tmp/RtmpL2iCBG/GSM3585004.soft \n",
      "Using locally cached version of GSM3585003 found here:\n",
      "/tmp/RtmpL2iCBG/GSM3585003.soft \n",
      "Using locally cached version of GSM3585002 found here:\n",
      "/tmp/RtmpL2iCBG/GSM3585002.soft \n",
      "Using locally cached version of GSM3585005 found here:\n",
      "/tmp/RtmpL2iCBG/GSM3585005.soft \n",
      "Using locally cached version of GSM3585006 found here:\n",
      "/tmp/RtmpL2iCBG/GSM3585006.soft \n",
      "Using locally cached version of GSM3585011 found here:\n",
      "/tmp/RtmpL2iCBG/GSM3585011.soft \n",
      "Using locally cached version of GSM3585012 found here:\n",
      "/tmp/RtmpL2iCBG/GSM3585012.soft \n",
      "Using locally cached version of GSM3585017 found here:\n",
      "/tmp/RtmpL2iCBG/GSM3585017.soft \n",
      "Using locally cached version of GSM4041833 found here:\n",
      "/tmp/RtmpL2iCBG/GSM4041833.soft \n",
      "Using locally cached version of GSM4041835 found here:\n",
      "/tmp/RtmpL2iCBG/GSM4041835.soft \n",
      "Using locally cached version of GSM4041841 found here:\n",
      "/tmp/RtmpL2iCBG/GSM4041841.soft \n",
      "Using locally cached version of GSM4041845 found here:\n",
      "/tmp/RtmpL2iCBG/GSM4041845.soft \n",
      "Using locally cached version of GSM4041848 found here:\n",
      "/tmp/RtmpL2iCBG/GSM4041848.soft \n",
      "Using locally cached version of GSM4041851 found here:\n",
      "/tmp/RtmpL2iCBG/GSM4041851.soft \n",
      "Using locally cached version of GSM4041857 found here:\n",
      "/tmp/RtmpL2iCBG/GSM4041857.soft \n",
      "Using locally cached version of GSM4041859 found here:\n",
      "/tmp/RtmpL2iCBG/GSM4041859.soft \n",
      "Using locally cached version of GSM4041865 found here:\n",
      "/tmp/RtmpL2iCBG/GSM4041865.soft \n",
      "Using locally cached version of GSM4041867 found here:\n",
      "/tmp/RtmpL2iCBG/GSM4041867.soft \n",
      "Using locally cached version of GSM4041873 found here:\n",
      "/tmp/RtmpL2iCBG/GSM4041873.soft \n",
      "Using locally cached version of GSM4041877 found here:\n",
      "/tmp/RtmpL2iCBG/GSM4041877.soft \n",
      "Using locally cached version of GSM4041880 found here:\n",
      "/tmp/RtmpL2iCBG/GSM4041880.soft \n",
      "Using locally cached version of GSM4041885 found here:\n",
      "/tmp/RtmpL2iCBG/GSM4041885.soft \n",
      "Using locally cached version of GSM4041887 found here:\n",
      "/tmp/RtmpL2iCBG/GSM4041887.soft \n",
      "Using locally cached version of GSM4041892 found here:\n",
      "/tmp/RtmpL2iCBG/GSM4041892.soft \n",
      "Using locally cached version of GSM4041897 found here:\n",
      "/tmp/RtmpL2iCBG/GSM4041897.soft \n",
      "Using locally cached version of GSM4041900 found here:\n",
      "/tmp/RtmpL2iCBG/GSM4041900.soft \n",
      "Using locally cached version of GSM4041903 found here:\n",
      "/tmp/RtmpL2iCBG/GSM4041903.soft \n",
      "Using locally cached version of GSM4041908 found here:\n",
      "/tmp/RtmpL2iCBG/GSM4041908.soft \n",
      "Using locally cached version of GSM4041913 found here:\n",
      "/tmp/RtmpL2iCBG/GSM4041913.soft \n",
      "Using locally cached version of GSM4041914 found here:\n",
      "/tmp/RtmpL2iCBG/GSM4041914.soft \n",
      "Using locally cached version of GSM4041921 found here:\n",
      "/tmp/RtmpL2iCBG/GSM4041921.soft \n",
      "Using locally cached version of GSM4041925 found here:\n",
      "/tmp/RtmpL2iCBG/GSM4041925.soft \n",
      "Using locally cached version of GSM4041926 found here:\n",
      "/tmp/RtmpL2iCBG/GSM4041926.soft \n",
      "Using locally cached version of GSM4041933 found here:\n",
      "/tmp/RtmpL2iCBG/GSM4041933.soft \n",
      "Using locally cached version of GSM4041935 found here:\n",
      "/tmp/RtmpL2iCBG/GSM4041935.soft \n",
      "Using locally cached version of GSM4041940 found here:\n",
      "/tmp/RtmpL2iCBG/GSM4041940.soft \n",
      "Using locally cached version of GSM4041942 found here:\n",
      "/tmp/RtmpL2iCBG/GSM4041942.soft \n",
      "Using locally cached version of GSM4041947 found here:\n",
      "/tmp/RtmpL2iCBG/GSM4041947.soft \n",
      "Using locally cached version of GSM4041950 found here:\n",
      "/tmp/RtmpL2iCBG/GSM4041950.soft \n",
      "Using locally cached version of GSM4041956 found here:\n",
      "/tmp/RtmpL2iCBG/GSM4041956.soft \n",
      "Using locally cached version of GSM4041958 found here:\n",
      "/tmp/RtmpL2iCBG/GSM4041958.soft \n",
      "Using locally cached version of GSM4041962 found here:\n",
      "/tmp/RtmpL2iCBG/GSM4041962.soft \n",
      "Using locally cached version of GSM4041966 found here:\n",
      "/tmp/RtmpL2iCBG/GSM4041966.soft \n",
      "Using locally cached version of GSM4041971 found here:\n",
      "/tmp/RtmpL2iCBG/GSM4041971.soft \n"
     ]
    }
   ],
   "source": [
    "for(i in 1:length(repos_titer$REPOSITORY_ACCESSION)) {\n",
    "    ### LOADING TABLES\n",
    "    GSM = getGEO(repos_titer$REPOSITORY_ACCESSION[i], getGPL=FALSE)\n",
    "    \n",
    "    if(length(colnames(GSM@dataTable@table)) == 0)\n",
    "        next\n",
    "    \n",
    "    genex = GSM@dataTable@table[,1:2]# it exists, load it\n",
    "    platform_char = GSM@header$platform_id\n",
    "  \n",
    "    ### check if platform id already loaded\n",
    "    if(platform_char %in% gpl_dict$keys()){\n",
    "        ### at this point the platform table should only have cols ID and Symbol\n",
    "        gene_prof = genex%>%inner_join(gpl_dict[[platform_char]], by=c(\"ID_REF\"=\"ID\"))\n",
    "    \n",
    "    } else { ### we have a unique platform GPL ID to add to the dict\n",
    "        ### load unique GPL\n",
    "        platform_obj = getGEO(platform_char, getGPL=FALSE)\n",
    "        platform = platform_obj@dataTable@table\n",
    "        \n",
    "        if(\"ID\" %in% colnames(platform) && str_contains(colnames(platform), \"Symbol\")){\n",
    "            names(platform)[grepl(\"Symbol\", names(platform))] = \"Symbol\"\n",
    "            platform = platform[,c(\"ID\",\"Symbol\")]\n",
    "\n",
    "            gpl_dict[[platform_char]] = platform ## add platform table to dict\n",
    "            gene_prof = genex%>%inner_join(platform, by=c(\"ID_REF\"=\"ID\"))\n",
    "      \n",
    "        } else\n",
    "            next\n",
    "    }\n",
    "      \n",
    "    gene_profiles = gene_prof[ ,c(\"Symbol\",\"VALUE\")]\n",
    "    gene_profiles = gene_profiles[!(gene_profiles$Symbol == \"---\" | gene_profiles$Symbol == \"\"), ]\n",
    "    \n",
    "    if(exists(\"gene_profiles\")){\n",
    "        add_row = data.frame(repos_titer$REPOSITORY_ACCESSION[i], repos_titer$BIOSAMPLE_ACCESSION[i], repos_titer$EXPSAMPLE_ACCESSION.x[i],#repos_titer$EXPSAMPLE_ACCESSION.y[i]\n",
    "                             repos_titer$SUBJECT_ACCESSION[i], repos_titer$STUDY_TIME_COLLECTED[i], gene_profiles[gene_profiles$Symbol == 'GZMH',][2], \n",
    "                             repos_titer$VALUE_PREFERRED[i])\n",
    "        colnames(add_row) = x\n",
    "        df = rbind(df, add_row)\n",
    "    }\n",
    "}"
   ]
  },
  {
   "cell_type": "code",
   "execution_count": 80,
   "id": "potential-shield",
   "metadata": {},
   "outputs": [
    {
     "data": {
      "text/html": [
       "<table>\n",
       "<caption>A data.frame: 6 × 7</caption>\n",
       "<thead>\n",
       "\t<tr><th></th><th scope=col>REPOSITORY_ACCESSION</th><th scope=col>BIOSAMPLE_ACCESSION</th><th scope=col>EXPSAMPLE_ACCESSION</th><th scope=col>SUBJECT_ACCESSION</th><th scope=col>STUDY_TIME_COLLECTED</th><th scope=col>GENE_VALUE</th><th scope=col>VALUE_PREFERRED</th></tr>\n",
       "\t<tr><th></th><th scope=col>&lt;fct&gt;</th><th scope=col>&lt;fct&gt;</th><th scope=col>&lt;fct&gt;</th><th scope=col>&lt;fct&gt;</th><th scope=col>&lt;int&gt;</th><th scope=col>&lt;dbl&gt;</th><th scope=col>&lt;int&gt;</th></tr>\n",
       "</thead>\n",
       "<tbody>\n",
       "\t<tr><th scope=row>15078</th><td>GSM3584988</td><td>BS1028555</td><td>ES1262501</td><td>SUB205386</td><td>0</td><td>10.095504</td><td>80</td></tr>\n",
       "\t<tr><th scope=row>150781</th><td>GSM3584991</td><td>BS1028395</td><td>ES1262502</td><td>SUB205387</td><td>0</td><td> 9.045475</td><td>80</td></tr>\n",
       "\t<tr><th scope=row>150782</th><td>GSM3584982</td><td>BS1028390</td><td>ES1262503</td><td>SUB205388</td><td>0</td><td> 9.204821</td><td>80</td></tr>\n",
       "\t<tr><th scope=row>150783</th><td>GSM3584985</td><td>BS1028540</td><td>ES1262504</td><td>SUB205389</td><td>0</td><td>10.462735</td><td>80</td></tr>\n",
       "\t<tr><th scope=row>150784</th><td>GSM3584983</td><td>BS1028445</td><td>ES1262505</td><td>SUB205390</td><td>0</td><td> 8.739116</td><td>80</td></tr>\n",
       "\t<tr><th scope=row>150785</th><td>GSM3584995</td><td>BS1028415</td><td>ES1262506</td><td>SUB205391</td><td>0</td><td> 9.775270</td><td>80</td></tr>\n",
       "</tbody>\n",
       "</table>\n"
      ],
      "text/latex": [
       "A data.frame: 6 × 7\n",
       "\\begin{tabular}{r|lllllll}\n",
       "  & REPOSITORY\\_ACCESSION & BIOSAMPLE\\_ACCESSION & EXPSAMPLE\\_ACCESSION & SUBJECT\\_ACCESSION & STUDY\\_TIME\\_COLLECTED & GENE\\_VALUE & VALUE\\_PREFERRED\\\\\n",
       "  & <fct> & <fct> & <fct> & <fct> & <int> & <dbl> & <int>\\\\\n",
       "\\hline\n",
       "\t15078 & GSM3584988 & BS1028555 & ES1262501 & SUB205386 & 0 & 10.095504 & 80\\\\\n",
       "\t150781 & GSM3584991 & BS1028395 & ES1262502 & SUB205387 & 0 &  9.045475 & 80\\\\\n",
       "\t150782 & GSM3584982 & BS1028390 & ES1262503 & SUB205388 & 0 &  9.204821 & 80\\\\\n",
       "\t150783 & GSM3584985 & BS1028540 & ES1262504 & SUB205389 & 0 & 10.462735 & 80\\\\\n",
       "\t150784 & GSM3584983 & BS1028445 & ES1262505 & SUB205390 & 0 &  8.739116 & 80\\\\\n",
       "\t150785 & GSM3584995 & BS1028415 & ES1262506 & SUB205391 & 0 &  9.775270 & 80\\\\\n",
       "\\end{tabular}\n"
      ],
      "text/markdown": [
       "\n",
       "A data.frame: 6 × 7\n",
       "\n",
       "| <!--/--> | REPOSITORY_ACCESSION &lt;fct&gt; | BIOSAMPLE_ACCESSION &lt;fct&gt; | EXPSAMPLE_ACCESSION &lt;fct&gt; | SUBJECT_ACCESSION &lt;fct&gt; | STUDY_TIME_COLLECTED &lt;int&gt; | GENE_VALUE &lt;dbl&gt; | VALUE_PREFERRED &lt;int&gt; |\n",
       "|---|---|---|---|---|---|---|---|\n",
       "| 15078 | GSM3584988 | BS1028555 | ES1262501 | SUB205386 | 0 | 10.095504 | 80 |\n",
       "| 150781 | GSM3584991 | BS1028395 | ES1262502 | SUB205387 | 0 |  9.045475 | 80 |\n",
       "| 150782 | GSM3584982 | BS1028390 | ES1262503 | SUB205388 | 0 |  9.204821 | 80 |\n",
       "| 150783 | GSM3584985 | BS1028540 | ES1262504 | SUB205389 | 0 | 10.462735 | 80 |\n",
       "| 150784 | GSM3584983 | BS1028445 | ES1262505 | SUB205390 | 0 |  8.739116 | 80 |\n",
       "| 150785 | GSM3584995 | BS1028415 | ES1262506 | SUB205391 | 0 |  9.775270 | 80 |\n",
       "\n"
      ],
      "text/plain": [
       "       REPOSITORY_ACCESSION BIOSAMPLE_ACCESSION EXPSAMPLE_ACCESSION\n",
       "15078  GSM3584988           BS1028555           ES1262501          \n",
       "150781 GSM3584991           BS1028395           ES1262502          \n",
       "150782 GSM3584982           BS1028390           ES1262503          \n",
       "150783 GSM3584985           BS1028540           ES1262504          \n",
       "150784 GSM3584983           BS1028445           ES1262505          \n",
       "150785 GSM3584995           BS1028415           ES1262506          \n",
       "       SUBJECT_ACCESSION STUDY_TIME_COLLECTED GENE_VALUE VALUE_PREFERRED\n",
       "15078  SUB205386         0                    10.095504  80             \n",
       "150781 SUB205387         0                     9.045475  80             \n",
       "150782 SUB205388         0                     9.204821  80             \n",
       "150783 SUB205389         0                    10.462735  80             \n",
       "150784 SUB205390         0                     8.739116  80             \n",
       "150785 SUB205391         0                     9.775270  80             "
      ]
     },
     "metadata": {},
     "output_type": "display_data"
    }
   ],
   "source": [
    "head(df)# SPEARMAN CORR, P-VAL -- cor.test()"
   ]
  },
  {
   "cell_type": "code",
   "execution_count": 120,
   "id": "regular-lodge",
   "metadata": {},
   "outputs": [
    {
     "data": {
      "text/html": [
       "<style>\n",
       ".list-inline {list-style: none; margin:0; padding: 0}\n",
       ".list-inline>li {display: inline-block}\n",
       ".list-inline>li:not(:last-child)::after {content: \"\\00b7\"; padding: 0 .5ex}\n",
       "</style>\n",
       "<ol class=list-inline><li>10.09550442</li><li>9.04547528</li><li>9.204821205</li><li>10.46273463</li><li>8.739115738</li><li>9.775270447</li><li>8.948616111</li><li>9.049518564</li><li>9.347965234</li><li>10.25344014</li><li>9.746501598</li><li>10.80455579</li><li>10.51798993</li><li>10.03144798</li><li>10.15773449</li><li>9.98141052</li><li>8.96473467</li><li>9.455587979</li><li>9.571881896</li><li>9.386009427</li><li>9.211445886</li><li>9.014173729</li><li>9.443932466</li><li>10.24397634</li><li>10.82408484</li><li>10.2021563</li><li>10.13365307</li><li>9.517989932</li><li>9.312797029</li><li>9.608058764</li><li>9.01213776</li><li>9.834339363</li><li>9.367878002</li><li>9.52163018</li><li>9.230952919</li><li>9.771583255</li></ol>\n"
      ],
      "text/latex": [
       "\\begin{enumerate*}\n",
       "\\item 10.09550442\n",
       "\\item 9.04547528\n",
       "\\item 9.204821205\n",
       "\\item 10.46273463\n",
       "\\item 8.739115738\n",
       "\\item 9.775270447\n",
       "\\item 8.948616111\n",
       "\\item 9.049518564\n",
       "\\item 9.347965234\n",
       "\\item 10.25344014\n",
       "\\item 9.746501598\n",
       "\\item 10.80455579\n",
       "\\item 10.51798993\n",
       "\\item 10.03144798\n",
       "\\item 10.15773449\n",
       "\\item 9.98141052\n",
       "\\item 8.96473467\n",
       "\\item 9.455587979\n",
       "\\item 9.571881896\n",
       "\\item 9.386009427\n",
       "\\item 9.211445886\n",
       "\\item 9.014173729\n",
       "\\item 9.443932466\n",
       "\\item 10.24397634\n",
       "\\item 10.82408484\n",
       "\\item 10.2021563\n",
       "\\item 10.13365307\n",
       "\\item 9.517989932\n",
       "\\item 9.312797029\n",
       "\\item 9.608058764\n",
       "\\item 9.01213776\n",
       "\\item 9.834339363\n",
       "\\item 9.367878002\n",
       "\\item 9.52163018\n",
       "\\item 9.230952919\n",
       "\\item 9.771583255\n",
       "\\end{enumerate*}\n"
      ],
      "text/markdown": [
       "1. 10.09550442\n",
       "2. 9.04547528\n",
       "3. 9.204821205\n",
       "4. 10.46273463\n",
       "5. 8.739115738\n",
       "6. 9.775270447\n",
       "7. 8.948616111\n",
       "8. 9.049518564\n",
       "9. 9.347965234\n",
       "10. 10.25344014\n",
       "11. 9.746501598\n",
       "12. 10.80455579\n",
       "13. 10.51798993\n",
       "14. 10.03144798\n",
       "15. 10.15773449\n",
       "16. 9.98141052\n",
       "17. 8.96473467\n",
       "18. 9.455587979\n",
       "19. 9.571881896\n",
       "20. 9.386009427\n",
       "21. 9.211445886\n",
       "22. 9.014173729\n",
       "23. 9.443932466\n",
       "24. 10.24397634\n",
       "25. 10.82408484\n",
       "26. 10.2021563\n",
       "27. 10.13365307\n",
       "28. 9.517989932\n",
       "29. 9.312797029\n",
       "30. 9.608058764\n",
       "31. 9.01213776\n",
       "32. 9.834339363\n",
       "33. 9.367878002\n",
       "34. 9.52163018\n",
       "35. 9.230952919\n",
       "36. 9.771583255\n",
       "\n",
       "\n"
      ],
      "text/plain": [
       " [1] 10.095504  9.045475  9.204821 10.462735  8.739116  9.775270  8.948616\n",
       " [8]  9.049519  9.347965 10.253440  9.746502 10.804556 10.517990 10.031448\n",
       "[15] 10.157734  9.981411  8.964735  9.455588  9.571882  9.386009  9.211446\n",
       "[22]  9.014174  9.443932 10.243976 10.824085 10.202156 10.133653  9.517990\n",
       "[29]  9.312797  9.608059  9.012138  9.834339  9.367878  9.521630  9.230953\n",
       "[36]  9.771583"
      ]
     },
     "metadata": {},
     "output_type": "display_data"
    }
   ],
   "source": [
    "study0 = df[df$STUDY_TIME_COLLECTED == 0, 'GENE_VALUE']\n",
    "study0"
   ]
  },
  {
   "cell_type": "code",
   "execution_count": 121,
   "id": "cloudy-array",
   "metadata": {},
   "outputs": [],
   "source": [
    "study84 = df[df$STUDY_TIME_COLLECTED == 84, 'GENE_VALUE']"
   ]
  },
  {
   "cell_type": "code",
   "execution_count": 112,
   "id": "atomic-nebraska",
   "metadata": {},
   "outputs": [
    {
     "name": "stderr",
     "output_type": "stream",
     "text": [
      "Loading required package: devtools\n",
      "Loading required package: usethis\n",
      "Downloading GitHub repo kassambara/ggpubr@HEAD\n"
     ]
    },
    {
     "name": "stdout",
     "output_type": "stream",
     "text": [
      "vctrs        (0.3.4      -> 0.3.6     ) [CRAN]\n",
      "utf8         (1.1.4      -> 1.2.1     ) [CRAN]\n",
      "rlang        (0.4.8      -> 0.4.10    ) [CRAN]\n",
      "lifecycle    (0.2.0      -> 1.0.0     ) [CRAN]\n",
      "fansi        (0.4.1      -> 0.4.2     ) [CRAN]\n",
      "crayon       (1.3.4      -> 1.4.1     ) [CRAN]\n",
      "cli          (2.1.0      -> 2.3.1     ) [CRAN]\n",
      "cpp11        (0.2.3      -> 0.2.6     ) [CRAN]\n",
      "BH           (1.72.0-3   -> 1.75.0-0  ) [CRAN]\n",
      "mime         (0.9        -> 0.10      ) [CRAN]\n",
      "pillar       (1.4.6      -> 1.5.1     ) [CRAN]\n",
      "xfun         (0.19       -> 0.22      ) [CRAN]\n",
      "hms          (0.5.3      -> 1.0.0     ) [CRAN]\n",
      "forcats      (0.5.0      -> 0.5.1     ) [CRAN]\n",
      "RcppArmad... (0.10.1.2.0 -> 0.10.2.2.0) [CRAN]\n",
      "matrixStats  (0.57.0     -> 0.58.0    ) [CRAN]\n",
      "tidyr        (1.1.2      -> 1.1.3     ) [CRAN]\n",
      "backports    (1.1.10     -> 1.2.1     ) [CRAN]\n",
      "tibble       (3.0.4      -> 3.1.0     ) [CRAN]\n",
      "data.table   (1.13.2     -> 1.14.0    ) [CRAN]\n",
      "knitr        (1.30       -> 1.31      ) [CRAN]\n",
      "magrittr     (1.5        -> 2.0.1     ) [CRAN]\n",
      "dplyr        (1.0.2      -> 1.0.5     ) [CRAN]\n",
      "Rcpp         (1.0.5      -> 1.0.6     ) [CRAN]\n",
      "lme4         (NA         -> 1.1-26    ) [CRAN]\n",
      "rio          (NA         -> 0.5.26    ) [CRAN]\n",
      "pbkrtest     (NA         -> 0.5.1     ) [CRAN]\n",
      "colorspace   (1.4-1      -> 2.0-0     ) [CRAN]\n",
      "farver       (2.0.3      -> 2.1.0     ) [CRAN]\n",
      "withr        (2.3.0      -> 2.4.1     ) [CRAN]\n",
      "isoband      (0.2.2      -> 0.2.4     ) [CRAN]\n",
      "car          (NA         -> 3.0-10    ) [CRAN]\n",
      "rstatix      (NA         -> 0.7.0     ) [CRAN]\n",
      "cowplot      (NA         -> 1.1.1     ) [CRAN]\n",
      "ggrepel      (NA         -> 0.9.1     ) [CRAN]\n"
     ]
    },
    {
     "name": "stderr",
     "output_type": "stream",
     "text": [
      "Skipping 1 packages not available: foreign\n",
      "Installing 35 packages: vctrs, utf8, rlang, lifecycle, fansi, crayon, cli, cpp11, BH, mime, pillar, xfun, hms, forcats, RcppArmadillo, matrixStats, tidyr, backports, tibble, data.table, knitr, magrittr, dplyr, Rcpp, lme4, rio, pbkrtest, colorspace, farver, withr, isoband, car, rstatix, cowplot, ggrepel\n",
      "Updating HTML index of packages in '.Library'\n",
      "Making 'packages.html' ... done\n"
     ]
    },
    {
     "name": "stdout",
     "output_type": "stream",
     "text": [
      "✔  checking for file ‘/tmp/RtmpL2iCBG/remotese777049613c/kassambara-ggpubr-ac5a01f/DESCRIPTION’ ...\n",
      "─  preparing ‘ggpubr’:\n",
      "✔  checking DESCRIPTION meta-information ...\n",
      "─  checking for LF line-endings in source and make files and shell scripts\n",
      "─  checking for empty or unneeded directories\n",
      "─  looking to see if a ‘data/datalist’ file should be added\n",
      "─  building ‘ggpubr_0.4.0.999.tar.gz’\n",
      "   \n",
      "\r"
     ]
    }
   ],
   "source": [
    "#install.packages(\"ggpubr\")\n",
    "if(!require(devtools)) install.packages(\"devtools\")\n",
    "devtools::install_github(\"kassambara/ggpubr\")"
   ]
  },
  {
   "cell_type": "code",
   "execution_count": 119,
   "id": "strong-nepal",
   "metadata": {},
   "outputs": [],
   "source": [
    "#library(\"ggpubr\")"
   ]
  },
  {
   "cell_type": "code",
   "execution_count": 122,
   "id": "vertical-madrid",
   "metadata": {},
   "outputs": [
    {
     "data": {
      "text/plain": [
       "\n",
       "\tSpearman's rank correlation rho\n",
       "\n",
       "data:  study0 and study84\n",
       "S = 2190, p-value = 2.104e-06\n",
       "alternative hypothesis: true rho is not equal to 0\n",
       "sample estimates:\n",
       "      rho \n",
       "0.7181467 \n"
      ]
     },
     "metadata": {},
     "output_type": "display_data"
    }
   ],
   "source": [
    "cor.test(study0, study84, method=\"spearman\")#statistically significant vars"
   ]
  },
  {
   "cell_type": "code",
   "execution_count": 105,
   "id": "organic-literacy",
   "metadata": {},
   "outputs": [
    {
     "data": {
      "text/html": [
       "<table>\n",
       "<caption>A data.frame: 1 × 5</caption>\n",
       "<thead>\n",
       "\t<tr><th></th><th scope=col>REPOSITORY_ACCESSION</th><th scope=col>BIOSAMPLE_ACCESSION</th><th scope=col>EXPSAMPLE_ACCESSION</th><th scope=col>SUBJECT_ACCESSION</th><th scope=col>GENE_VALUE_0</th></tr>\n",
       "\t<tr><th></th><th scope=col>&lt;fct&gt;</th><th scope=col>&lt;fct&gt;</th><th scope=col>&lt;fct&gt;</th><th scope=col>&lt;fct&gt;</th><th scope=col>&lt;dbl&gt;</th></tr>\n",
       "</thead>\n",
       "<tbody>\n",
       "\t<tr><th scope=row>1507833</th><td>GSM3584988</td><td>BS1028555</td><td>ES1262486</td><td>SUB205386</td><td>10.0955</td></tr>\n",
       "</tbody>\n",
       "</table>\n"
      ],
      "text/latex": [
       "A data.frame: 1 × 5\n",
       "\\begin{tabular}{r|lllll}\n",
       "  & REPOSITORY\\_ACCESSION & BIOSAMPLE\\_ACCESSION & EXPSAMPLE\\_ACCESSION & SUBJECT\\_ACCESSION & GENE\\_VALUE\\_0\\\\\n",
       "  & <fct> & <fct> & <fct> & <fct> & <dbl>\\\\\n",
       "\\hline\n",
       "\t1507833 & GSM3584988 & BS1028555 & ES1262486 & SUB205386 & 10.0955\\\\\n",
       "\\end{tabular}\n"
      ],
      "text/markdown": [
       "\n",
       "A data.frame: 1 × 5\n",
       "\n",
       "| <!--/--> | REPOSITORY_ACCESSION &lt;fct&gt; | BIOSAMPLE_ACCESSION &lt;fct&gt; | EXPSAMPLE_ACCESSION &lt;fct&gt; | SUBJECT_ACCESSION &lt;fct&gt; | GENE_VALUE_0 &lt;dbl&gt; |\n",
       "|---|---|---|---|---|---|\n",
       "| 1507833 | GSM3584988 | BS1028555 | ES1262486 | SUB205386 | 10.0955 |\n",
       "\n"
      ],
      "text/plain": [
       "        REPOSITORY_ACCESSION BIOSAMPLE_ACCESSION EXPSAMPLE_ACCESSION\n",
       "1507833 GSM3584988           BS1028555           ES1262486          \n",
       "        SUBJECT_ACCESSION GENE_VALUE_0\n",
       "1507833 SUB205386         10.0955     "
      ]
     },
     "metadata": {},
     "output_type": "display_data"
    }
   ],
   "source": [
    "df0[df0$REPOSITORY_ACCESSION == \"GSM3584988\", ]"
   ]
  },
  {
   "cell_type": "code",
   "execution_count": 102,
   "id": "orange-genesis",
   "metadata": {},
   "outputs": [
    {
     "data": {
      "text/plain": [
       "\n",
       "   80   160   320   640  1280  2560  5120 10240 \n",
       "   35     2     2     6    10    10     6     1 "
      ]
     },
     "metadata": {},
     "output_type": "display_data"
    }
   ],
   "source": [
    "table(df$VALUE_PREFERRED)"
   ]
  },
  {
   "cell_type": "code",
   "execution_count": 81,
   "id": "heavy-packing",
   "metadata": {},
   "outputs": [
    {
     "data": {
      "text/html": [
       "<table>\n",
       "<caption>A data.frame: 6 × 5</caption>\n",
       "<thead>\n",
       "\t<tr><th></th><th scope=col>REPOSITORY_ACCESSION</th><th scope=col>BIOSAMPLE_ACCESSION</th><th scope=col>EXPSAMPLE_ACCESSION</th><th scope=col>SUBJECT_ACCESSION</th><th scope=col>GENE_VALUE_0</th></tr>\n",
       "\t<tr><th></th><th scope=col>&lt;fct&gt;</th><th scope=col>&lt;fct&gt;</th><th scope=col>&lt;fct&gt;</th><th scope=col>&lt;fct&gt;</th><th scope=col>&lt;dbl&gt;</th></tr>\n",
       "</thead>\n",
       "<tbody>\n",
       "\t<tr><th scope=row>15078</th><td>GSM3584982</td><td>BS1028390</td><td>ES1262321</td><td>SUB205388</td><td>9.204821</td></tr>\n",
       "\t<tr><th scope=row>14677</th><td>GSM4041840</td><td>BS1028391</td><td>ES1262322</td><td>SUB205388</td><td>9.243751</td></tr>\n",
       "\t<tr><th scope=row>146771</th><td>GSM4041838</td><td>BS1028392</td><td>ES1262323</td><td>SUB205388</td><td>9.036877</td></tr>\n",
       "\t<tr><th scope=row>146772</th><td>GSM4041839</td><td>BS1028393</td><td>ES1262324</td><td>SUB205388</td><td>9.717368</td></tr>\n",
       "\t<tr><th scope=row>146773</th><td>GSM4041841</td><td>BS1028394</td><td>ES1262325</td><td>SUB205388</td><td>9.448006</td></tr>\n",
       "\t<tr><th scope=row>150781</th><td>GSM3584991</td><td>BS1028395</td><td>ES1262326</td><td>SUB205387</td><td>9.045475</td></tr>\n",
       "</tbody>\n",
       "</table>\n"
      ],
      "text/latex": [
       "A data.frame: 6 × 5\n",
       "\\begin{tabular}{r|lllll}\n",
       "  & REPOSITORY\\_ACCESSION & BIOSAMPLE\\_ACCESSION & EXPSAMPLE\\_ACCESSION & SUBJECT\\_ACCESSION & GENE\\_VALUE\\_0\\\\\n",
       "  & <fct> & <fct> & <fct> & <fct> & <dbl>\\\\\n",
       "\\hline\n",
       "\t15078 & GSM3584982 & BS1028390 & ES1262321 & SUB205388 & 9.204821\\\\\n",
       "\t14677 & GSM4041840 & BS1028391 & ES1262322 & SUB205388 & 9.243751\\\\\n",
       "\t146771 & GSM4041838 & BS1028392 & ES1262323 & SUB205388 & 9.036877\\\\\n",
       "\t146772 & GSM4041839 & BS1028393 & ES1262324 & SUB205388 & 9.717368\\\\\n",
       "\t146773 & GSM4041841 & BS1028394 & ES1262325 & SUB205388 & 9.448006\\\\\n",
       "\t150781 & GSM3584991 & BS1028395 & ES1262326 & SUB205387 & 9.045475\\\\\n",
       "\\end{tabular}\n"
      ],
      "text/markdown": [
       "\n",
       "A data.frame: 6 × 5\n",
       "\n",
       "| <!--/--> | REPOSITORY_ACCESSION &lt;fct&gt; | BIOSAMPLE_ACCESSION &lt;fct&gt; | EXPSAMPLE_ACCESSION &lt;fct&gt; | SUBJECT_ACCESSION &lt;fct&gt; | GENE_VALUE_0 &lt;dbl&gt; |\n",
       "|---|---|---|---|---|---|\n",
       "| 15078 | GSM3584982 | BS1028390 | ES1262321 | SUB205388 | 9.204821 |\n",
       "| 14677 | GSM4041840 | BS1028391 | ES1262322 | SUB205388 | 9.243751 |\n",
       "| 146771 | GSM4041838 | BS1028392 | ES1262323 | SUB205388 | 9.036877 |\n",
       "| 146772 | GSM4041839 | BS1028393 | ES1262324 | SUB205388 | 9.717368 |\n",
       "| 146773 | GSM4041841 | BS1028394 | ES1262325 | SUB205388 | 9.448006 |\n",
       "| 150781 | GSM3584991 | BS1028395 | ES1262326 | SUB205387 | 9.045475 |\n",
       "\n"
      ],
      "text/plain": [
       "       REPOSITORY_ACCESSION BIOSAMPLE_ACCESSION EXPSAMPLE_ACCESSION\n",
       "15078  GSM3584982           BS1028390           ES1262321          \n",
       "14677  GSM4041840           BS1028391           ES1262322          \n",
       "146771 GSM4041838           BS1028392           ES1262323          \n",
       "146772 GSM4041839           BS1028393           ES1262324          \n",
       "146773 GSM4041841           BS1028394           ES1262325          \n",
       "150781 GSM3584991           BS1028395           ES1262326          \n",
       "       SUBJECT_ACCESSION GENE_VALUE_0\n",
       "15078  SUB205388         9.204821    \n",
       "14677  SUB205388         9.243751    \n",
       "146771 SUB205388         9.036877    \n",
       "146772 SUB205388         9.717368    \n",
       "146773 SUB205388         9.448006    \n",
       "150781 SUB205387         9.045475    "
      ]
     },
     "metadata": {},
     "output_type": "display_data"
    }
   ],
   "source": [
    "head(df0)"
   ]
  },
  {
   "cell_type": "code",
   "execution_count": 26,
   "id": "minimal-region",
   "metadata": {},
   "outputs": [
    {
     "data": {
      "text/html": [
       "<table>\n",
       "<caption>A data.frame: 1 × 2</caption>\n",
       "<thead>\n",
       "\t<tr><th></th><th scope=col>Symbol</th><th scope=col>GSM4041971</th></tr>\n",
       "\t<tr><th></th><th scope=col>&lt;chr&gt;</th><th scope=col>&lt;dbl&gt;</th></tr>\n",
       "</thead>\n",
       "<tbody>\n",
       "\t<tr><th scope=row>14677</th><td>GZMH</td><td>9.713595</td></tr>\n",
       "</tbody>\n",
       "</table>\n"
      ],
      "text/latex": [
       "A data.frame: 1 × 2\n",
       "\\begin{tabular}{r|ll}\n",
       "  & Symbol & GSM4041971\\\\\n",
       "  & <chr> & <dbl>\\\\\n",
       "\\hline\n",
       "\t14677 & GZMH & 9.713595\\\\\n",
       "\\end{tabular}\n"
      ],
      "text/markdown": [
       "\n",
       "A data.frame: 1 × 2\n",
       "\n",
       "| <!--/--> | Symbol &lt;chr&gt; | GSM4041971 &lt;dbl&gt; |\n",
       "|---|---|---|\n",
       "| 14677 | GZMH | 9.713595 |\n",
       "\n"
      ],
      "text/plain": [
       "      Symbol GSM4041971\n",
       "14677 GZMH   9.713595  "
      ]
     },
     "metadata": {},
     "output_type": "display_data"
    }
   ],
   "source": [
    "fin_res1[fin_res1$Symbol == 'GZMH',]"
   ]
  },
  {
   "cell_type": "code",
   "execution_count": 58,
   "id": "passive-tourism",
   "metadata": {},
   "outputs": [
    {
     "data": {
      "text/html": [
       "<table>\n",
       "<caption>A data.frame: 1 × 2</caption>\n",
       "<thead>\n",
       "\t<tr><th></th><th scope=col>gsm_col</th><th scope=col>study_time_col</th></tr>\n",
       "\t<tr><th></th><th scope=col>&lt;fct&gt;</th><th scope=col>&lt;int&gt;</th></tr>\n",
       "</thead>\n",
       "<tbody>\n",
       "\t<tr><th scope=row>72</th><td>GSM4041971</td><td>84</td></tr>\n",
       "</tbody>\n",
       "</table>\n"
      ],
      "text/latex": [
       "A data.frame: 1 × 2\n",
       "\\begin{tabular}{r|ll}\n",
       "  & gsm\\_col & study\\_time\\_col\\\\\n",
       "  & <fct> & <int>\\\\\n",
       "\\hline\n",
       "\t72 & GSM4041971 & 84\\\\\n",
       "\\end{tabular}\n"
      ],
      "text/markdown": [
       "\n",
       "A data.frame: 1 × 2\n",
       "\n",
       "| <!--/--> | gsm_col &lt;fct&gt; | study_time_col &lt;int&gt; |\n",
       "|---|---|---|\n",
       "| 72 | GSM4041971 | 84 |\n",
       "\n"
      ],
      "text/plain": [
       "   gsm_col    study_time_col\n",
       "72 GSM4041971 84            "
      ]
     },
     "metadata": {},
     "output_type": "display_data"
    }
   ],
   "source": [
    "df[df$gsm_col == 'GSM4041971', ]# WANT TO ADD COL VALUES "
   ]
  },
  {
   "cell_type": "code",
   "execution_count": null,
   "id": "surface-intention",
   "metadata": {},
   "outputs": [],
   "source": [
    "#if(exists('final_res1')){\n",
    "#    fwrite(final_res1, paste0(i,\"_\" ,Sys.time(),\"_\" ,\".csv\"))\n",
    "#}\n",
    "\n",
    "#fwrite(data.frame(gpl_vec, gsm_vec), paste0(\"nonfunctional_gpl_gsm_dataframe\" ,\".csv\"))# non func gpl_vec, gsm_vec\n",
    "#fwrite(data.frame(nonfunc_gsm), paste0(\"empty_gsm_data_table\" ,\".csv\"))#empty gsm data table"
   ]
  }
 ],
 "metadata": {
  "kernelspec": {
   "display_name": "conda_r_custom-r",
   "language": "r",
   "name": "conda_r_custom-r"
  },
  "language_info": {
   "codemirror_mode": "r",
   "file_extension": ".r",
   "mimetype": "text/x-r-source",
   "name": "R",
   "pygments_lexer": "r",
   "version": "3.6.3"
  }
 },
 "nbformat": 4,
 "nbformat_minor": 5
}
