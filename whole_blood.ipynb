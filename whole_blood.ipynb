{
 "cells": [
  {
   "cell_type": "code",
   "execution_count": 14,
   "metadata": {},
   "outputs": [
    {
     "data": {
      "text/html": [
       "NA"
      ],
      "text/latex": [
       "NA"
      ],
      "text/markdown": [
       "NA"
      ],
      "text/plain": [
       "[1] NA"
      ]
     },
     "metadata": {},
     "output_type": "display_data"
    }
   ],
   "source": [
    "#installed.packages()['devtools']"
   ]
  },
  {
   "cell_type": "code",
   "execution_count": 1,
   "metadata": {},
   "outputs": [
    {
     "name": "stderr",
     "output_type": "stream",
     "text": [
      "also installing the dependencies ‘credentials’, ‘zip’, ‘gitcreds’, ‘ini’, ‘gert’, ‘gh’, ‘rex’, ‘crosstalk’, ‘rlang’, ‘cachem’, ‘xopen’, ‘brew’, ‘usethis’, ‘covr’, ‘DT’, ‘memoise’, ‘rcmdcheck’, ‘remotes’, ‘roxygen2’, ‘rversions’, ‘sessioninfo’\n",
      "\n",
      "\n",
      "Updating HTML index of packages in '.Library'\n",
      "\n",
      "Making 'packages.html' ...\n",
      " done\n",
      "\n"
     ]
    }
   ],
   "source": [
    "install.packages(\"devtools\")"
   ]
  },
  {
   "cell_type": "code",
   "execution_count": 2,
   "metadata": {},
   "outputs": [
    {
     "name": "stderr",
     "output_type": "stream",
     "text": [
      "Updating HTML index of packages in '.Library'\n",
      "\n",
      "Making 'packages.html' ...\n",
      " done\n",
      "\n",
      "Downloading GitHub repo mkuhn/dict@HEAD\n",
      "\n"
     ]
    },
    {
     "name": "stdout",
     "output_type": "stream",
     "text": [
      "BH   (NA    -> 1.75.0-0) [CRAN]\n",
      "Rcpp (1.0.5 -> 1.0.6   ) [CRAN]\n"
     ]
    },
    {
     "name": "stderr",
     "output_type": "stream",
     "text": [
      "Installing 2 packages: BH, Rcpp\n",
      "\n",
      "Updating HTML index of packages in '.Library'\n",
      "\n",
      "Making 'packages.html' ...\n",
      " done\n",
      "\n"
     ]
    },
    {
     "name": "stdout",
     "output_type": "stream",
     "text": [
      "\u001b[32m✔\u001b[39m  \u001b[90mchecking for file ‘/tmp/RtmpbrWCqw/remotes212b31eb314b/mkuhn-dict-f498319/DESCRIPTION’\u001b[39m\u001b[36m\u001b[39m\n",
      "\u001b[90m─\u001b[39m\u001b[90m  \u001b[39m\u001b[90mpreparing ‘dict’:\u001b[39m\u001b[36m\u001b[39m\n",
      "\u001b[32m✔\u001b[39m  \u001b[90mchecking DESCRIPTION meta-information\u001b[39m\u001b[36m\u001b[39m\n",
      "\u001b[90m─\u001b[39m\u001b[90m  \u001b[39m\u001b[90mcleaning src\u001b[39m\u001b[36m\u001b[39m\n",
      "\u001b[90m─\u001b[39m\u001b[90m  \u001b[39m\u001b[90minstalling the package to process help pages\u001b[39m\u001b[36m\u001b[39m\n",
      "\u001b[90m─\u001b[39m\u001b[90m  \u001b[39m\u001b[90msaving partial Rd database\u001b[39m\u001b[36m\u001b[36m (17.2s)\u001b[36m\u001b[39m\n",
      "\u001b[90m─\u001b[39m\u001b[90m  \u001b[39m\u001b[90mcleaning src\u001b[39m\u001b[36m\u001b[39m\n",
      "\u001b[90m─\u001b[39m\u001b[90m  \u001b[39m\u001b[90mchecking for LF line-endings in source and make files and shell scripts\u001b[39m\u001b[36m\u001b[39m\n",
      "\u001b[90m─\u001b[39m\u001b[90m  \u001b[39m\u001b[90mchecking for empty or unneeded directories\u001b[39m\u001b[36m\u001b[39m\n",
      "\u001b[90m─\u001b[39m\u001b[90m  \u001b[39m\u001b[90mbuilding ‘dict_0.10.0.tar.gz’\u001b[39m\u001b[36m\u001b[39m\n",
      "   \n",
      "\r"
     ]
    }
   ],
   "source": [
    "install.packages(\"remotes\")\n",
    "remotes::install_github(\"mkuhn/dict\")"
   ]
  },
  {
   "cell_type": "code",
   "execution_count": 3,
   "metadata": {},
   "outputs": [
    {
     "name": "stderr",
     "output_type": "stream",
     "text": [
      "also installing the dependencies ‘insight’, ‘sjlabelled’\n",
      "\n",
      "\n",
      "Updating HTML index of packages in '.Library'\n",
      "\n",
      "Making 'packages.html' ...\n",
      " done\n",
      "\n"
     ]
    }
   ],
   "source": [
    "install.packages(\"sjmisc\")"
   ]
  },
  {
   "cell_type": "code",
   "execution_count": 4,
   "metadata": {},
   "outputs": [
    {
     "name": "stderr",
     "output_type": "stream",
     "text": [
      "\n",
      "Attaching package: ‘dplyr’\n",
      "\n",
      "\n",
      "The following objects are masked from ‘package:data.table’:\n",
      "\n",
      "    between, first, last\n",
      "\n",
      "\n",
      "The following objects are masked from ‘package:stats’:\n",
      "\n",
      "    filter, lag\n",
      "\n",
      "\n",
      "The following objects are masked from ‘package:base’:\n",
      "\n",
      "    intersect, setdiff, setequal, union\n",
      "\n",
      "\n",
      "\n",
      "Attaching package: ‘tidyr’\n",
      "\n",
      "\n",
      "The following object is masked from ‘package:magrittr’:\n",
      "\n",
      "    extract\n",
      "\n",
      "\n",
      "\n",
      "Attaching package: ‘sjmisc’\n",
      "\n",
      "\n",
      "The following object is masked from ‘package:tidyr’:\n",
      "\n",
      "    replace_na\n",
      "\n",
      "\n"
     ]
    }
   ],
   "source": [
    "library(data.table)\n",
    "library(magrittr)\n",
    "library(dplyr)\n",
    "library(tidyr)\n",
    "library(sjmisc)\n",
    "library(dict)\n",
    "library(stats)"
   ]
  },
  {
   "cell_type": "markdown",
   "metadata": {},
   "source": [
    "Whole Blood DF"
   ]
  },
  {
   "cell_type": "code",
   "execution_count": 5,
   "metadata": {},
   "outputs": [
    {
     "name": "stdout",
     "output_type": "stream",
     "text": [
      "Avoidable 13.219 seconds. This file is very unusual: it ends abruptly without a final newline, and also its size is a multiple of 4096 bytes. Please properly end the last row with a newline using for example 'echo >> file' to avoid this  time to copy.\n"
     ]
    },
    {
     "name": "stderr",
     "output_type": "stream",
     "text": [
      "Warning message in fread(fn1, data.table = F):\n",
      "“Discarded single-line footer: <<\"GSM1008317\",\"SUB134244\",63.67,\"Male\",\"White\",\"SDY212\",16.04552164,11.12499688,7.66274171,9.3022515535,13.71108939,7.233837263,7.693793282,7.420161509,7.166243439,10.220894368,7.228720584,9.720067053,7.400436316,9.068089005,7.3019745505,7.274963267,7.307868371,6.879948319,8.1217533825,11.14300304,8.3590256535,7.668949496,7.508974472,7.17319041,9.928773434,11.13384797,7.7605063975,9.911360527,7.781743288,7.021383115,7.484818867,7.500712041,7.816412293,8.548237007,9.1320352925,7.3406620935,7.48756>>”\n"
     ]
    }
   ],
   "source": [
    "fn1 = \"gene_wb_formatted.csv\"\n",
    "wb = fread(fn1, data.table = F)"
   ]
  },
  {
   "cell_type": "code",
   "execution_count": 6,
   "metadata": {},
   "outputs": [],
   "source": [
    "drop = 'NA'\n",
    "wb_drop = wb[ , !(colnames(wb) %in% drop)]"
   ]
  },
  {
   "cell_type": "markdown",
   "metadata": {},
   "source": [
    "Results DF"
   ]
  },
  {
   "cell_type": "code",
   "execution_count": 7,
   "metadata": {},
   "outputs": [],
   "source": [
    "### LOADING txt files\n",
    "# read cmv lab test results\n",
    "fn = \"lab_test.txt\"\n",
    "lab_test = fread(fn, data.table = F)\n",
    "cmv = lab_test%>%filter(NAME_REPORTED==\"CMV Ab\")\n",
    "#View(cmv)\n",
    "\n",
    "# read expsample to biosample\n",
    "fn = \"expsample_2_biosample.txt\"\n",
    "e2b = fread(fn, data.table = F)\n",
    "\n",
    "\n",
    "# read biosample table\n",
    "fn = \"biosample.txt\"\n",
    "biosample = fread(fn, data.table = F)\n",
    "biosample = biosample%>%select(SUBJECT_ACCESSION, BIOSAMPLE_ACCESSION, STUDY_ACCESSION)\n",
    "\n",
    "\n",
    "# find gene expression result\n",
    "fn = \"expsample_public_repository.txt\"\n",
    "pub_repos = fread(fn, data.table = F)\n",
    "pub_repos = pub_repos%>%filter(REPOSITORY_NAME==\"GEO\")\n",
    "\n",
    "\n",
    "### JOINING TABLES\n",
    "#(1) map CMV result to subject ID\n",
    "cmv = cmv%>%inner_join(biosample, by=\"BIOSAMPLE_ACCESSION\")\n",
    "\n",
    "\n",
    "#(2) map gene expression result to biosample w/ expsample_accession\n",
    "pub_repos1 = pub_repos%>%inner_join(e2b[, c(\"EXPSAMPLE_ACCESSION\",\"BIOSAMPLE_ACCESSION\")], by=\"EXPSAMPLE_ACCESSION\")\n",
    "\n",
    "\n",
    "#(3) map gene expression result to subject\n",
    "pub_repos2 = pub_repos1%>%inner_join(biosample, by=\"BIOSAMPLE_ACCESSION\")\n",
    "\n",
    "\n",
    "# map gene expression with CMV result\n",
    "results = cmv%>%inner_join(pub_repos2, by=c(\"SUBJECT_ACCESSION\",\"STUDY_ACCESSION\"))#<<== ORIGINAL JOIN\n",
    "##results = cmv%>%full_join(pub_repos2, by=c(\"SUBJECT_ACCESSION\",\"STUDY_ACCESSION\", \"BIOSAMPLE_ACCESSION\"))"
   ]
  },
  {
   "cell_type": "code",
   "execution_count": 8,
   "metadata": {},
   "outputs": [
    {
     "data": {
      "text/html": [
       "<table>\n",
       "<caption>A data.frame: 6 × 18</caption>\n",
       "<thead>\n",
       "\t<tr><th></th><th scope=col>LAB_TEST_ACCESSION</th><th scope=col>LAB_TEST_PANEL_ACCESSION</th><th scope=col>BIOSAMPLE_ACCESSION.x</th><th scope=col>NAME_PREFERRED</th><th scope=col>NAME_REPORTED</th><th scope=col>REFERENCE_RANGE_ACCESSION</th><th scope=col>RESULT_UNIT_PREFERRED</th><th scope=col>RESULT_UNIT_REPORTED</th><th scope=col>RESULT_VALUE_PREFERRED</th><th scope=col>RESULT_VALUE_REPORTED</th><th scope=col>WORKSPACE_ID</th><th scope=col>SUBJECT_ACCESSION</th><th scope=col>STUDY_ACCESSION</th><th scope=col>RESULT_ID</th><th scope=col>EXPSAMPLE_ACCESSION</th><th scope=col>REPOSITORY_ACCESSION</th><th scope=col>REPOSITORY_NAME</th><th scope=col>BIOSAMPLE_ACCESSION.y</th></tr>\n",
       "\t<tr><th></th><th scope=col>&lt;chr&gt;</th><th scope=col>&lt;chr&gt;</th><th scope=col>&lt;chr&gt;</th><th scope=col>&lt;chr&gt;</th><th scope=col>&lt;chr&gt;</th><th scope=col>&lt;chr&gt;</th><th scope=col>&lt;chr&gt;</th><th scope=col>&lt;chr&gt;</th><th scope=col>&lt;dbl&gt;</th><th scope=col>&lt;chr&gt;</th><th scope=col>&lt;int&gt;</th><th scope=col>&lt;chr&gt;</th><th scope=col>&lt;chr&gt;</th><th scope=col>&lt;int&gt;</th><th scope=col>&lt;chr&gt;</th><th scope=col>&lt;chr&gt;</th><th scope=col>&lt;chr&gt;</th><th scope=col>&lt;chr&gt;</th></tr>\n",
       "</thead>\n",
       "<tbody>\n",
       "\t<tr><th scope=row>1</th><td>LT1075246</td><td>LP30085</td><td>BS965102</td><td></td><td>CMV Ab</td><td></td><td></td><td>Titer</td><td> 7.7</td><td>7.7 </td><td>2883</td><td>SUB134259</td><td>SDY315</td><td>473</td><td>ES781245</td><td>GSM1573135</td><td>GEO</td><td>BS717442</td></tr>\n",
       "\t<tr><th scope=row>2</th><td>LT1075248</td><td>LP30085</td><td>BS965103</td><td></td><td>CMV Ab</td><td></td><td></td><td>Titer</td><td> 1.0</td><td>1   </td><td>2883</td><td>SUB134295</td><td>SDY315</td><td>466</td><td>ES781252</td><td>GSM1573160</td><td>GEO</td><td>BS717449</td></tr>\n",
       "\t<tr><th scope=row>3</th><td>LT1075250</td><td>LP30085</td><td>BS965104</td><td></td><td>CMV Ab</td><td></td><td></td><td>Titer</td><td>-0.1</td><td>-0.1</td><td>2883</td><td>SUB134325</td><td>SDY315</td><td>485</td><td>ES781269</td><td>GSM1573175</td><td>GEO</td><td>BS717466</td></tr>\n",
       "\t<tr><th scope=row>4</th><td>LT1075252</td><td>LP30085</td><td>BS965105</td><td></td><td>CMV Ab</td><td></td><td></td><td>Titer</td><td>-0.2</td><td>-0.2</td><td>2883</td><td>SUB116530</td><td>SDY315</td><td>514</td><td>ES781233</td><td>GSM1573186</td><td>GEO</td><td>BS717430</td></tr>\n",
       "\t<tr><th scope=row>5</th><td>LT1075254</td><td>LP30085</td><td>BS965106</td><td></td><td>CMV Ab</td><td></td><td></td><td>Titer</td><td> 6.3</td><td>6.3 </td><td>2883</td><td>SUB134256</td><td>SDY315</td><td>461</td><td>ES781228</td><td>GSM1573132</td><td>GEO</td><td>BS717425</td></tr>\n",
       "\t<tr><th scope=row>6</th><td>LT1075256</td><td>LP30085</td><td>BS965107</td><td></td><td>CMV Ab</td><td></td><td></td><td>Titer</td><td>-0.1</td><td>-0.1</td><td>2883</td><td>SUB116534</td><td>SDY315</td><td>502</td><td>ES781229</td><td>GSM1573190</td><td>GEO</td><td>BS717426</td></tr>\n",
       "</tbody>\n",
       "</table>\n"
      ],
      "text/latex": [
       "A data.frame: 6 × 18\n",
       "\\begin{tabular}{r|llllllllllllllllll}\n",
       "  & LAB\\_TEST\\_ACCESSION & LAB\\_TEST\\_PANEL\\_ACCESSION & BIOSAMPLE\\_ACCESSION.x & NAME\\_PREFERRED & NAME\\_REPORTED & REFERENCE\\_RANGE\\_ACCESSION & RESULT\\_UNIT\\_PREFERRED & RESULT\\_UNIT\\_REPORTED & RESULT\\_VALUE\\_PREFERRED & RESULT\\_VALUE\\_REPORTED & WORKSPACE\\_ID & SUBJECT\\_ACCESSION & STUDY\\_ACCESSION & RESULT\\_ID & EXPSAMPLE\\_ACCESSION & REPOSITORY\\_ACCESSION & REPOSITORY\\_NAME & BIOSAMPLE\\_ACCESSION.y\\\\\n",
       "  & <chr> & <chr> & <chr> & <chr> & <chr> & <chr> & <chr> & <chr> & <dbl> & <chr> & <int> & <chr> & <chr> & <int> & <chr> & <chr> & <chr> & <chr>\\\\\n",
       "\\hline\n",
       "\t1 & LT1075246 & LP30085 & BS965102 &  & CMV Ab &  &  & Titer &  7.7 & 7.7  & 2883 & SUB134259 & SDY315 & 473 & ES781245 & GSM1573135 & GEO & BS717442\\\\\n",
       "\t2 & LT1075248 & LP30085 & BS965103 &  & CMV Ab &  &  & Titer &  1.0 & 1    & 2883 & SUB134295 & SDY315 & 466 & ES781252 & GSM1573160 & GEO & BS717449\\\\\n",
       "\t3 & LT1075250 & LP30085 & BS965104 &  & CMV Ab &  &  & Titer & -0.1 & -0.1 & 2883 & SUB134325 & SDY315 & 485 & ES781269 & GSM1573175 & GEO & BS717466\\\\\n",
       "\t4 & LT1075252 & LP30085 & BS965105 &  & CMV Ab &  &  & Titer & -0.2 & -0.2 & 2883 & SUB116530 & SDY315 & 514 & ES781233 & GSM1573186 & GEO & BS717430\\\\\n",
       "\t5 & LT1075254 & LP30085 & BS965106 &  & CMV Ab &  &  & Titer &  6.3 & 6.3  & 2883 & SUB134256 & SDY315 & 461 & ES781228 & GSM1573132 & GEO & BS717425\\\\\n",
       "\t6 & LT1075256 & LP30085 & BS965107 &  & CMV Ab &  &  & Titer & -0.1 & -0.1 & 2883 & SUB116534 & SDY315 & 502 & ES781229 & GSM1573190 & GEO & BS717426\\\\\n",
       "\\end{tabular}\n"
      ],
      "text/markdown": [
       "\n",
       "A data.frame: 6 × 18\n",
       "\n",
       "| <!--/--> | LAB_TEST_ACCESSION &lt;chr&gt; | LAB_TEST_PANEL_ACCESSION &lt;chr&gt; | BIOSAMPLE_ACCESSION.x &lt;chr&gt; | NAME_PREFERRED &lt;chr&gt; | NAME_REPORTED &lt;chr&gt; | REFERENCE_RANGE_ACCESSION &lt;chr&gt; | RESULT_UNIT_PREFERRED &lt;chr&gt; | RESULT_UNIT_REPORTED &lt;chr&gt; | RESULT_VALUE_PREFERRED &lt;dbl&gt; | RESULT_VALUE_REPORTED &lt;chr&gt; | WORKSPACE_ID &lt;int&gt; | SUBJECT_ACCESSION &lt;chr&gt; | STUDY_ACCESSION &lt;chr&gt; | RESULT_ID &lt;int&gt; | EXPSAMPLE_ACCESSION &lt;chr&gt; | REPOSITORY_ACCESSION &lt;chr&gt; | REPOSITORY_NAME &lt;chr&gt; | BIOSAMPLE_ACCESSION.y &lt;chr&gt; |\n",
       "|---|---|---|---|---|---|---|---|---|---|---|---|---|---|---|---|---|---|---|\n",
       "| 1 | LT1075246 | LP30085 | BS965102 | <!----> | CMV Ab | <!----> | <!----> | Titer |  7.7 | 7.7  | 2883 | SUB134259 | SDY315 | 473 | ES781245 | GSM1573135 | GEO | BS717442 |\n",
       "| 2 | LT1075248 | LP30085 | BS965103 | <!----> | CMV Ab | <!----> | <!----> | Titer |  1.0 | 1    | 2883 | SUB134295 | SDY315 | 466 | ES781252 | GSM1573160 | GEO | BS717449 |\n",
       "| 3 | LT1075250 | LP30085 | BS965104 | <!----> | CMV Ab | <!----> | <!----> | Titer | -0.1 | -0.1 | 2883 | SUB134325 | SDY315 | 485 | ES781269 | GSM1573175 | GEO | BS717466 |\n",
       "| 4 | LT1075252 | LP30085 | BS965105 | <!----> | CMV Ab | <!----> | <!----> | Titer | -0.2 | -0.2 | 2883 | SUB116530 | SDY315 | 514 | ES781233 | GSM1573186 | GEO | BS717430 |\n",
       "| 5 | LT1075254 | LP30085 | BS965106 | <!----> | CMV Ab | <!----> | <!----> | Titer |  6.3 | 6.3  | 2883 | SUB134256 | SDY315 | 461 | ES781228 | GSM1573132 | GEO | BS717425 |\n",
       "| 6 | LT1075256 | LP30085 | BS965107 | <!----> | CMV Ab | <!----> | <!----> | Titer | -0.1 | -0.1 | 2883 | SUB116534 | SDY315 | 502 | ES781229 | GSM1573190 | GEO | BS717426 |\n",
       "\n"
      ],
      "text/plain": [
       "  LAB_TEST_ACCESSION LAB_TEST_PANEL_ACCESSION BIOSAMPLE_ACCESSION.x\n",
       "1 LT1075246          LP30085                  BS965102             \n",
       "2 LT1075248          LP30085                  BS965103             \n",
       "3 LT1075250          LP30085                  BS965104             \n",
       "4 LT1075252          LP30085                  BS965105             \n",
       "5 LT1075254          LP30085                  BS965106             \n",
       "6 LT1075256          LP30085                  BS965107             \n",
       "  NAME_PREFERRED NAME_REPORTED REFERENCE_RANGE_ACCESSION RESULT_UNIT_PREFERRED\n",
       "1                CMV Ab                                                       \n",
       "2                CMV Ab                                                       \n",
       "3                CMV Ab                                                       \n",
       "4                CMV Ab                                                       \n",
       "5                CMV Ab                                                       \n",
       "6                CMV Ab                                                       \n",
       "  RESULT_UNIT_REPORTED RESULT_VALUE_PREFERRED RESULT_VALUE_REPORTED\n",
       "1 Titer                 7.7                   7.7                  \n",
       "2 Titer                 1.0                   1                    \n",
       "3 Titer                -0.1                   -0.1                 \n",
       "4 Titer                -0.2                   -0.2                 \n",
       "5 Titer                 6.3                   6.3                  \n",
       "6 Titer                -0.1                   -0.1                 \n",
       "  WORKSPACE_ID SUBJECT_ACCESSION STUDY_ACCESSION RESULT_ID EXPSAMPLE_ACCESSION\n",
       "1 2883         SUB134259         SDY315          473       ES781245           \n",
       "2 2883         SUB134295         SDY315          466       ES781252           \n",
       "3 2883         SUB134325         SDY315          485       ES781269           \n",
       "4 2883         SUB116530         SDY315          514       ES781233           \n",
       "5 2883         SUB134256         SDY315          461       ES781228           \n",
       "6 2883         SUB116534         SDY315          502       ES781229           \n",
       "  REPOSITORY_ACCESSION REPOSITORY_NAME BIOSAMPLE_ACCESSION.y\n",
       "1 GSM1573135           GEO             BS717442             \n",
       "2 GSM1573160           GEO             BS717449             \n",
       "3 GSM1573175           GEO             BS717466             \n",
       "4 GSM1573186           GEO             BS717430             \n",
       "5 GSM1573132           GEO             BS717425             \n",
       "6 GSM1573190           GEO             BS717426             "
      ]
     },
     "metadata": {},
     "output_type": "display_data"
    }
   ],
   "source": [
    "head(results)"
   ]
  },
  {
   "cell_type": "code",
   "execution_count": 9,
   "metadata": {},
   "outputs": [],
   "source": [
    "#res_x\n",
    "names(results)[grepl(\"BIOSAMPLE_ACCESSION.x\", names(results))] = \"BIOSAMPLE_ACCESSION\""
   ]
  },
  {
   "cell_type": "code",
   "execution_count": 10,
   "metadata": {},
   "outputs": [],
   "source": [
    "#dropped \"BIOSAMPLE_ACCESSION.y\", \"BIOSAMPLE_ACCESSION.x\" and \"BIOSAMPLE_ACCESSION.y\" parallel columns for same RESULT_VALUE_PREFERRED\n",
    "drop = \"BIOSAMPLE_ACCESSION.y\"\n",
    "res = results[,!(names(results) %in% drop)]"
   ]
  },
  {
   "cell_type": "code",
   "execution_count": 11,
   "metadata": {},
   "outputs": [],
   "source": [
    "gene_mat_inner = wb_drop%>%inner_join(res, by=c(\"subject_accession\"=\"SUBJECT_ACCESSION\"))#<<== *KEEP THIS ONE*\n",
    "#gene_mat = merge(wb,results, by=c(\"SUBJECT_ACCESSION\"), all = TRUE)"
   ]
  },
  {
   "cell_type": "code",
   "execution_count": 12,
   "metadata": {},
   "outputs": [
    {
     "data": {
      "text/html": [
       "<table>\n",
       "<caption>A data.frame: 6 × 18216</caption>\n",
       "<thead>\n",
       "\t<tr><th></th><th scope=col>data_accession</th><th scope=col>subject_accession</th><th scope=col>age</th><th scope=col>gender</th><th scope=col>race</th><th scope=col>study_accession</th><th scope=col>EEF1A1</th><th scope=col>GAPDH</th><th scope=col>SLC35E2</th><th scope=col>DUSP22</th><th scope=col>⋯</th><th scope=col>RESULT_UNIT_PREFERRED</th><th scope=col>RESULT_UNIT_REPORTED</th><th scope=col>RESULT_VALUE_PREFERRED</th><th scope=col>RESULT_VALUE_REPORTED</th><th scope=col>WORKSPACE_ID</th><th scope=col>STUDY_ACCESSION</th><th scope=col>RESULT_ID</th><th scope=col>EXPSAMPLE_ACCESSION</th><th scope=col>REPOSITORY_ACCESSION</th><th scope=col>REPOSITORY_NAME</th></tr>\n",
       "\t<tr><th></th><th scope=col>&lt;chr&gt;</th><th scope=col>&lt;chr&gt;</th><th scope=col>&lt;dbl&gt;</th><th scope=col>&lt;chr&gt;</th><th scope=col>&lt;chr&gt;</th><th scope=col>&lt;chr&gt;</th><th scope=col>&lt;dbl&gt;</th><th scope=col>&lt;dbl&gt;</th><th scope=col>&lt;dbl&gt;</th><th scope=col>&lt;dbl&gt;</th><th scope=col>⋯</th><th scope=col>&lt;chr&gt;</th><th scope=col>&lt;chr&gt;</th><th scope=col>&lt;dbl&gt;</th><th scope=col>&lt;chr&gt;</th><th scope=col>&lt;int&gt;</th><th scope=col>&lt;chr&gt;</th><th scope=col>&lt;int&gt;</th><th scope=col>&lt;chr&gt;</th><th scope=col>&lt;chr&gt;</th><th scope=col>&lt;chr&gt;</th></tr>\n",
       "</thead>\n",
       "<tbody>\n",
       "\t<tr><th scope=row>1</th><td>Ji_Batch2_22.295185</td><td>SUB116449</td><td>69.4</td><td>Male  </td><td>White</td><td>SDY112</td><td>11.07469</td><td>12.26052</td><td>6.594605</td><td>7.623319</td><td>⋯</td><td></td><td>Titer</td><td> 0.0</td><td>0   </td><td>2883</td><td>SDY311</td><td> 59</td><td>ES776616</td><td>GSM1422060</td><td>GEO</td></tr>\n",
       "\t<tr><th scope=row>2</th><td>Ji_Batch2_90.295250</td><td>SUB116515</td><td>74.3</td><td>Female</td><td>White</td><td>SDY112</td><td>10.79645</td><td>11.71058</td><td>6.893926</td><td>7.698674</td><td>⋯</td><td></td><td>Titer</td><td>-0.6</td><td>-0.6</td><td>2883</td><td>SDY315</td><td>509</td><td>ES781236</td><td>GSM1573176</td><td>GEO</td></tr>\n",
       "\t<tr><th scope=row>3</th><td>Ji_Batch2_3.295166 </td><td>SUB116516</td><td>85.7</td><td>Female</td><td>White</td><td>SDY112</td><td>11.21682</td><td>12.33463</td><td>6.735886</td><td>7.859069</td><td>⋯</td><td></td><td>Titer</td><td> 6.4</td><td>6.4 </td><td>2883</td><td>SDY315</td><td>495</td><td>ES781254</td><td>GSM1573177</td><td>GEO</td></tr>\n",
       "\t<tr><th scope=row>4</th><td>Ji_Batch2_52.295212</td><td>SUB116519</td><td>25.4</td><td>Male  </td><td>White</td><td>SDY112</td><td>11.11929</td><td>11.79117</td><td>6.944692</td><td>7.462226</td><td>⋯</td><td></td><td>Titer</td><td>-0.1</td><td>-0.1</td><td>2883</td><td>SDY315</td><td>510</td><td>ES781223</td><td>GSM1573178</td><td>GEO</td></tr>\n",
       "\t<tr><th scope=row>5</th><td>Ji_Batch2_40.295201</td><td>SUB116520</td><td>79.1</td><td>Male  </td><td>White</td><td>SDY112</td><td>11.05968</td><td>11.52055</td><td>6.958966</td><td>7.660048</td><td>⋯</td><td></td><td>Titer</td><td>-0.1</td><td>-0.1</td><td>2883</td><td>SDY315</td><td>517</td><td>ES781274</td><td>GSM1573179</td><td>GEO</td></tr>\n",
       "\t<tr><th scope=row>6</th><td>Ji_Batch2_48.295209</td><td>SUB116521</td><td>85.6</td><td>Female</td><td>White</td><td>SDY112</td><td>12.08360</td><td>12.06977</td><td>6.706719</td><td>7.670629</td><td>⋯</td><td></td><td>Titer</td><td> 5.6</td><td>5.6 </td><td>2883</td><td>SDY315</td><td>506</td><td>ES781272</td><td>GSM1573180</td><td>GEO</td></tr>\n",
       "</tbody>\n",
       "</table>\n"
      ],
      "text/latex": [
       "A data.frame: 6 × 18216\n",
       "\\begin{tabular}{r|lllllllllllllllllllll}\n",
       "  & data\\_accession & subject\\_accession & age & gender & race & study\\_accession & EEF1A1 & GAPDH & SLC35E2 & DUSP22 & ⋯ & RESULT\\_UNIT\\_PREFERRED & RESULT\\_UNIT\\_REPORTED & RESULT\\_VALUE\\_PREFERRED & RESULT\\_VALUE\\_REPORTED & WORKSPACE\\_ID & STUDY\\_ACCESSION & RESULT\\_ID & EXPSAMPLE\\_ACCESSION & REPOSITORY\\_ACCESSION & REPOSITORY\\_NAME\\\\\n",
       "  & <chr> & <chr> & <dbl> & <chr> & <chr> & <chr> & <dbl> & <dbl> & <dbl> & <dbl> & ⋯ & <chr> & <chr> & <dbl> & <chr> & <int> & <chr> & <int> & <chr> & <chr> & <chr>\\\\\n",
       "\\hline\n",
       "\t1 & Ji\\_Batch2\\_22.295185 & SUB116449 & 69.4 & Male   & White & SDY112 & 11.07469 & 12.26052 & 6.594605 & 7.623319 & ⋯ &  & Titer &  0.0 & 0    & 2883 & SDY311 &  59 & ES776616 & GSM1422060 & GEO\\\\\n",
       "\t2 & Ji\\_Batch2\\_90.295250 & SUB116515 & 74.3 & Female & White & SDY112 & 10.79645 & 11.71058 & 6.893926 & 7.698674 & ⋯ &  & Titer & -0.6 & -0.6 & 2883 & SDY315 & 509 & ES781236 & GSM1573176 & GEO\\\\\n",
       "\t3 & Ji\\_Batch2\\_3.295166  & SUB116516 & 85.7 & Female & White & SDY112 & 11.21682 & 12.33463 & 6.735886 & 7.859069 & ⋯ &  & Titer &  6.4 & 6.4  & 2883 & SDY315 & 495 & ES781254 & GSM1573177 & GEO\\\\\n",
       "\t4 & Ji\\_Batch2\\_52.295212 & SUB116519 & 25.4 & Male   & White & SDY112 & 11.11929 & 11.79117 & 6.944692 & 7.462226 & ⋯ &  & Titer & -0.1 & -0.1 & 2883 & SDY315 & 510 & ES781223 & GSM1573178 & GEO\\\\\n",
       "\t5 & Ji\\_Batch2\\_40.295201 & SUB116520 & 79.1 & Male   & White & SDY112 & 11.05968 & 11.52055 & 6.958966 & 7.660048 & ⋯ &  & Titer & -0.1 & -0.1 & 2883 & SDY315 & 517 & ES781274 & GSM1573179 & GEO\\\\\n",
       "\t6 & Ji\\_Batch2\\_48.295209 & SUB116521 & 85.6 & Female & White & SDY112 & 12.08360 & 12.06977 & 6.706719 & 7.670629 & ⋯ &  & Titer &  5.6 & 5.6  & 2883 & SDY315 & 506 & ES781272 & GSM1573180 & GEO\\\\\n",
       "\\end{tabular}\n"
      ],
      "text/markdown": [
       "\n",
       "A data.frame: 6 × 18216\n",
       "\n",
       "| <!--/--> | data_accession &lt;chr&gt; | subject_accession &lt;chr&gt; | age &lt;dbl&gt; | gender &lt;chr&gt; | race &lt;chr&gt; | study_accession &lt;chr&gt; | EEF1A1 &lt;dbl&gt; | GAPDH &lt;dbl&gt; | SLC35E2 &lt;dbl&gt; | DUSP22 &lt;dbl&gt; | ⋯ ⋯ | RESULT_UNIT_PREFERRED &lt;chr&gt; | RESULT_UNIT_REPORTED &lt;chr&gt; | RESULT_VALUE_PREFERRED &lt;dbl&gt; | RESULT_VALUE_REPORTED &lt;chr&gt; | WORKSPACE_ID &lt;int&gt; | STUDY_ACCESSION &lt;chr&gt; | RESULT_ID &lt;int&gt; | EXPSAMPLE_ACCESSION &lt;chr&gt; | REPOSITORY_ACCESSION &lt;chr&gt; | REPOSITORY_NAME &lt;chr&gt; |\n",
       "|---|---|---|---|---|---|---|---|---|---|---|---|---|---|---|---|---|---|---|---|---|---|\n",
       "| 1 | Ji_Batch2_22.295185 | SUB116449 | 69.4 | Male   | White | SDY112 | 11.07469 | 12.26052 | 6.594605 | 7.623319 | ⋯ | <!----> | Titer |  0.0 | 0    | 2883 | SDY311 |  59 | ES776616 | GSM1422060 | GEO |\n",
       "| 2 | Ji_Batch2_90.295250 | SUB116515 | 74.3 | Female | White | SDY112 | 10.79645 | 11.71058 | 6.893926 | 7.698674 | ⋯ | <!----> | Titer | -0.6 | -0.6 | 2883 | SDY315 | 509 | ES781236 | GSM1573176 | GEO |\n",
       "| 3 | Ji_Batch2_3.295166  | SUB116516 | 85.7 | Female | White | SDY112 | 11.21682 | 12.33463 | 6.735886 | 7.859069 | ⋯ | <!----> | Titer |  6.4 | 6.4  | 2883 | SDY315 | 495 | ES781254 | GSM1573177 | GEO |\n",
       "| 4 | Ji_Batch2_52.295212 | SUB116519 | 25.4 | Male   | White | SDY112 | 11.11929 | 11.79117 | 6.944692 | 7.462226 | ⋯ | <!----> | Titer | -0.1 | -0.1 | 2883 | SDY315 | 510 | ES781223 | GSM1573178 | GEO |\n",
       "| 5 | Ji_Batch2_40.295201 | SUB116520 | 79.1 | Male   | White | SDY112 | 11.05968 | 11.52055 | 6.958966 | 7.660048 | ⋯ | <!----> | Titer | -0.1 | -0.1 | 2883 | SDY315 | 517 | ES781274 | GSM1573179 | GEO |\n",
       "| 6 | Ji_Batch2_48.295209 | SUB116521 | 85.6 | Female | White | SDY112 | 12.08360 | 12.06977 | 6.706719 | 7.670629 | ⋯ | <!----> | Titer |  5.6 | 5.6  | 2883 | SDY315 | 506 | ES781272 | GSM1573180 | GEO |\n",
       "\n"
      ],
      "text/plain": [
       "  data_accession      subject_accession age  gender race  study_accession\n",
       "1 Ji_Batch2_22.295185 SUB116449         69.4 Male   White SDY112         \n",
       "2 Ji_Batch2_90.295250 SUB116515         74.3 Female White SDY112         \n",
       "3 Ji_Batch2_3.295166  SUB116516         85.7 Female White SDY112         \n",
       "4 Ji_Batch2_52.295212 SUB116519         25.4 Male   White SDY112         \n",
       "5 Ji_Batch2_40.295201 SUB116520         79.1 Male   White SDY112         \n",
       "6 Ji_Batch2_48.295209 SUB116521         85.6 Female White SDY112         \n",
       "  EEF1A1   GAPDH    SLC35E2  DUSP22   ⋯ RESULT_UNIT_PREFERRED\n",
       "1 11.07469 12.26052 6.594605 7.623319 ⋯                      \n",
       "2 10.79645 11.71058 6.893926 7.698674 ⋯                      \n",
       "3 11.21682 12.33463 6.735886 7.859069 ⋯                      \n",
       "4 11.11929 11.79117 6.944692 7.462226 ⋯                      \n",
       "5 11.05968 11.52055 6.958966 7.660048 ⋯                      \n",
       "6 12.08360 12.06977 6.706719 7.670629 ⋯                      \n",
       "  RESULT_UNIT_REPORTED RESULT_VALUE_PREFERRED RESULT_VALUE_REPORTED\n",
       "1 Titer                 0.0                   0                    \n",
       "2 Titer                -0.6                   -0.6                 \n",
       "3 Titer                 6.4                   6.4                  \n",
       "4 Titer                -0.1                   -0.1                 \n",
       "5 Titer                -0.1                   -0.1                 \n",
       "6 Titer                 5.6                   5.6                  \n",
       "  WORKSPACE_ID STUDY_ACCESSION RESULT_ID EXPSAMPLE_ACCESSION\n",
       "1 2883         SDY311           59       ES776616           \n",
       "2 2883         SDY315          509       ES781236           \n",
       "3 2883         SDY315          495       ES781254           \n",
       "4 2883         SDY315          510       ES781223           \n",
       "5 2883         SDY315          517       ES781274           \n",
       "6 2883         SDY315          506       ES781272           \n",
       "  REPOSITORY_ACCESSION REPOSITORY_NAME\n",
       "1 GSM1422060           GEO            \n",
       "2 GSM1573176           GEO            \n",
       "3 GSM1573177           GEO            \n",
       "4 GSM1573178           GEO            \n",
       "5 GSM1573179           GEO            \n",
       "6 GSM1573180           GEO            "
      ]
     },
     "metadata": {},
     "output_type": "display_data"
    }
   ],
   "source": [
    "head(gene_mat_inner)"
   ]
  },
  {
   "cell_type": "code",
   "execution_count": 13,
   "metadata": {},
   "outputs": [],
   "source": [
    "gen_inner = gene_mat_inner[!duplicated(gene_mat_inner$subject_accession), ]"
   ]
  },
  {
   "cell_type": "code",
   "execution_count": 14,
   "metadata": {},
   "outputs": [
    {
     "data": {
      "text/html": [
       "<table>\n",
       "<caption>A data.frame: 6 × 18216</caption>\n",
       "<thead>\n",
       "\t<tr><th></th><th scope=col>data_accession</th><th scope=col>subject_accession</th><th scope=col>age</th><th scope=col>gender</th><th scope=col>race</th><th scope=col>study_accession</th><th scope=col>EEF1A1</th><th scope=col>GAPDH</th><th scope=col>SLC35E2</th><th scope=col>DUSP22</th><th scope=col>⋯</th><th scope=col>RESULT_UNIT_PREFERRED</th><th scope=col>RESULT_UNIT_REPORTED</th><th scope=col>RESULT_VALUE_PREFERRED</th><th scope=col>RESULT_VALUE_REPORTED</th><th scope=col>WORKSPACE_ID</th><th scope=col>STUDY_ACCESSION</th><th scope=col>RESULT_ID</th><th scope=col>EXPSAMPLE_ACCESSION</th><th scope=col>REPOSITORY_ACCESSION</th><th scope=col>REPOSITORY_NAME</th></tr>\n",
       "\t<tr><th></th><th scope=col>&lt;chr&gt;</th><th scope=col>&lt;chr&gt;</th><th scope=col>&lt;dbl&gt;</th><th scope=col>&lt;chr&gt;</th><th scope=col>&lt;chr&gt;</th><th scope=col>&lt;chr&gt;</th><th scope=col>&lt;dbl&gt;</th><th scope=col>&lt;dbl&gt;</th><th scope=col>&lt;dbl&gt;</th><th scope=col>&lt;dbl&gt;</th><th scope=col>⋯</th><th scope=col>&lt;chr&gt;</th><th scope=col>&lt;chr&gt;</th><th scope=col>&lt;dbl&gt;</th><th scope=col>&lt;chr&gt;</th><th scope=col>&lt;int&gt;</th><th scope=col>&lt;chr&gt;</th><th scope=col>&lt;int&gt;</th><th scope=col>&lt;chr&gt;</th><th scope=col>&lt;chr&gt;</th><th scope=col>&lt;chr&gt;</th></tr>\n",
       "</thead>\n",
       "<tbody>\n",
       "\t<tr><th scope=row>1</th><td>Ji_Batch2_22.295185</td><td>SUB116449</td><td>69.4</td><td>Male  </td><td>White</td><td>SDY112</td><td>11.07469</td><td>12.26052</td><td>6.594605</td><td>7.623319</td><td>⋯</td><td></td><td>Titer</td><td> 0.0</td><td>0   </td><td>2883</td><td>SDY311</td><td> 59</td><td>ES776616</td><td>GSM1422060</td><td>GEO</td></tr>\n",
       "\t<tr><th scope=row>2</th><td>Ji_Batch2_90.295250</td><td>SUB116515</td><td>74.3</td><td>Female</td><td>White</td><td>SDY112</td><td>10.79645</td><td>11.71058</td><td>6.893926</td><td>7.698674</td><td>⋯</td><td></td><td>Titer</td><td>-0.6</td><td>-0.6</td><td>2883</td><td>SDY315</td><td>509</td><td>ES781236</td><td>GSM1573176</td><td>GEO</td></tr>\n",
       "\t<tr><th scope=row>3</th><td>Ji_Batch2_3.295166 </td><td>SUB116516</td><td>85.7</td><td>Female</td><td>White</td><td>SDY112</td><td>11.21682</td><td>12.33463</td><td>6.735886</td><td>7.859069</td><td>⋯</td><td></td><td>Titer</td><td> 6.4</td><td>6.4 </td><td>2883</td><td>SDY315</td><td>495</td><td>ES781254</td><td>GSM1573177</td><td>GEO</td></tr>\n",
       "\t<tr><th scope=row>4</th><td>Ji_Batch2_52.295212</td><td>SUB116519</td><td>25.4</td><td>Male  </td><td>White</td><td>SDY112</td><td>11.11929</td><td>11.79117</td><td>6.944692</td><td>7.462226</td><td>⋯</td><td></td><td>Titer</td><td>-0.1</td><td>-0.1</td><td>2883</td><td>SDY315</td><td>510</td><td>ES781223</td><td>GSM1573178</td><td>GEO</td></tr>\n",
       "\t<tr><th scope=row>5</th><td>Ji_Batch2_40.295201</td><td>SUB116520</td><td>79.1</td><td>Male  </td><td>White</td><td>SDY112</td><td>11.05968</td><td>11.52055</td><td>6.958966</td><td>7.660048</td><td>⋯</td><td></td><td>Titer</td><td>-0.1</td><td>-0.1</td><td>2883</td><td>SDY315</td><td>517</td><td>ES781274</td><td>GSM1573179</td><td>GEO</td></tr>\n",
       "\t<tr><th scope=row>6</th><td>Ji_Batch2_48.295209</td><td>SUB116521</td><td>85.6</td><td>Female</td><td>White</td><td>SDY112</td><td>12.08360</td><td>12.06977</td><td>6.706719</td><td>7.670629</td><td>⋯</td><td></td><td>Titer</td><td> 5.6</td><td>5.6 </td><td>2883</td><td>SDY315</td><td>506</td><td>ES781272</td><td>GSM1573180</td><td>GEO</td></tr>\n",
       "</tbody>\n",
       "</table>\n"
      ],
      "text/latex": [
       "A data.frame: 6 × 18216\n",
       "\\begin{tabular}{r|lllllllllllllllllllll}\n",
       "  & data\\_accession & subject\\_accession & age & gender & race & study\\_accession & EEF1A1 & GAPDH & SLC35E2 & DUSP22 & ⋯ & RESULT\\_UNIT\\_PREFERRED & RESULT\\_UNIT\\_REPORTED & RESULT\\_VALUE\\_PREFERRED & RESULT\\_VALUE\\_REPORTED & WORKSPACE\\_ID & STUDY\\_ACCESSION & RESULT\\_ID & EXPSAMPLE\\_ACCESSION & REPOSITORY\\_ACCESSION & REPOSITORY\\_NAME\\\\\n",
       "  & <chr> & <chr> & <dbl> & <chr> & <chr> & <chr> & <dbl> & <dbl> & <dbl> & <dbl> & ⋯ & <chr> & <chr> & <dbl> & <chr> & <int> & <chr> & <int> & <chr> & <chr> & <chr>\\\\\n",
       "\\hline\n",
       "\t1 & Ji\\_Batch2\\_22.295185 & SUB116449 & 69.4 & Male   & White & SDY112 & 11.07469 & 12.26052 & 6.594605 & 7.623319 & ⋯ &  & Titer &  0.0 & 0    & 2883 & SDY311 &  59 & ES776616 & GSM1422060 & GEO\\\\\n",
       "\t2 & Ji\\_Batch2\\_90.295250 & SUB116515 & 74.3 & Female & White & SDY112 & 10.79645 & 11.71058 & 6.893926 & 7.698674 & ⋯ &  & Titer & -0.6 & -0.6 & 2883 & SDY315 & 509 & ES781236 & GSM1573176 & GEO\\\\\n",
       "\t3 & Ji\\_Batch2\\_3.295166  & SUB116516 & 85.7 & Female & White & SDY112 & 11.21682 & 12.33463 & 6.735886 & 7.859069 & ⋯ &  & Titer &  6.4 & 6.4  & 2883 & SDY315 & 495 & ES781254 & GSM1573177 & GEO\\\\\n",
       "\t4 & Ji\\_Batch2\\_52.295212 & SUB116519 & 25.4 & Male   & White & SDY112 & 11.11929 & 11.79117 & 6.944692 & 7.462226 & ⋯ &  & Titer & -0.1 & -0.1 & 2883 & SDY315 & 510 & ES781223 & GSM1573178 & GEO\\\\\n",
       "\t5 & Ji\\_Batch2\\_40.295201 & SUB116520 & 79.1 & Male   & White & SDY112 & 11.05968 & 11.52055 & 6.958966 & 7.660048 & ⋯ &  & Titer & -0.1 & -0.1 & 2883 & SDY315 & 517 & ES781274 & GSM1573179 & GEO\\\\\n",
       "\t6 & Ji\\_Batch2\\_48.295209 & SUB116521 & 85.6 & Female & White & SDY112 & 12.08360 & 12.06977 & 6.706719 & 7.670629 & ⋯ &  & Titer &  5.6 & 5.6  & 2883 & SDY315 & 506 & ES781272 & GSM1573180 & GEO\\\\\n",
       "\\end{tabular}\n"
      ],
      "text/markdown": [
       "\n",
       "A data.frame: 6 × 18216\n",
       "\n",
       "| <!--/--> | data_accession &lt;chr&gt; | subject_accession &lt;chr&gt; | age &lt;dbl&gt; | gender &lt;chr&gt; | race &lt;chr&gt; | study_accession &lt;chr&gt; | EEF1A1 &lt;dbl&gt; | GAPDH &lt;dbl&gt; | SLC35E2 &lt;dbl&gt; | DUSP22 &lt;dbl&gt; | ⋯ ⋯ | RESULT_UNIT_PREFERRED &lt;chr&gt; | RESULT_UNIT_REPORTED &lt;chr&gt; | RESULT_VALUE_PREFERRED &lt;dbl&gt; | RESULT_VALUE_REPORTED &lt;chr&gt; | WORKSPACE_ID &lt;int&gt; | STUDY_ACCESSION &lt;chr&gt; | RESULT_ID &lt;int&gt; | EXPSAMPLE_ACCESSION &lt;chr&gt; | REPOSITORY_ACCESSION &lt;chr&gt; | REPOSITORY_NAME &lt;chr&gt; |\n",
       "|---|---|---|---|---|---|---|---|---|---|---|---|---|---|---|---|---|---|---|---|---|---|\n",
       "| 1 | Ji_Batch2_22.295185 | SUB116449 | 69.4 | Male   | White | SDY112 | 11.07469 | 12.26052 | 6.594605 | 7.623319 | ⋯ | <!----> | Titer |  0.0 | 0    | 2883 | SDY311 |  59 | ES776616 | GSM1422060 | GEO |\n",
       "| 2 | Ji_Batch2_90.295250 | SUB116515 | 74.3 | Female | White | SDY112 | 10.79645 | 11.71058 | 6.893926 | 7.698674 | ⋯ | <!----> | Titer | -0.6 | -0.6 | 2883 | SDY315 | 509 | ES781236 | GSM1573176 | GEO |\n",
       "| 3 | Ji_Batch2_3.295166  | SUB116516 | 85.7 | Female | White | SDY112 | 11.21682 | 12.33463 | 6.735886 | 7.859069 | ⋯ | <!----> | Titer |  6.4 | 6.4  | 2883 | SDY315 | 495 | ES781254 | GSM1573177 | GEO |\n",
       "| 4 | Ji_Batch2_52.295212 | SUB116519 | 25.4 | Male   | White | SDY112 | 11.11929 | 11.79117 | 6.944692 | 7.462226 | ⋯ | <!----> | Titer | -0.1 | -0.1 | 2883 | SDY315 | 510 | ES781223 | GSM1573178 | GEO |\n",
       "| 5 | Ji_Batch2_40.295201 | SUB116520 | 79.1 | Male   | White | SDY112 | 11.05968 | 11.52055 | 6.958966 | 7.660048 | ⋯ | <!----> | Titer | -0.1 | -0.1 | 2883 | SDY315 | 517 | ES781274 | GSM1573179 | GEO |\n",
       "| 6 | Ji_Batch2_48.295209 | SUB116521 | 85.6 | Female | White | SDY112 | 12.08360 | 12.06977 | 6.706719 | 7.670629 | ⋯ | <!----> | Titer |  5.6 | 5.6  | 2883 | SDY315 | 506 | ES781272 | GSM1573180 | GEO |\n",
       "\n"
      ],
      "text/plain": [
       "  data_accession      subject_accession age  gender race  study_accession\n",
       "1 Ji_Batch2_22.295185 SUB116449         69.4 Male   White SDY112         \n",
       "2 Ji_Batch2_90.295250 SUB116515         74.3 Female White SDY112         \n",
       "3 Ji_Batch2_3.295166  SUB116516         85.7 Female White SDY112         \n",
       "4 Ji_Batch2_52.295212 SUB116519         25.4 Male   White SDY112         \n",
       "5 Ji_Batch2_40.295201 SUB116520         79.1 Male   White SDY112         \n",
       "6 Ji_Batch2_48.295209 SUB116521         85.6 Female White SDY112         \n",
       "  EEF1A1   GAPDH    SLC35E2  DUSP22   ⋯ RESULT_UNIT_PREFERRED\n",
       "1 11.07469 12.26052 6.594605 7.623319 ⋯                      \n",
       "2 10.79645 11.71058 6.893926 7.698674 ⋯                      \n",
       "3 11.21682 12.33463 6.735886 7.859069 ⋯                      \n",
       "4 11.11929 11.79117 6.944692 7.462226 ⋯                      \n",
       "5 11.05968 11.52055 6.958966 7.660048 ⋯                      \n",
       "6 12.08360 12.06977 6.706719 7.670629 ⋯                      \n",
       "  RESULT_UNIT_REPORTED RESULT_VALUE_PREFERRED RESULT_VALUE_REPORTED\n",
       "1 Titer                 0.0                   0                    \n",
       "2 Titer                -0.6                   -0.6                 \n",
       "3 Titer                 6.4                   6.4                  \n",
       "4 Titer                -0.1                   -0.1                 \n",
       "5 Titer                -0.1                   -0.1                 \n",
       "6 Titer                 5.6                   5.6                  \n",
       "  WORKSPACE_ID STUDY_ACCESSION RESULT_ID EXPSAMPLE_ACCESSION\n",
       "1 2883         SDY311           59       ES776616           \n",
       "2 2883         SDY315          509       ES781236           \n",
       "3 2883         SDY315          495       ES781254           \n",
       "4 2883         SDY315          510       ES781223           \n",
       "5 2883         SDY315          517       ES781274           \n",
       "6 2883         SDY315          506       ES781272           \n",
       "  REPOSITORY_ACCESSION REPOSITORY_NAME\n",
       "1 GSM1422060           GEO            \n",
       "2 GSM1573176           GEO            \n",
       "3 GSM1573177           GEO            \n",
       "4 GSM1573178           GEO            \n",
       "5 GSM1573179           GEO            \n",
       "6 GSM1573180           GEO            "
      ]
     },
     "metadata": {},
     "output_type": "display_data"
    }
   ],
   "source": [
    "head(gen_inner)"
   ]
  },
  {
   "cell_type": "code",
   "execution_count": 15,
   "metadata": {},
   "outputs": [],
   "source": [
    "cols = c('data_accession','subject_accession','age','gender','race','study_accession', 'LAB_TEST_ACCESSION','LAB_TEST_PANEL_ACCESSION','BIOSAMPLE_ACCESSION','NAME_PREFERRED','NAME_REPORTED','REFERENCE_RANGE_ACCESSION','RESULT_UNIT_PREFERRED','RESULT_UNIT_REPORTED','RESULT_VALUE_PREFERRED','RESULT_VALUE_REPORTED','WORKSPACE_ID','STUDY_ACCESSION','RESULT_ID','EXPSAMPLE_ACCESSION','REPOSITORY_ACCESSION','REPOSITORY_NAME')"
   ]
  },
  {
   "cell_type": "code",
   "execution_count": 40,
   "metadata": {},
   "outputs": [
    {
     "data": {
      "text/html": [
       "'summary.lm'"
      ],
      "text/latex": [
       "'summary.lm'"
      ],
      "text/markdown": [
       "'summary.lm'"
      ],
      "text/plain": [
       "[1] \"summary.lm\""
      ]
     },
     "metadata": {},
     "output_type": "display_data"
    }
   ],
   "source": [
    "class(summary(lm(gen_inner[, 'EEF1A1']~gen_inner[,'RESULT_VALUE_PREFERRED']+gen_inner[,'STUDY_ACCESSION'])))#access via matrix notation"
   ]
  },
  {
   "cell_type": "code",
   "execution_count": 57,
   "metadata": {},
   "outputs": [
    {
     "data": {
      "text/html": [
       "0.555522339157102"
      ],
      "text/latex": [
       "0.555522339157102"
      ],
      "text/markdown": [
       "0.555522339157102"
      ],
      "text/plain": [
       "[1] 0.5555223"
      ]
     },
     "metadata": {},
     "output_type": "display_data"
    }
   ],
   "source": [
    "summary(lm(gen_inner[, 'EEF1A1']~gen_inner[,'RESULT_VALUE_PREFERRED']+gen_inner[,'STUDY_ACCESSION']))$coefficients[2,4]"
   ]
  },
  {
   "cell_type": "code",
   "execution_count": 61,
   "metadata": {},
   "outputs": [
    {
     "data": {
      "text/html": [
       "0.555522339157102"
      ],
      "text/latex": [
       "0.555522339157102"
      ],
      "text/markdown": [
       "0.555522339157102"
      ],
      "text/plain": [
       "[1] 0.5555223"
      ]
     },
     "metadata": {},
     "output_type": "display_data"
    }
   ],
   "source": [
    "summary(lm(gen_inner[, 'EEF1A1']~gen_inner[,'RESULT_VALUE_PREFERRED']+gen_inner[,'STUDY_ACCESSION']))$coefficients['gen_inner[, \"RESULT_VALUE_PREFERRED\"]','Pr(>|t|)']"
   ]
  },
  {
   "cell_type": "code",
   "execution_count": 52,
   "metadata": {},
   "outputs": [
    {
     "data": {
      "text/html": [
       "0.555522339157102"
      ],
      "text/latex": [
       "0.555522339157102"
      ],
      "text/markdown": [
       "0.555522339157102"
      ],
      "text/plain": [
       "[1] 0.5555223"
      ]
     },
     "metadata": {},
     "output_type": "display_data"
    }
   ],
   "source": [
    "summary(lm(gen_inner[, 'EEF1A1']~gen_inner[,'RESULT_VALUE_PREFERRED']+gen_inner[,'STUDY_ACCESSION']))$coefficients[17]"
   ]
  },
  {
   "cell_type": "code",
   "execution_count": 51,
   "metadata": {},
   "outputs": [
    {
     "data": {
      "text/html": [
       "<table>\n",
       "<caption>A matrix: 5 × 4 of type dbl</caption>\n",
       "<thead>\n",
       "\t<tr><th></th><th scope=col>Estimate</th><th scope=col>Std. Error</th><th scope=col>t value</th><th scope=col>Pr(&gt;|t|)</th></tr>\n",
       "</thead>\n",
       "<tbody>\n",
       "\t<tr><th scope=row>(Intercept)</th><td>11.44142832</td><td>0.37164213</td><td>30.7861444</td><td>1.488100e-48</td></tr>\n",
       "\t<tr><th scope=row>gen_inner[, \"RESULT_VALUE_PREFERRED\"]</th><td> 0.02288302</td><td>0.03866712</td><td> 0.5917954</td><td>5.555223e-01</td></tr>\n",
       "\t<tr><th scope=row>gen_inner[, \"STUDY_ACCESSION\"]SDY305</th><td> 1.38054630</td><td>0.49483926</td><td> 2.7898884</td><td>6.477752e-03</td></tr>\n",
       "\t<tr><th scope=row>gen_inner[, \"STUDY_ACCESSION\"]SDY311</th><td> 1.08700696</td><td>0.47383145</td><td> 2.2940794</td><td>2.419464e-02</td></tr>\n",
       "\t<tr><th scope=row>gen_inner[, \"STUDY_ACCESSION\"]SDY315</th><td>-0.34453133</td><td>0.38194263</td><td>-0.9020499</td><td>3.695209e-01</td></tr>\n",
       "</tbody>\n",
       "</table>\n"
      ],
      "text/latex": [
       "A matrix: 5 × 4 of type dbl\n",
       "\\begin{tabular}{r|llll}\n",
       "  & Estimate & Std. Error & t value & Pr(>\\textbar{}t\\textbar{})\\\\\n",
       "\\hline\n",
       "\t(Intercept) & 11.44142832 & 0.37164213 & 30.7861444 & 1.488100e-48\\\\\n",
       "\tgen\\_inner{[}, \"RESULT\\_VALUE\\_PREFERRED\"{]} &  0.02288302 & 0.03866712 &  0.5917954 & 5.555223e-01\\\\\n",
       "\tgen\\_inner{[}, \"STUDY\\_ACCESSION\"{]}SDY305 &  1.38054630 & 0.49483926 &  2.7898884 & 6.477752e-03\\\\\n",
       "\tgen\\_inner{[}, \"STUDY\\_ACCESSION\"{]}SDY311 &  1.08700696 & 0.47383145 &  2.2940794 & 2.419464e-02\\\\\n",
       "\tgen\\_inner{[}, \"STUDY\\_ACCESSION\"{]}SDY315 & -0.34453133 & 0.38194263 & -0.9020499 & 3.695209e-01\\\\\n",
       "\\end{tabular}\n"
      ],
      "text/markdown": [
       "\n",
       "A matrix: 5 × 4 of type dbl\n",
       "\n",
       "| <!--/--> | Estimate | Std. Error | t value | Pr(&gt;|t|) |\n",
       "|---|---|---|---|---|\n",
       "| (Intercept) | 11.44142832 | 0.37164213 | 30.7861444 | 1.488100e-48 |\n",
       "| gen_inner[, \"RESULT_VALUE_PREFERRED\"] |  0.02288302 | 0.03866712 |  0.5917954 | 5.555223e-01 |\n",
       "| gen_inner[, \"STUDY_ACCESSION\"]SDY305 |  1.38054630 | 0.49483926 |  2.7898884 | 6.477752e-03 |\n",
       "| gen_inner[, \"STUDY_ACCESSION\"]SDY311 |  1.08700696 | 0.47383145 |  2.2940794 | 2.419464e-02 |\n",
       "| gen_inner[, \"STUDY_ACCESSION\"]SDY315 | -0.34453133 | 0.38194263 | -0.9020499 | 3.695209e-01 |\n",
       "\n"
      ],
      "text/plain": [
       "                                      Estimate    Std. Error t value   \n",
       "(Intercept)                           11.44142832 0.37164213 30.7861444\n",
       "gen_inner[, \"RESULT_VALUE_PREFERRED\"]  0.02288302 0.03866712  0.5917954\n",
       "gen_inner[, \"STUDY_ACCESSION\"]SDY305   1.38054630 0.49483926  2.7898884\n",
       "gen_inner[, \"STUDY_ACCESSION\"]SDY311   1.08700696 0.47383145  2.2940794\n",
       "gen_inner[, \"STUDY_ACCESSION\"]SDY315  -0.34453133 0.38194263 -0.9020499\n",
       "                                      Pr(>|t|)    \n",
       "(Intercept)                           1.488100e-48\n",
       "gen_inner[, \"RESULT_VALUE_PREFERRED\"] 5.555223e-01\n",
       "gen_inner[, \"STUDY_ACCESSION\"]SDY305  6.477752e-03\n",
       "gen_inner[, \"STUDY_ACCESSION\"]SDY311  2.419464e-02\n",
       "gen_inner[, \"STUDY_ACCESSION\"]SDY315  3.695209e-01"
      ]
     },
     "metadata": {},
     "output_type": "display_data"
    }
   ],
   "source": [
    "summary(lm(gen_inner[, 'EEF1A1']~gen_inner[,'RESULT_VALUE_PREFERRED']+gen_inner[,'STUDY_ACCESSION']))$coefficients#can't access columns"
   ]
  },
  {
   "cell_type": "code",
   "execution_count": 17,
   "metadata": {},
   "outputs": [],
   "source": [
    "#gene_full$RESULT_VALUE_PREFERRED\n",
    "gene_list = colnames(gen_inner)[!(colnames(gen_inner) == cols)]"
   ]
  },
  {
   "cell_type": "code",
   "execution_count": 18,
   "metadata": {},
   "outputs": [],
   "source": [
    "posclass = vector()\n",
    "negclass = vector()"
   ]
  },
  {
   "cell_type": "code",
   "execution_count": 19,
   "metadata": {},
   "outputs": [],
   "source": [
    "# remember the environment issue"
   ]
  },
  {
   "cell_type": "code",
   "execution_count": 53,
   "metadata": {},
   "outputs": [],
   "source": [
    "x = c('gene', 'class', 'cmvCoef', 'cmvSummPval','tMuPos', 'tMuNeg', 'tPval')\n",
    "df = data.frame(matrix(ncol = 11, nrow = 0))\n",
    "colnames(df) = x\n",
    "# ****with or without intercept ??"
   ]
  },
  {
   "cell_type": "code",
   "execution_count": 54,
   "metadata": {},
   "outputs": [],
   "source": [
    "# create function for add_row"
   ]
  },
  {
   "cell_type": "code",
   "execution_count": 55,
   "metadata": {},
   "outputs": [],
   "source": [
    "for(gene in gene_list) {\n",
    "    posclass = gen_inner[gene][gen_inner$RESULT_VALUE_PREFERRED > 2, ]\n",
    "    negclass = gen_inner[gene][gen_inner$RESULT_VALUE_PREFERRED <= 2, ]\n",
    "    \n",
    "    stat = t.test(posclass, negclass)# default: unpaired, two sided\n",
    "    diff = as.numeric(stat$estimate[1] - stat$estimate[2])# (posClassMu - negClassMu)\n",
    "\n",
    "    # diff > 0; pos dominant\n",
    "    if(diff > 0 & stat$p.value < 0.01) {\n",
    "        add_row = data.frame(gene, 'c1', \n",
    "                             as.numeric(lm(gen_inner[, gene]~gen_inner[,'RESULT_VALUE_PREFERRED']+gen_inner[,'STUDY_ACCESSION'])$coefficients[2]),\n",
    "                             summary(lm(gen_inner[, gene]~gen_inner[,'RESULT_VALUE_PREFERRED']+gen_inner[,'STUDY_ACCESSION']))$coefficients['gen_inner[, \"RESULT_VALUE_PREFERRED\"]','Pr(>|t|)'],\n",
    "                             as.numeric(stat$estimate[1]), as.numeric(stat$estimate[2]), as.numeric(stat$p.value))\n",
    "        colnames(add_row) = x\n",
    "        df = rbind(df, add_row)\n",
    "    }\n",
    "    # diff < 0; neg dominant\n",
    "    else if(diff  <= 0 & stat$p.value < 0.01) {\n",
    "        add_row = data.frame(gene, 'c2', \n",
    "                             as.numeric(lm(gen_inner[, gene]~gen_inner[,'RESULT_VALUE_PREFERRED']+gen_inner[,'STUDY_ACCESSION'])$coefficients[2]),\n",
    "                             summary(lm(gen_inner[, gene]~gen_inner[,'RESULT_VALUE_PREFERRED']+gen_inner[,'STUDY_ACCESSION']))$coefficients['gen_inner[, \"RESULT_VALUE_PREFERRED\"]','Pr(>|t|)'],\n",
    "                             as.numeric(stat$estimate[1]), as.numeric(stat$estimate[2]), as.numeric(stat$p.value))\n",
    "        colnames(add_row) = x\n",
    "        df = rbind(df, add_row)\n",
    "    }\n",
    "\n",
    "    else if(stat$p.value > 0.01) {# non sig\n",
    "        add_row = data.frame(gene, 'c3',\n",
    "                             as.numeric(lm(gen_inner[, gene]~gen_inner[,'RESULT_VALUE_PREFERRED']+gen_inner[,'STUDY_ACCESSION'])$coefficients[2]),\n",
    "                             summary(lm(gen_inner[, gene]~gen_inner[,'RESULT_VALUE_PREFERRED']+gen_inner[,'STUDY_ACCESSION']))$coefficients['gen_inner[, \"RESULT_VALUE_PREFERRED\"]','Pr(>|t|)'],\n",
    "                             as.numeric(stat$estimate[1]), as.numeric(stat$estimate[2]), as.numeric(stat$p.value))\n",
    "        colnames(add_row) = x\n",
    "        df = rbind(df, add_row)\n",
    "    }\n",
    "}"
   ]
  },
  {
   "cell_type": "code",
   "execution_count": 56,
   "metadata": {},
   "outputs": [
    {
     "data": {
      "text/html": [
       "<table>\n",
       "<caption>A data.frame: 6 × 7</caption>\n",
       "<thead>\n",
       "\t<tr><th></th><th scope=col>gene</th><th scope=col>class</th><th scope=col>cmvCoef</th><th scope=col>cmvSummPval</th><th scope=col>tMuPos</th><th scope=col>tMuNeg</th><th scope=col>tPval</th></tr>\n",
       "\t<tr><th></th><th scope=col>&lt;chr&gt;</th><th scope=col>&lt;chr&gt;</th><th scope=col>&lt;dbl&gt;</th><th scope=col>&lt;dbl&gt;</th><th scope=col>&lt;dbl&gt;</th><th scope=col>&lt;dbl&gt;</th><th scope=col>&lt;dbl&gt;</th></tr>\n",
       "</thead>\n",
       "<tbody>\n",
       "\t<tr><th scope=row>1</th><td>EEF1A1 </td><td>c3</td><td>0.022883024</td><td>0.5555223</td><td>11.636491</td><td>11.416069</td><td>0.3789520</td></tr>\n",
       "\t<tr><th scope=row>2</th><td>GAPDH  </td><td>c3</td><td>0.001589537</td><td>0.9089341</td><td>11.996509</td><td>11.957632</td><td>0.6699054</td></tr>\n",
       "\t<tr><th scope=row>3</th><td>SLC35E2</td><td>c3</td><td>0.010216179</td><td>0.3351051</td><td> 7.021055</td><td> 6.960301</td><td>0.3880087</td></tr>\n",
       "\t<tr><th scope=row>4</th><td>DUSP22 </td><td>c3</td><td>0.011816785</td><td>0.3987745</td><td> 7.770124</td><td> 7.686246</td><td>0.3395835</td></tr>\n",
       "\t<tr><th scope=row>5</th><td>RPS28  </td><td>c3</td><td>0.030781268</td><td>0.1454415</td><td>12.580419</td><td>12.417138</td><td>0.2040993</td></tr>\n",
       "\t<tr><th scope=row>6</th><td>IPO13  </td><td>c3</td><td>0.012574863</td><td>0.4829771</td><td> 5.428254</td><td> 5.351064</td><td>0.5244349</td></tr>\n",
       "</tbody>\n",
       "</table>\n"
      ],
      "text/latex": [
       "A data.frame: 6 × 7\n",
       "\\begin{tabular}{r|lllllll}\n",
       "  & gene & class & cmvCoef & cmvSummPval & tMuPos & tMuNeg & tPval\\\\\n",
       "  & <chr> & <chr> & <dbl> & <dbl> & <dbl> & <dbl> & <dbl>\\\\\n",
       "\\hline\n",
       "\t1 & EEF1A1  & c3 & 0.022883024 & 0.5555223 & 11.636491 & 11.416069 & 0.3789520\\\\\n",
       "\t2 & GAPDH   & c3 & 0.001589537 & 0.9089341 & 11.996509 & 11.957632 & 0.6699054\\\\\n",
       "\t3 & SLC35E2 & c3 & 0.010216179 & 0.3351051 &  7.021055 &  6.960301 & 0.3880087\\\\\n",
       "\t4 & DUSP22  & c3 & 0.011816785 & 0.3987745 &  7.770124 &  7.686246 & 0.3395835\\\\\n",
       "\t5 & RPS28   & c3 & 0.030781268 & 0.1454415 & 12.580419 & 12.417138 & 0.2040993\\\\\n",
       "\t6 & IPO13   & c3 & 0.012574863 & 0.4829771 &  5.428254 &  5.351064 & 0.5244349\\\\\n",
       "\\end{tabular}\n"
      ],
      "text/markdown": [
       "\n",
       "A data.frame: 6 × 7\n",
       "\n",
       "| <!--/--> | gene &lt;chr&gt; | class &lt;chr&gt; | cmvCoef &lt;dbl&gt; | cmvSummPval &lt;dbl&gt; | tMuPos &lt;dbl&gt; | tMuNeg &lt;dbl&gt; | tPval &lt;dbl&gt; |\n",
       "|---|---|---|---|---|---|---|---|\n",
       "| 1 | EEF1A1  | c3 | 0.022883024 | 0.5555223 | 11.636491 | 11.416069 | 0.3789520 |\n",
       "| 2 | GAPDH   | c3 | 0.001589537 | 0.9089341 | 11.996509 | 11.957632 | 0.6699054 |\n",
       "| 3 | SLC35E2 | c3 | 0.010216179 | 0.3351051 |  7.021055 |  6.960301 | 0.3880087 |\n",
       "| 4 | DUSP22  | c3 | 0.011816785 | 0.3987745 |  7.770124 |  7.686246 | 0.3395835 |\n",
       "| 5 | RPS28   | c3 | 0.030781268 | 0.1454415 | 12.580419 | 12.417138 | 0.2040993 |\n",
       "| 6 | IPO13   | c3 | 0.012574863 | 0.4829771 |  5.428254 |  5.351064 | 0.5244349 |\n",
       "\n"
      ],
      "text/plain": [
       "  gene    class cmvCoef     cmvSummPval tMuPos    tMuNeg    tPval    \n",
       "1 EEF1A1  c3    0.022883024 0.5555223   11.636491 11.416069 0.3789520\n",
       "2 GAPDH   c3    0.001589537 0.9089341   11.996509 11.957632 0.6699054\n",
       "3 SLC35E2 c3    0.010216179 0.3351051    7.021055  6.960301 0.3880087\n",
       "4 DUSP22  c3    0.011816785 0.3987745    7.770124  7.686246 0.3395835\n",
       "5 RPS28   c3    0.030781268 0.1454415   12.580419 12.417138 0.2040993\n",
       "6 IPO13   c3    0.012574863 0.4829771    5.428254  5.351064 0.5244349"
      ]
     },
     "metadata": {},
     "output_type": "display_data"
    }
   ],
   "source": [
    "head(df)"
   ]
  },
  {
   "cell_type": "code",
   "execution_count": null,
   "metadata": {},
   "outputs": [],
   "source": [
    "#fwrite(df, paste0(\"gene_statistics\" ,\".csv\"))"
   ]
  }
 ],
 "metadata": {
  "kernelspec": {
   "display_name": "R",
   "language": "R",
   "name": "ir"
  },
  "language_info": {
   "codemirror_mode": "r",
   "file_extension": ".r",
   "mimetype": "text/x-r-source",
   "name": "R",
   "pygments_lexer": "r",
   "version": "4.0.3"
  }
 },
 "nbformat": 4,
 "nbformat_minor": 4
}
