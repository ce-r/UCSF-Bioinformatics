{
 "cells": [
  {
   "cell_type": "code",
   "execution_count": null,
   "metadata": {},
   "outputs": [],
   "source": [
    "install.packages(\"devtools\")\n",
    "install.packages(\"BiocManager\")\n",
    "BiocManager::install(\"GEOquery\")\n",
    "devtools::install_github(\"mkuhn/dict\")\n",
    "install.packages(\"sjmisc\")"
   ]
  },
  {
   "cell_type": "code",
   "execution_count": 1,
   "metadata": {},
   "outputs": [
    {
     "name": "stderr",
     "output_type": "stream",
     "text": [
      "\n",
      "Attaching package: ‘dplyr’\n",
      "\n",
      "The following objects are masked from ‘package:data.table’:\n",
      "\n",
      "    between, first, last\n",
      "\n",
      "The following objects are masked from ‘package:stats’:\n",
      "\n",
      "    filter, lag\n",
      "\n",
      "The following objects are masked from ‘package:base’:\n",
      "\n",
      "    intersect, setdiff, setequal, union\n",
      "\n",
      "Loading required package: Biobase\n",
      "Loading required package: BiocGenerics\n",
      "Loading required package: parallel\n",
      "\n",
      "Attaching package: ‘BiocGenerics’\n",
      "\n",
      "The following objects are masked from ‘package:parallel’:\n",
      "\n",
      "    clusterApply, clusterApplyLB, clusterCall, clusterEvalQ,\n",
      "    clusterExport, clusterMap, parApply, parCapply, parLapply,\n",
      "    parLapplyLB, parRapply, parSapply, parSapplyLB\n",
      "\n",
      "The following objects are masked from ‘package:dplyr’:\n",
      "\n",
      "    combine, intersect, setdiff, union\n",
      "\n",
      "The following objects are masked from ‘package:stats’:\n",
      "\n",
      "    IQR, mad, sd, var, xtabs\n",
      "\n",
      "The following objects are masked from ‘package:base’:\n",
      "\n",
      "    anyDuplicated, append, as.data.frame, basename, cbind, colnames,\n",
      "    dirname, do.call, duplicated, eval, evalq, Filter, Find, get, grep,\n",
      "    grepl, intersect, is.unsorted, lapply, Map, mapply, match, mget,\n",
      "    order, paste, pmax, pmax.int, pmin, pmin.int, Position, rank,\n",
      "    rbind, Reduce, rownames, sapply, setdiff, sort, table, tapply,\n",
      "    union, unique, unsplit, which, which.max, which.min\n",
      "\n",
      "Welcome to Bioconductor\n",
      "\n",
      "    Vignettes contain introductory material; view with\n",
      "    'browseVignettes()'. To cite Bioconductor, see\n",
      "    'citation(\"Biobase\")', and for packages 'citation(\"pkgname\")'.\n",
      "\n",
      "Setting options('download.file.method.GEOquery'='auto')\n",
      "Setting options('GEOquery.inmemory.gpl'=FALSE)\n",
      "Install package \"strengejacke\" from GitHub (`devtools::install_github(\"strengejacke/strengejacke\")`) to load all sj-packages at once!\n"
     ]
    }
   ],
   "source": [
    "library(data.table)\n",
    "library(magrittr)\n",
    "library(dplyr)\n",
    "library(GEOquery)\n",
    "library(sjmisc)\n",
    "library(dict)"
   ]
  },
  {
   "cell_type": "code",
   "execution_count": 2,
   "metadata": {},
   "outputs": [],
   "source": [
    "### LOADING txt files\n",
    "# read cmv lab test results\n",
    "fn = \"lab_test.txt\"\n",
    "lab_test = fread(fn, data.table = F)\n",
    "cmv = lab_test%>%filter(NAME_REPORTED==\"CMV Ab\")\n",
    "#View(cmv)\n",
    "\n",
    "# read expsample to biosample\n",
    "fn = \"expsample_2_biosample.txt\"\n",
    "e2b = fread(fn, data.table = F)\n",
    "\n",
    "\n",
    "# read biosample table\n",
    "fn = \"biosample.txt\"\n",
    "biosample = fread(fn, data.table = F)\n",
    "biosample = biosample%>%select(SUBJECT_ACCESSION, BIOSAMPLE_ACCESSION, STUDY_ACCESSION)\n",
    "\n",
    "\n",
    "# find gene expression result\n",
    "fn = \"expsample_public_repository.txt\"\n",
    "pub_repos = fread(fn, data.table = F)\n",
    "pub_repos = pub_repos%>%filter(REPOSITORY_NAME==\"GEO\")\n",
    "\n",
    "\n",
    "### JOINING TABLES\n",
    "#(1) map CMV result to subject ID\n",
    "cmv = cmv%>%inner_join(biosample, by=\"BIOSAMPLE_ACCESSION\")\n",
    "\n",
    "\n",
    "#(2) map gene expression result to biosample w/ expsample_accession\n",
    "pub_repos1 = pub_repos%>%inner_join(e2b[, c(\"EXPSAMPLE_ACCESSION\",\"BIOSAMPLE_ACCESSION\")], by=\"EXPSAMPLE_ACCESSION\")\n",
    "\n",
    "\n",
    "#(3) map gene expression result to subject\n",
    "pub_repos2 = pub_repos1%>%inner_join(biosample, by=\"BIOSAMPLE_ACCESSION\")\n",
    "\n",
    "\n",
    "# map gene expression with CMV result\n",
    "results = cmv%>%inner_join(pub_repos2, by=c(\"SUBJECT_ACCESSION\",\"STUDY_ACCESSION\"))\n",
    "#print(head(results))\n",
    "#dim(results)"
   ]
  },
  {
   "cell_type": "code",
   "execution_count": null,
   "metadata": {},
   "outputs": [],
   "source": [
    "count = 0\n",
    "gpl_dict = dict()\n",
    "nonfunc_gpl = dict()### non-functional GPL ID dict or list for colnames\n",
    "nonfunc_gsm = vector()"
   ]
  },
  {
   "cell_type": "code",
   "execution_count": null,
   "metadata": {
    "jupyter": {
     "source_hidden": true
    },
    "scrolled": true
   },
   "outputs": [],
   "source": [
    "for(i in results$REPOSITORY_ACCESSION) {\n",
    "  ### LOADING TABLES\n",
    "  GSM = getGEO(i, getGPL=FALSE)\n",
    "    \n",
    "  if(length(colnames(GSM@dataTable@table)) == 0){\n",
    "      nonfunc_gsm = c(nonfunc_gsm, i)\n",
    "      next\n",
    "  }  \n",
    "    \n",
    "  genex = GSM@dataTable@table[,1:2]# it exists, load it\n",
    "  platform_char = GSM@header$platform_id\n",
    "  \n",
    "  ### check if platform id already loaded\n",
    "  if(platform_char %in% gpl_dict$keys()){\n",
    "    ### at this point the platform table should only have cols ID and Symbol\n",
    "    gene_profiles = genex%>%inner_join(gpl_dict[[platform_char]], by=c(\"ID_REF\"=\"ID\"))\n",
    "    \n",
    "  } else { ### we have a unique platform GPL ID to add to the dict\n",
    "    ### load unique GPL\n",
    "    platform_obj = getGEO(platform_char, getGPL=FALSE)\n",
    "    platform = platform_obj@dataTable@table\n",
    "    \n",
    "    if(\"ID\" %in% colnames(platform) && str_contains(colnames(platform), \"Symbol\")){\n",
    "        names(platform)[grepl(\"Symbol\", names(platform))] = \"Symbol\"\n",
    "        platform = platform[,c(\"ID\",\"Symbol\")]\n",
    "    \n",
    "        gpl_dict[[platform_char]] = platform ## add platform table to dict\n",
    "        gene_profiles = genex%>%inner_join(platform, by=c(\"ID_REF\"=\"ID\"))\n",
    "      \n",
    "    } else {\n",
    "        ### store non-functional GPL w/ platform table or colnames in dict\n",
    "        #nonfunc_gpl[[platform_char]] = c(nonfunc_gpl[[platform_char]], platform)# should create a list for each key\n",
    "        #nonfunc_gpl[[platform_char]] = append(dt_list, i)#platform\n",
    "        nonfunc_gpl[[platform_char]] = platform\n",
    "        next\n",
    "    }\n",
    "  }\n",
    "  \n",
    "  gene_profiles = gene_profiles[ ,c(\"Symbol\",\"VALUE\")]\n",
    "  gene_profiles = gene_profiles[!(gene_profiles$Symbol == \"---\" | gene_profiles$Symbol == \"\"), ]\n",
    "  names(gene_profiles)[names(gene_profiles) == \"VALUE\"] = i\n",
    "  \n",
    "  if (count == 0){\n",
    "    final_res = gene_profiles\n",
    "      \n",
    "  } else if (count == 50){\n",
    "      final_res = final_res%>%full_join(gene_profiles, by=\"Symbol\")\n",
    "      final_res = final_res%>%group_by(Symbol)%>%summarise_all(\"mean\")\n",
    "      \n",
    "      fwrite(final_res, paste0(i,\"_\" ,Sys.time(),\"_\" ,\".csv\"))# i is the last gsm included in write file\n",
    "      count = 0\n",
    "    \n",
    "  } else {\n",
    "    final_res = final_res%>%full_join(gene_profiles, by=\"Symbol\")\n",
    "    final_res = final_res%>%group_by(Symbol)%>%summarise_all(\"mean\") #aggregate rows containing duplicate Symbol elements\n",
    "  }\n",
    "  \n",
    "  count = count + 1\n",
    "}\n",
    "fwrite(final_res, paste0(i,\"_\" ,Sys.time(),\"_\" ,\".csv\"))"
   ]
  },
  {
   "cell_type": "code",
   "execution_count": null,
   "metadata": {
    "jupyter": {
     "source_hidden": true
    }
   },
   "outputs": [],
   "source": [
    "#b[!(grepl('-Dec', b$Symbol) | grepl('-Mar', b$Symbol)), ]"
   ]
  },
  {
   "cell_type": "code",
   "execution_count": 3,
   "metadata": {},
   "outputs": [],
   "source": [
    "#w = read.csv('GSM1573169_2020-11-05 02:11:26_.csv')\n",
    "#x = read.csv('GSM1422010_2020-11-05 03:01:59_.csv')\n",
    "#y = read.csv('GSM1569196_2020-11-05 04:44:20_.csv')\n",
    "z = read.csv('GSM1519747_2020-11-05 05:17:11_.csv')\n",
    "\n",
    "res = setdiff(results$REPOSITORY_ACCESSION, colnames(z))"
   ]
  },
  {
   "cell_type": "code",
   "execution_count": 4,
   "metadata": {},
   "outputs": [],
   "source": [
    "count = 0\n",
    "gpl_dict = dict()\n",
    "#nonfunc_gpl = dict()### non-functional GPL ID dict or list for colnames\n",
    "gsm_vec = vector()\n",
    "gpl_vec = vector()\n",
    "nonfunc_gsm = vector()"
   ]
  },
  {
   "cell_type": "code",
   "execution_count": 5,
   "metadata": {
    "collapsed": true,
    "jupyter": {
     "outputs_hidden": true
    }
   },
   "outputs": [
    {
     "name": "stderr",
     "output_type": "stream",
     "text": [
      "File stored at: \n",
      "/tmp/RtmppJkQv0/GSM1008332.soft\n",
      "File stored at: \n",
      "/tmp/RtmppJkQv0/GSM1008368.soft\n",
      "File stored at: \n",
      "/tmp/RtmppJkQv0/GSM1008377.soft\n",
      "File stored at: \n",
      "/tmp/RtmppJkQv0/GSM1008401.soft\n",
      "File stored at: \n",
      "/tmp/RtmppJkQv0/GSM1008329.soft\n",
      "File stored at: \n",
      "/tmp/RtmppJkQv0/GSM1008311.soft\n",
      "File stored at: \n",
      "/tmp/RtmppJkQv0/GSM1008312.soft\n",
      "File stored at: \n",
      "/tmp/RtmppJkQv0/GSM1008313.soft\n",
      "File stored at: \n",
      "/tmp/RtmppJkQv0/GSM1008315.soft\n",
      "File stored at: \n",
      "/tmp/RtmppJkQv0/GSM1008316.soft\n",
      "File stored at: \n",
      "/tmp/RtmppJkQv0/GSM1008317.soft\n",
      "File stored at: \n",
      "/tmp/RtmppJkQv0/GSM1008320.soft\n",
      "File stored at: \n",
      "/tmp/RtmppJkQv0/GSM1008321.soft\n",
      "File stored at: \n",
      "/tmp/RtmppJkQv0/GSM1008323.soft\n",
      "File stored at: \n",
      "/tmp/RtmppJkQv0/GSM1008324.soft\n",
      "File stored at: \n",
      "/tmp/RtmppJkQv0/GSM1008326.soft\n",
      "File stored at: \n",
      "/tmp/RtmppJkQv0/GSM1008327.soft\n",
      "File stored at: \n",
      "/tmp/RtmppJkQv0/GSM1008328.soft\n",
      "File stored at: \n",
      "/tmp/RtmppJkQv0/GSM1008330.soft\n",
      "File stored at: \n",
      "/tmp/RtmppJkQv0/GSM1008331.soft\n",
      "File stored at: \n",
      "/tmp/RtmppJkQv0/GSM1008333.soft\n",
      "File stored at: \n",
      "/tmp/RtmppJkQv0/GSM1008334.soft\n",
      "File stored at: \n",
      "/tmp/RtmppJkQv0/GSM1008335.soft\n",
      "File stored at: \n",
      "/tmp/RtmppJkQv0/GSM1008336.soft\n",
      "File stored at: \n",
      "/tmp/RtmppJkQv0/GSM1008337.soft\n",
      "File stored at: \n",
      "/tmp/RtmppJkQv0/GSM1008338.soft\n",
      "File stored at: \n",
      "/tmp/RtmppJkQv0/GSM1008339.soft\n",
      "File stored at: \n",
      "/tmp/RtmppJkQv0/GSM1008340.soft\n",
      "File stored at: \n",
      "/tmp/RtmppJkQv0/GSM1008342.soft\n",
      "File stored at: \n",
      "/tmp/RtmppJkQv0/GSM1008343.soft\n",
      "File stored at: \n",
      "/tmp/RtmppJkQv0/GSM1008346.soft\n",
      "File stored at: \n",
      "/tmp/RtmppJkQv0/GSM1008347.soft\n",
      "File stored at: \n",
      "/tmp/RtmppJkQv0/GSM1008349.soft\n",
      "File stored at: \n",
      "/tmp/RtmppJkQv0/GSM1008351.soft\n",
      "File stored at: \n",
      "/tmp/RtmppJkQv0/GSM1008352.soft\n",
      "File stored at: \n",
      "/tmp/RtmppJkQv0/GSM1008353.soft\n",
      "File stored at: \n",
      "/tmp/RtmppJkQv0/GSM1008354.soft\n",
      "File stored at: \n",
      "/tmp/RtmppJkQv0/GSM1008355.soft\n",
      "File stored at: \n",
      "/tmp/RtmppJkQv0/GSM1008359.soft\n",
      "File stored at: \n",
      "/tmp/RtmppJkQv0/GSM1008361.soft\n",
      "File stored at: \n",
      "/tmp/RtmppJkQv0/GSM1008362.soft\n",
      "File stored at: \n",
      "/tmp/RtmppJkQv0/GSM1008363.soft\n",
      "File stored at: \n",
      "/tmp/RtmppJkQv0/GSM1008365.soft\n",
      "File stored at: \n",
      "/tmp/RtmppJkQv0/GSM1008366.soft\n",
      "File stored at: \n",
      "/tmp/RtmppJkQv0/GSM1008367.soft\n",
      "File stored at: \n",
      "/tmp/RtmppJkQv0/GSM1008370.soft\n",
      "File stored at: \n",
      "/tmp/RtmppJkQv0/GSM1008371.soft\n",
      "File stored at: \n",
      "/tmp/RtmppJkQv0/GSM1008373.soft\n",
      "File stored at: \n",
      "/tmp/RtmppJkQv0/GSM1008374.soft\n",
      "File stored at: \n",
      "/tmp/RtmppJkQv0/GSM1008383.soft\n",
      "File stored at: \n",
      "/tmp/RtmppJkQv0/GSM1008384.soft\n",
      "File stored at: \n",
      "/tmp/RtmppJkQv0/GSM1008386.soft\n",
      "File stored at: \n",
      "/tmp/RtmppJkQv0/GSM1008388.soft\n",
      "File stored at: \n",
      "/tmp/RtmppJkQv0/GSM1008391.soft\n",
      "File stored at: \n",
      "/tmp/RtmppJkQv0/GSM1008393.soft\n",
      "File stored at: \n",
      "/tmp/RtmppJkQv0/GSM1008394.soft\n",
      "File stored at: \n",
      "/tmp/RtmppJkQv0/GSM1008396.soft\n",
      "File stored at: \n",
      "/tmp/RtmppJkQv0/GSM1008397.soft\n",
      "File stored at: \n",
      "/tmp/RtmppJkQv0/GSM1008398.soft\n",
      "File stored at: \n",
      "/tmp/RtmppJkQv0/GSM1008309.soft\n",
      "File stored at: \n",
      "/tmp/RtmppJkQv0/GSM1008310.soft\n",
      "File stored at: \n",
      "/tmp/RtmppJkQv0/GSM1008314.soft\n",
      "File stored at: \n",
      "/tmp/RtmppJkQv0/GSM1008318.soft\n",
      "File stored at: \n",
      "/tmp/RtmppJkQv0/GSM1008319.soft\n",
      "File stored at: \n",
      "/tmp/RtmppJkQv0/GSM1008322.soft\n",
      "File stored at: \n",
      "/tmp/RtmppJkQv0/GSM1008325.soft\n",
      "File stored at: \n",
      "/tmp/RtmppJkQv0/GSM1008341.soft\n",
      "File stored at: \n",
      "/tmp/RtmppJkQv0/GSM1008344.soft\n",
      "File stored at: \n",
      "/tmp/RtmppJkQv0/GSM1008345.soft\n",
      "File stored at: \n",
      "/tmp/RtmppJkQv0/GSM1008348.soft\n",
      "File stored at: \n",
      "/tmp/RtmppJkQv0/GSM1008350.soft\n",
      "File stored at: \n",
      "/tmp/RtmppJkQv0/GSM1008356.soft\n",
      "File stored at: \n",
      "/tmp/RtmppJkQv0/GSM1008357.soft\n",
      "File stored at: \n",
      "/tmp/RtmppJkQv0/GSM1008358.soft\n",
      "File stored at: \n",
      "/tmp/RtmppJkQv0/GSM1008360.soft\n",
      "File stored at: \n",
      "/tmp/RtmppJkQv0/GSM1008364.soft\n",
      "File stored at: \n",
      "/tmp/RtmppJkQv0/GSM1008369.soft\n",
      "File stored at: \n",
      "/tmp/RtmppJkQv0/GSM1008372.soft\n",
      "File stored at: \n",
      "/tmp/RtmppJkQv0/GSM1008376.soft\n",
      "File stored at: \n",
      "/tmp/RtmppJkQv0/GSM1008378.soft\n",
      "File stored at: \n",
      "/tmp/RtmppJkQv0/GSM1008380.soft\n",
      "File stored at: \n",
      "/tmp/RtmppJkQv0/GSM1008381.soft\n",
      "File stored at: \n",
      "/tmp/RtmppJkQv0/GSM1008385.soft\n",
      "File stored at: \n",
      "/tmp/RtmppJkQv0/GSM1008387.soft\n",
      "File stored at: \n",
      "/tmp/RtmppJkQv0/GSM1008389.soft\n",
      "File stored at: \n",
      "/tmp/RtmppJkQv0/GSM1008390.soft\n",
      "File stored at: \n",
      "/tmp/RtmppJkQv0/GSM1008392.soft\n",
      "File stored at: \n",
      "/tmp/RtmppJkQv0/GSM1008395.soft\n",
      "File stored at: \n",
      "/tmp/RtmppJkQv0/GSM1008399.soft\n",
      "File stored at: \n",
      "/tmp/RtmppJkQv0/GSM1008400.soft\n",
      "File stored at: \n",
      "/tmp/RtmppJkQv0/GSM1008402.soft\n",
      "File stored at: \n",
      "/tmp/RtmppJkQv0/GSM1132210.soft\n",
      "File stored at: \n",
      "/tmp/RtmppJkQv0/GPL16497.soft\n",
      "File stored at: \n",
      "/tmp/RtmppJkQv0/GSM1132209.soft\n",
      "Using locally cached version of GPL16497 found here:\n",
      "/tmp/RtmppJkQv0/GPL16497.soft \n",
      "File stored at: \n",
      "/tmp/RtmppJkQv0/GSM1132264.soft\n",
      "Using locally cached version of GPL16497 found here:\n",
      "/tmp/RtmppJkQv0/GPL16497.soft \n",
      "File stored at: \n",
      "/tmp/RtmppJkQv0/GSM1132263.soft\n",
      "Using locally cached version of GPL16497 found here:\n",
      "/tmp/RtmppJkQv0/GPL16497.soft \n",
      "File stored at: \n",
      "/tmp/RtmppJkQv0/GSM1132278.soft\n",
      "Using locally cached version of GPL16497 found here:\n",
      "/tmp/RtmppJkQv0/GPL16497.soft \n",
      "File stored at: \n",
      "/tmp/RtmppJkQv0/GSM1132277.soft\n",
      "Using locally cached version of GPL16497 found here:\n",
      "/tmp/RtmppJkQv0/GPL16497.soft \n",
      "File stored at: \n",
      "/tmp/RtmppJkQv0/GSM1132313.soft\n",
      "Using locally cached version of GPL16497 found here:\n",
      "/tmp/RtmppJkQv0/GPL16497.soft \n",
      "File stored at: \n",
      "/tmp/RtmppJkQv0/GSM1132314.soft\n",
      "Using locally cached version of GPL16497 found here:\n",
      "/tmp/RtmppJkQv0/GPL16497.soft \n",
      "File stored at: \n",
      "/tmp/RtmppJkQv0/GSM1132203.soft\n",
      "Using locally cached version of GPL16497 found here:\n",
      "/tmp/RtmppJkQv0/GPL16497.soft \n",
      "File stored at: \n",
      "/tmp/RtmppJkQv0/GSM1132204.soft\n",
      "Using locally cached version of GPL16497 found here:\n",
      "/tmp/RtmppJkQv0/GPL16497.soft \n",
      "File stored at: \n",
      "/tmp/RtmppJkQv0/GSM1132170.soft\n",
      "Using locally cached version of GPL16497 found here:\n",
      "/tmp/RtmppJkQv0/GPL16497.soft \n",
      "File stored at: \n",
      "/tmp/RtmppJkQv0/GSM1132169.soft\n",
      "Using locally cached version of GPL16497 found here:\n",
      "/tmp/RtmppJkQv0/GPL16497.soft \n",
      "File stored at: \n",
      "/tmp/RtmppJkQv0/GSM1132172.soft\n",
      "Using locally cached version of GPL16497 found here:\n",
      "/tmp/RtmppJkQv0/GPL16497.soft \n",
      "File stored at: \n",
      "/tmp/RtmppJkQv0/GSM1132171.soft\n",
      "Using locally cached version of GPL16497 found here:\n",
      "/tmp/RtmppJkQv0/GPL16497.soft \n",
      "File stored at: \n",
      "/tmp/RtmppJkQv0/GSM1132173.soft\n",
      "Using locally cached version of GPL16497 found here:\n",
      "/tmp/RtmppJkQv0/GPL16497.soft \n",
      "File stored at: \n",
      "/tmp/RtmppJkQv0/GSM1132174.soft\n",
      "Using locally cached version of GPL16497 found here:\n",
      "/tmp/RtmppJkQv0/GPL16497.soft \n",
      "File stored at: \n",
      "/tmp/RtmppJkQv0/GSM1132178.soft\n",
      "Using locally cached version of GPL16497 found here:\n",
      "/tmp/RtmppJkQv0/GPL16497.soft \n",
      "File stored at: \n",
      "/tmp/RtmppJkQv0/GSM1132177.soft\n",
      "Using locally cached version of GPL16497 found here:\n",
      "/tmp/RtmppJkQv0/GPL16497.soft \n",
      "File stored at: \n",
      "/tmp/RtmppJkQv0/GSM1132180.soft\n",
      "Using locally cached version of GPL16497 found here:\n",
      "/tmp/RtmppJkQv0/GPL16497.soft \n",
      "File stored at: \n",
      "/tmp/RtmppJkQv0/GSM1132179.soft\n",
      "Using locally cached version of GPL16497 found here:\n",
      "/tmp/RtmppJkQv0/GPL16497.soft \n",
      "File stored at: \n",
      "/tmp/RtmppJkQv0/GSM1132185.soft\n",
      "Using locally cached version of GPL16497 found here:\n",
      "/tmp/RtmppJkQv0/GPL16497.soft \n",
      "File stored at: \n",
      "/tmp/RtmppJkQv0/GSM1132186.soft\n",
      "Using locally cached version of GPL16497 found here:\n",
      "/tmp/RtmppJkQv0/GPL16497.soft \n",
      "File stored at: \n",
      "/tmp/RtmppJkQv0/GSM1132187.soft\n",
      "Using locally cached version of GPL16497 found here:\n",
      "/tmp/RtmppJkQv0/GPL16497.soft \n",
      "File stored at: \n",
      "/tmp/RtmppJkQv0/GSM1132188.soft\n",
      "Using locally cached version of GPL16497 found here:\n",
      "/tmp/RtmppJkQv0/GPL16497.soft \n",
      "File stored at: \n",
      "/tmp/RtmppJkQv0/GSM1132191.soft\n",
      "Using locally cached version of GPL16497 found here:\n",
      "/tmp/RtmppJkQv0/GPL16497.soft \n",
      "File stored at: \n",
      "/tmp/RtmppJkQv0/GSM1132192.soft\n",
      "Using locally cached version of GPL16497 found here:\n",
      "/tmp/RtmppJkQv0/GPL16497.soft \n",
      "File stored at: \n",
      "/tmp/RtmppJkQv0/GSM1132193.soft\n",
      "Using locally cached version of GPL16497 found here:\n",
      "/tmp/RtmppJkQv0/GPL16497.soft \n",
      "File stored at: \n",
      "/tmp/RtmppJkQv0/GSM1132194.soft\n",
      "Using locally cached version of GPL16497 found here:\n",
      "/tmp/RtmppJkQv0/GPL16497.soft \n",
      "File stored at: \n",
      "/tmp/RtmppJkQv0/GSM1132198.soft\n",
      "Using locally cached version of GPL16497 found here:\n",
      "/tmp/RtmppJkQv0/GPL16497.soft \n",
      "File stored at: \n",
      "/tmp/RtmppJkQv0/GSM1132197.soft\n",
      "Using locally cached version of GPL16497 found here:\n",
      "/tmp/RtmppJkQv0/GPL16497.soft \n",
      "File stored at: \n",
      "/tmp/RtmppJkQv0/GSM1132200.soft\n",
      "Using locally cached version of GPL16497 found here:\n",
      "/tmp/RtmppJkQv0/GPL16497.soft \n",
      "File stored at: \n",
      "/tmp/RtmppJkQv0/GSM1132199.soft\n",
      "Using locally cached version of GPL16497 found here:\n",
      "/tmp/RtmppJkQv0/GPL16497.soft \n",
      "File stored at: \n",
      "/tmp/RtmppJkQv0/GSM1132201.soft\n",
      "Using locally cached version of GPL16497 found here:\n",
      "/tmp/RtmppJkQv0/GPL16497.soft \n",
      "File stored at: \n",
      "/tmp/RtmppJkQv0/GSM1132202.soft\n",
      "Using locally cached version of GPL16497 found here:\n",
      "/tmp/RtmppJkQv0/GPL16497.soft \n",
      "File stored at: \n",
      "/tmp/RtmppJkQv0/GSM1132205.soft\n",
      "Using locally cached version of GPL16497 found here:\n",
      "/tmp/RtmppJkQv0/GPL16497.soft \n",
      "File stored at: \n",
      "/tmp/RtmppJkQv0/GSM1132206.soft\n",
      "Using locally cached version of GPL16497 found here:\n",
      "/tmp/RtmppJkQv0/GPL16497.soft \n",
      "File stored at: \n",
      "/tmp/RtmppJkQv0/GSM1132207.soft\n",
      "Using locally cached version of GPL16497 found here:\n",
      "/tmp/RtmppJkQv0/GPL16497.soft \n",
      "File stored at: \n",
      "/tmp/RtmppJkQv0/GSM1132208.soft\n",
      "Using locally cached version of GPL16497 found here:\n",
      "/tmp/RtmppJkQv0/GPL16497.soft \n",
      "File stored at: \n",
      "/tmp/RtmppJkQv0/GSM1132211.soft\n",
      "Using locally cached version of GPL16497 found here:\n",
      "/tmp/RtmppJkQv0/GPL16497.soft \n",
      "File stored at: \n",
      "/tmp/RtmppJkQv0/GSM1132212.soft\n",
      "Using locally cached version of GPL16497 found here:\n",
      "/tmp/RtmppJkQv0/GPL16497.soft \n",
      "File stored at: \n",
      "/tmp/RtmppJkQv0/GSM1132213.soft\n",
      "Using locally cached version of GPL16497 found here:\n",
      "/tmp/RtmppJkQv0/GPL16497.soft \n",
      "File stored at: \n",
      "/tmp/RtmppJkQv0/GSM1132214.soft\n",
      "Using locally cached version of GPL16497 found here:\n",
      "/tmp/RtmppJkQv0/GPL16497.soft \n",
      "File stored at: \n",
      "/tmp/RtmppJkQv0/GSM1132215.soft\n",
      "Using locally cached version of GPL16497 found here:\n",
      "/tmp/RtmppJkQv0/GPL16497.soft \n",
      "File stored at: \n",
      "/tmp/RtmppJkQv0/GSM1132216.soft\n",
      "Using locally cached version of GPL16497 found here:\n",
      "/tmp/RtmppJkQv0/GPL16497.soft \n",
      "File stored at: \n",
      "/tmp/RtmppJkQv0/GSM1132217.soft\n",
      "Using locally cached version of GPL16497 found here:\n",
      "/tmp/RtmppJkQv0/GPL16497.soft \n",
      "File stored at: \n",
      "/tmp/RtmppJkQv0/GSM1132218.soft\n",
      "Using locally cached version of GPL16497 found here:\n",
      "/tmp/RtmppJkQv0/GPL16497.soft \n",
      "File stored at: \n",
      "/tmp/RtmppJkQv0/GSM1132219.soft\n",
      "Using locally cached version of GPL16497 found here:\n",
      "/tmp/RtmppJkQv0/GPL16497.soft \n",
      "File stored at: \n",
      "/tmp/RtmppJkQv0/GSM1132220.soft\n",
      "Using locally cached version of GPL16497 found here:\n",
      "/tmp/RtmppJkQv0/GPL16497.soft \n",
      "File stored at: \n",
      "/tmp/RtmppJkQv0/GSM1132221.soft\n",
      "Using locally cached version of GPL16497 found here:\n",
      "/tmp/RtmppJkQv0/GPL16497.soft \n",
      "File stored at: \n",
      "/tmp/RtmppJkQv0/GSM1132222.soft\n",
      "Using locally cached version of GPL16497 found here:\n",
      "/tmp/RtmppJkQv0/GPL16497.soft \n",
      "File stored at: \n",
      "/tmp/RtmppJkQv0/GSM1132231.soft\n",
      "Using locally cached version of GPL16497 found here:\n",
      "/tmp/RtmppJkQv0/GPL16497.soft \n",
      "File stored at: \n",
      "/tmp/RtmppJkQv0/GSM1132232.soft\n",
      "Using locally cached version of GPL16497 found here:\n",
      "/tmp/RtmppJkQv0/GPL16497.soft \n",
      "File stored at: \n",
      "/tmp/RtmppJkQv0/GSM1132234.soft\n",
      "Using locally cached version of GPL16497 found here:\n",
      "/tmp/RtmppJkQv0/GPL16497.soft \n",
      "File stored at: \n",
      "/tmp/RtmppJkQv0/GSM1132233.soft\n",
      "Using locally cached version of GPL16497 found here:\n",
      "/tmp/RtmppJkQv0/GPL16497.soft \n",
      "File stored at: \n",
      "/tmp/RtmppJkQv0/GSM1132235.soft\n",
      "Using locally cached version of GPL16497 found here:\n",
      "/tmp/RtmppJkQv0/GPL16497.soft \n",
      "File stored at: \n",
      "/tmp/RtmppJkQv0/GSM1132236.soft\n",
      "Using locally cached version of GPL16497 found here:\n",
      "/tmp/RtmppJkQv0/GPL16497.soft \n",
      "File stored at: \n",
      "/tmp/RtmppJkQv0/GSM1132237.soft\n",
      "Using locally cached version of GPL16497 found here:\n",
      "/tmp/RtmppJkQv0/GPL16497.soft \n",
      "File stored at: \n",
      "/tmp/RtmppJkQv0/GSM1132238.soft\n",
      "Using locally cached version of GPL16497 found here:\n",
      "/tmp/RtmppJkQv0/GPL16497.soft \n",
      "File stored at: \n",
      "/tmp/RtmppJkQv0/GSM1132240.soft\n",
      "Using locally cached version of GPL16497 found here:\n",
      "/tmp/RtmppJkQv0/GPL16497.soft \n",
      "File stored at: \n",
      "/tmp/RtmppJkQv0/GSM1132239.soft\n",
      "Using locally cached version of GPL16497 found here:\n",
      "/tmp/RtmppJkQv0/GPL16497.soft \n",
      "File stored at: \n",
      "/tmp/RtmppJkQv0/GSM1132246.soft\n",
      "Using locally cached version of GPL16497 found here:\n",
      "/tmp/RtmppJkQv0/GPL16497.soft \n",
      "File stored at: \n",
      "/tmp/RtmppJkQv0/GSM1132245.soft\n",
      "Using locally cached version of GPL16497 found here:\n",
      "/tmp/RtmppJkQv0/GPL16497.soft \n",
      "File stored at: \n",
      "/tmp/RtmppJkQv0/GSM1132250.soft\n",
      "Using locally cached version of GPL16497 found here:\n",
      "/tmp/RtmppJkQv0/GPL16497.soft \n",
      "File stored at: \n",
      "/tmp/RtmppJkQv0/GSM1132249.soft\n",
      "Using locally cached version of GPL16497 found here:\n",
      "/tmp/RtmppJkQv0/GPL16497.soft \n",
      "File stored at: \n",
      "/tmp/RtmppJkQv0/GSM1132251.soft\n",
      "Using locally cached version of GPL16497 found here:\n",
      "/tmp/RtmppJkQv0/GPL16497.soft \n",
      "File stored at: \n",
      "/tmp/RtmppJkQv0/GSM1132252.soft\n",
      "Using locally cached version of GPL16497 found here:\n",
      "/tmp/RtmppJkQv0/GPL16497.soft \n",
      "File stored at: \n",
      "/tmp/RtmppJkQv0/GSM1132253.soft\n",
      "Using locally cached version of GPL16497 found here:\n",
      "/tmp/RtmppJkQv0/GPL16497.soft \n",
      "File stored at: \n",
      "/tmp/RtmppJkQv0/GSM1132254.soft\n",
      "Using locally cached version of GPL16497 found here:\n",
      "/tmp/RtmppJkQv0/GPL16497.soft \n",
      "File stored at: \n",
      "/tmp/RtmppJkQv0/GSM1132258.soft\n",
      "Using locally cached version of GPL16497 found here:\n",
      "/tmp/RtmppJkQv0/GPL16497.soft \n",
      "File stored at: \n",
      "/tmp/RtmppJkQv0/GSM1132257.soft\n",
      "Using locally cached version of GPL16497 found here:\n",
      "/tmp/RtmppJkQv0/GPL16497.soft \n",
      "File stored at: \n",
      "/tmp/RtmppJkQv0/GSM1132259.soft\n",
      "Using locally cached version of GPL16497 found here:\n",
      "/tmp/RtmppJkQv0/GPL16497.soft \n",
      "File stored at: \n",
      "/tmp/RtmppJkQv0/GSM1132260.soft\n",
      "Using locally cached version of GPL16497 found here:\n",
      "/tmp/RtmppJkQv0/GPL16497.soft \n",
      "File stored at: \n",
      "/tmp/RtmppJkQv0/GSM1132261.soft\n",
      "Using locally cached version of GPL16497 found here:\n",
      "/tmp/RtmppJkQv0/GPL16497.soft \n",
      "File stored at: \n",
      "/tmp/RtmppJkQv0/GSM1132262.soft\n",
      "Using locally cached version of GPL16497 found here:\n",
      "/tmp/RtmppJkQv0/GPL16497.soft \n",
      "File stored at: \n",
      "/tmp/RtmppJkQv0/GSM1132265.soft\n",
      "Using locally cached version of GPL16497 found here:\n",
      "/tmp/RtmppJkQv0/GPL16497.soft \n",
      "File stored at: \n",
      "/tmp/RtmppJkQv0/GSM1132266.soft\n",
      "Using locally cached version of GPL16497 found here:\n",
      "/tmp/RtmppJkQv0/GPL16497.soft \n",
      "File stored at: \n",
      "/tmp/RtmppJkQv0/GSM1132268.soft\n",
      "Using locally cached version of GPL16497 found here:\n",
      "/tmp/RtmppJkQv0/GPL16497.soft \n",
      "File stored at: \n",
      "/tmp/RtmppJkQv0/GSM1132267.soft\n",
      "Using locally cached version of GPL16497 found here:\n",
      "/tmp/RtmppJkQv0/GPL16497.soft \n",
      "File stored at: \n",
      "/tmp/RtmppJkQv0/GSM1132272.soft\n",
      "Using locally cached version of GPL16497 found here:\n",
      "/tmp/RtmppJkQv0/GPL16497.soft \n",
      "File stored at: \n",
      "/tmp/RtmppJkQv0/GSM1132271.soft\n",
      "Using locally cached version of GPL16497 found here:\n",
      "/tmp/RtmppJkQv0/GPL16497.soft \n",
      "File stored at: \n",
      "/tmp/RtmppJkQv0/GSM1132274.soft\n",
      "Using locally cached version of GPL16497 found here:\n",
      "/tmp/RtmppJkQv0/GPL16497.soft \n",
      "File stored at: \n",
      "/tmp/RtmppJkQv0/GSM1132273.soft\n",
      "Using locally cached version of GPL16497 found here:\n",
      "/tmp/RtmppJkQv0/GPL16497.soft \n",
      "File stored at: \n",
      "/tmp/RtmppJkQv0/GSM1132282.soft\n",
      "Using locally cached version of GPL16497 found here:\n",
      "/tmp/RtmppJkQv0/GPL16497.soft \n",
      "File stored at: \n",
      "/tmp/RtmppJkQv0/GSM1132281.soft\n",
      "Using locally cached version of GPL16497 found here:\n",
      "/tmp/RtmppJkQv0/GPL16497.soft \n",
      "File stored at: \n",
      "/tmp/RtmppJkQv0/GSM1132283.soft\n",
      "Using locally cached version of GPL16497 found here:\n",
      "/tmp/RtmppJkQv0/GPL16497.soft \n",
      "File stored at: \n",
      "/tmp/RtmppJkQv0/GSM1132284.soft\n",
      "Using locally cached version of GPL16497 found here:\n",
      "/tmp/RtmppJkQv0/GPL16497.soft \n",
      "File stored at: \n",
      "/tmp/RtmppJkQv0/GSM1132288.soft\n",
      "Using locally cached version of GPL16497 found here:\n",
      "/tmp/RtmppJkQv0/GPL16497.soft \n",
      "File stored at: \n",
      "/tmp/RtmppJkQv0/GSM1132287.soft\n",
      "Using locally cached version of GPL16497 found here:\n",
      "/tmp/RtmppJkQv0/GPL16497.soft \n",
      "File stored at: \n",
      "/tmp/RtmppJkQv0/GSM1132294.soft\n",
      "Using locally cached version of GPL16497 found here:\n",
      "/tmp/RtmppJkQv0/GPL16497.soft \n",
      "File stored at: \n",
      "/tmp/RtmppJkQv0/GSM1132293.soft\n",
      "Using locally cached version of GPL16497 found here:\n",
      "/tmp/RtmppJkQv0/GPL16497.soft \n",
      "File stored at: \n",
      "/tmp/RtmppJkQv0/GSM1132297.soft\n",
      "Using locally cached version of GPL16497 found here:\n",
      "/tmp/RtmppJkQv0/GPL16497.soft \n",
      "File stored at: \n",
      "/tmp/RtmppJkQv0/GSM1132298.soft\n",
      "Using locally cached version of GPL16497 found here:\n",
      "/tmp/RtmppJkQv0/GPL16497.soft \n",
      "File stored at: \n",
      "/tmp/RtmppJkQv0/GSM1132300.soft\n",
      "Using locally cached version of GPL16497 found here:\n",
      "/tmp/RtmppJkQv0/GPL16497.soft \n",
      "File stored at: \n",
      "/tmp/RtmppJkQv0/GSM1132299.soft\n",
      "Using locally cached version of GPL16497 found here:\n",
      "/tmp/RtmppJkQv0/GPL16497.soft \n",
      "File stored at: \n",
      "/tmp/RtmppJkQv0/GSM1132304.soft\n",
      "Using locally cached version of GPL16497 found here:\n",
      "/tmp/RtmppJkQv0/GPL16497.soft \n",
      "File stored at: \n",
      "/tmp/RtmppJkQv0/GSM1132303.soft\n",
      "Using locally cached version of GPL16497 found here:\n",
      "/tmp/RtmppJkQv0/GPL16497.soft \n",
      "File stored at: \n",
      "/tmp/RtmppJkQv0/GSM1132305.soft\n",
      "Using locally cached version of GPL16497 found here:\n",
      "/tmp/RtmppJkQv0/GPL16497.soft \n",
      "File stored at: \n",
      "/tmp/RtmppJkQv0/GSM1132306.soft\n",
      "Using locally cached version of GPL16497 found here:\n",
      "/tmp/RtmppJkQv0/GPL16497.soft \n",
      "File stored at: \n",
      "/tmp/RtmppJkQv0/GSM1132307.soft\n",
      "Using locally cached version of GPL16497 found here:\n",
      "/tmp/RtmppJkQv0/GPL16497.soft \n",
      "File stored at: \n",
      "/tmp/RtmppJkQv0/GSM1132308.soft\n",
      "Using locally cached version of GPL16497 found here:\n",
      "/tmp/RtmppJkQv0/GPL16497.soft \n",
      "File stored at: \n",
      "/tmp/RtmppJkQv0/GSM1132165.soft\n",
      "Using locally cached version of GPL16497 found here:\n",
      "/tmp/RtmppJkQv0/GPL16497.soft \n",
      "File stored at: \n",
      "/tmp/RtmppJkQv0/GSM1132166.soft\n",
      "Using locally cached version of GPL16497 found here:\n",
      "/tmp/RtmppJkQv0/GPL16497.soft \n",
      "File stored at: \n",
      "/tmp/RtmppJkQv0/GSM1132168.soft\n",
      "Using locally cached version of GPL16497 found here:\n",
      "/tmp/RtmppJkQv0/GPL16497.soft \n",
      "File stored at: \n",
      "/tmp/RtmppJkQv0/GSM1132167.soft\n",
      "Using locally cached version of GPL16497 found here:\n",
      "/tmp/RtmppJkQv0/GPL16497.soft \n",
      "File stored at: \n",
      "/tmp/RtmppJkQv0/GSM1132175.soft\n",
      "Using locally cached version of GPL16497 found here:\n",
      "/tmp/RtmppJkQv0/GPL16497.soft \n",
      "File stored at: \n",
      "/tmp/RtmppJkQv0/GSM1132176.soft\n",
      "Using locally cached version of GPL16497 found here:\n",
      "/tmp/RtmppJkQv0/GPL16497.soft \n",
      "File stored at: \n",
      "/tmp/RtmppJkQv0/GSM1132181.soft\n",
      "Using locally cached version of GPL16497 found here:\n",
      "/tmp/RtmppJkQv0/GPL16497.soft \n",
      "File stored at: \n",
      "/tmp/RtmppJkQv0/GSM1132182.soft\n",
      "Using locally cached version of GPL16497 found here:\n",
      "/tmp/RtmppJkQv0/GPL16497.soft \n",
      "File stored at: \n",
      "/tmp/RtmppJkQv0/GSM1132183.soft\n",
      "Using locally cached version of GPL16497 found here:\n",
      "/tmp/RtmppJkQv0/GPL16497.soft \n",
      "File stored at: \n",
      "/tmp/RtmppJkQv0/GSM1132184.soft\n",
      "Using locally cached version of GPL16497 found here:\n",
      "/tmp/RtmppJkQv0/GPL16497.soft \n",
      "File stored at: \n",
      "/tmp/RtmppJkQv0/GSM1132189.soft\n",
      "Using locally cached version of GPL16497 found here:\n",
      "/tmp/RtmppJkQv0/GPL16497.soft \n",
      "File stored at: \n",
      "/tmp/RtmppJkQv0/GSM1132190.soft\n",
      "Using locally cached version of GPL16497 found here:\n",
      "/tmp/RtmppJkQv0/GPL16497.soft \n",
      "File stored at: \n",
      "/tmp/RtmppJkQv0/GSM1132195.soft\n",
      "Using locally cached version of GPL16497 found here:\n",
      "/tmp/RtmppJkQv0/GPL16497.soft \n",
      "File stored at: \n",
      "/tmp/RtmppJkQv0/GSM1132196.soft\n",
      "Using locally cached version of GPL16497 found here:\n",
      "/tmp/RtmppJkQv0/GPL16497.soft \n",
      "File stored at: \n",
      "/tmp/RtmppJkQv0/GSM1132223.soft\n",
      "Using locally cached version of GPL16497 found here:\n",
      "/tmp/RtmppJkQv0/GPL16497.soft \n",
      "File stored at: \n",
      "/tmp/RtmppJkQv0/GSM1132224.soft\n",
      "Using locally cached version of GPL16497 found here:\n",
      "/tmp/RtmppJkQv0/GPL16497.soft \n",
      "File stored at: \n",
      "/tmp/RtmppJkQv0/GSM1132226.soft\n",
      "Using locally cached version of GPL16497 found here:\n",
      "/tmp/RtmppJkQv0/GPL16497.soft \n",
      "File stored at: \n",
      "/tmp/RtmppJkQv0/GSM1132225.soft\n",
      "Using locally cached version of GPL16497 found here:\n",
      "/tmp/RtmppJkQv0/GPL16497.soft \n",
      "File stored at: \n",
      "/tmp/RtmppJkQv0/GSM1132227.soft\n",
      "Using locally cached version of GPL16497 found here:\n",
      "/tmp/RtmppJkQv0/GPL16497.soft \n",
      "File stored at: \n",
      "/tmp/RtmppJkQv0/GSM1132228.soft\n",
      "Using locally cached version of GPL16497 found here:\n",
      "/tmp/RtmppJkQv0/GPL16497.soft \n",
      "File stored at: \n",
      "/tmp/RtmppJkQv0/GSM1132229.soft\n",
      "Using locally cached version of GPL16497 found here:\n",
      "/tmp/RtmppJkQv0/GPL16497.soft \n",
      "File stored at: \n",
      "/tmp/RtmppJkQv0/GSM1132230.soft\n",
      "Using locally cached version of GPL16497 found here:\n",
      "/tmp/RtmppJkQv0/GPL16497.soft \n",
      "File stored at: \n",
      "/tmp/RtmppJkQv0/GSM1132241.soft\n",
      "Using locally cached version of GPL16497 found here:\n",
      "/tmp/RtmppJkQv0/GPL16497.soft \n",
      "File stored at: \n",
      "/tmp/RtmppJkQv0/GSM1132242.soft\n",
      "Using locally cached version of GPL16497 found here:\n",
      "/tmp/RtmppJkQv0/GPL16497.soft \n",
      "File stored at: \n",
      "/tmp/RtmppJkQv0/GSM1132244.soft\n",
      "Using locally cached version of GPL16497 found here:\n",
      "/tmp/RtmppJkQv0/GPL16497.soft \n",
      "File stored at: \n",
      "/tmp/RtmppJkQv0/GSM1132243.soft\n",
      "Using locally cached version of GPL16497 found here:\n",
      "/tmp/RtmppJkQv0/GPL16497.soft \n",
      "File stored at: \n",
      "/tmp/RtmppJkQv0/GSM1132247.soft\n",
      "Using locally cached version of GPL16497 found here:\n",
      "/tmp/RtmppJkQv0/GPL16497.soft \n",
      "File stored at: \n",
      "/tmp/RtmppJkQv0/GSM1132248.soft\n",
      "Using locally cached version of GPL16497 found here:\n",
      "/tmp/RtmppJkQv0/GPL16497.soft \n",
      "File stored at: \n",
      "/tmp/RtmppJkQv0/GSM1132256.soft\n",
      "Using locally cached version of GPL16497 found here:\n",
      "/tmp/RtmppJkQv0/GPL16497.soft \n",
      "File stored at: \n",
      "/tmp/RtmppJkQv0/GSM1132255.soft\n",
      "Using locally cached version of GPL16497 found here:\n",
      "/tmp/RtmppJkQv0/GPL16497.soft \n",
      "File stored at: \n",
      "/tmp/RtmppJkQv0/GSM1132269.soft\n",
      "Using locally cached version of GPL16497 found here:\n",
      "/tmp/RtmppJkQv0/GPL16497.soft \n",
      "File stored at: \n",
      "/tmp/RtmppJkQv0/GSM1132270.soft\n",
      "Using locally cached version of GPL16497 found here:\n",
      "/tmp/RtmppJkQv0/GPL16497.soft \n",
      "File stored at: \n",
      "/tmp/RtmppJkQv0/GSM1132276.soft\n",
      "Using locally cached version of GPL16497 found here:\n",
      "/tmp/RtmppJkQv0/GPL16497.soft \n",
      "File stored at: \n",
      "/tmp/RtmppJkQv0/GSM1132275.soft\n",
      "Using locally cached version of GPL16497 found here:\n",
      "/tmp/RtmppJkQv0/GPL16497.soft \n",
      "File stored at: \n",
      "/tmp/RtmppJkQv0/GSM1132279.soft\n",
      "Using locally cached version of GPL16497 found here:\n",
      "/tmp/RtmppJkQv0/GPL16497.soft \n",
      "File stored at: \n",
      "/tmp/RtmppJkQv0/GSM1132280.soft\n",
      "Using locally cached version of GPL16497 found here:\n",
      "/tmp/RtmppJkQv0/GPL16497.soft \n",
      "File stored at: \n",
      "/tmp/RtmppJkQv0/GSM1132286.soft\n",
      "Using locally cached version of GPL16497 found here:\n",
      "/tmp/RtmppJkQv0/GPL16497.soft \n",
      "File stored at: \n",
      "/tmp/RtmppJkQv0/GSM1132285.soft\n",
      "Using locally cached version of GPL16497 found here:\n",
      "/tmp/RtmppJkQv0/GPL16497.soft \n",
      "File stored at: \n",
      "/tmp/RtmppJkQv0/GSM1132289.soft\n",
      "Using locally cached version of GPL16497 found here:\n",
      "/tmp/RtmppJkQv0/GPL16497.soft \n",
      "File stored at: \n",
      "/tmp/RtmppJkQv0/GSM1132290.soft\n",
      "Using locally cached version of GPL16497 found here:\n",
      "/tmp/RtmppJkQv0/GPL16497.soft \n",
      "File stored at: \n",
      "/tmp/RtmppJkQv0/GSM1132291.soft\n",
      "Using locally cached version of GPL16497 found here:\n",
      "/tmp/RtmppJkQv0/GPL16497.soft \n",
      "File stored at: \n",
      "/tmp/RtmppJkQv0/GSM1132292.soft\n",
      "Using locally cached version of GPL16497 found here:\n",
      "/tmp/RtmppJkQv0/GPL16497.soft \n",
      "File stored at: \n",
      "/tmp/RtmppJkQv0/GSM1132295.soft\n",
      "Using locally cached version of GPL16497 found here:\n",
      "/tmp/RtmppJkQv0/GPL16497.soft \n",
      "File stored at: \n",
      "/tmp/RtmppJkQv0/GSM1132296.soft\n",
      "Using locally cached version of GPL16497 found here:\n",
      "/tmp/RtmppJkQv0/GPL16497.soft \n",
      "File stored at: \n",
      "/tmp/RtmppJkQv0/GSM1132301.soft\n",
      "Using locally cached version of GPL16497 found here:\n",
      "/tmp/RtmppJkQv0/GPL16497.soft \n",
      "File stored at: \n",
      "/tmp/RtmppJkQv0/GSM1132302.soft\n",
      "Using locally cached version of GPL16497 found here:\n",
      "/tmp/RtmppJkQv0/GPL16497.soft \n",
      "File stored at: \n",
      "/tmp/RtmppJkQv0/GSM1132310.soft\n",
      "Using locally cached version of GPL16497 found here:\n",
      "/tmp/RtmppJkQv0/GPL16497.soft \n",
      "File stored at: \n",
      "/tmp/RtmppJkQv0/GSM1132309.soft\n",
      "Using locally cached version of GPL16497 found here:\n",
      "/tmp/RtmppJkQv0/GPL16497.soft \n",
      "File stored at: \n",
      "/tmp/RtmppJkQv0/GSM1132312.soft\n",
      "Using locally cached version of GPL16497 found here:\n",
      "/tmp/RtmppJkQv0/GPL16497.soft \n",
      "File stored at: \n",
      "/tmp/RtmppJkQv0/GSM1132311.soft\n",
      "Using locally cached version of GPL16497 found here:\n",
      "/tmp/RtmppJkQv0/GPL16497.soft \n",
      "File stored at: \n",
      "/tmp/RtmppJkQv0/GSM1132315.soft\n",
      "Using locally cached version of GPL16497 found here:\n",
      "/tmp/RtmppJkQv0/GPL16497.soft \n",
      "File stored at: \n",
      "/tmp/RtmppJkQv0/GSM1132316.soft\n",
      "Using locally cached version of GPL16497 found here:\n",
      "/tmp/RtmppJkQv0/GPL16497.soft \n"
     ]
    }
   ],
   "source": [
    "for(i in res) {\n",
    "    ### LOADING TABLES\n",
    "    GSM = getGEO(i, getGPL=FALSE)\n",
    "    \n",
    "    if(length(colnames(GSM@dataTable@table)) == 0){\n",
    "        empty_gsm = c(nonfunc_gsm, i)#empty gsm ids\n",
    "        next\n",
    "    }\n",
    "    \n",
    "    genex = GSM@dataTable@table[,1:2]# it exists, load it\n",
    "    platform_char = GSM@header$platform_id\n",
    "  \n",
    "    ### check if platform id already loaded\n",
    "    if(platform_char %in% gpl_dict$keys()){\n",
    "        ### at this point the platform table should only have cols ID and Symbol\n",
    "        gene_profiles = genex%>%inner_join(gpl_dict[[platform_char]], by=c(\"ID_REF\"=\"ID\"))\n",
    "    \n",
    "    } else { ### we have a unique platform GPL ID to add to the dict\n",
    "        ### load unique GPL\n",
    "        platform_obj = getGEO(platform_char, getGPL=FALSE)\n",
    "        platform = platform_obj@dataTable@table\n",
    "        \n",
    "        if(\"ID\" %in% colnames(platform) && str_contains(colnames(platform), \"Symbol\")){\n",
    "            names(platform)[grepl(\"Symbol\", names(platform))] = \"Symbol\"\n",
    "            platform = platform[,c(\"ID\",\"Symbol\")]\n",
    "\n",
    "            gpl_dict[[platform_char]] = platform ## add platform table to dict\n",
    "            gene_profiles = genex%>%inner_join(platform, by=c(\"ID_REF\"=\"ID\"))\n",
    "      \n",
    "        } else {\n",
    "            ### store non-functional GPL w/ platform table or colnames in dict\n",
    "            gsm_vec = c(gsm_vec, i)# gsm list at platform id level\n",
    "            gpl_vec = c(gpl_vec, platform_char)# corresponding gpl list\n",
    "            next\n",
    "        }\n",
    "    }\n",
    "  \n",
    "    gene_profiles = gene_profiles[ ,c(\"Symbol\",\"VALUE\")]\n",
    "    gene_profiles = gene_profiles[!(gene_profiles$Symbol == \"---\" | gene_profiles$Symbol == \"\"), ]\n",
    "    names(gene_profiles)[names(gene_profiles) == \"VALUE\"] = i\n",
    "      \n",
    "    if (count == 0 && exists('gene_profiles')){\n",
    "        final_res1 = gene_profiles\n",
    "    \n",
    "    } else {\n",
    "        final_res1 = final_res1%>%full_join(gene_profiles, by=\"Symbol\")\n",
    "        final_res1 = final_res1%>%group_by(Symbol)%>%summarise_all(\"mean\") #aggregate rows containing duplicate Symbol elements\n",
    "        \n",
    "        count = count + 1 # count needs to be located in this else statement \n",
    "                          # otherwise it will increment and a full join will \n",
    "                          # proceed without a table\n",
    "    }\n",
    "}\n",
    "\n",
    "if(exists('final_res1')){\n",
    "    fwrite(final_res1, paste0(i,\"_\" ,Sys.time(),\"_\" ,\".csv\"))\n",
    "}\n",
    "\n",
    "fwrite(data.frame(gpl_vec, gsm_vec), paste0(\"nonfunctional_gpl_gsm_dataframe\" ,\".csv\"))# non func gpl_vec, gsm_vec\n",
    "#fwrite(data.frame(nonfunc_gsm), paste0(\"empty_gsm_data_table\" ,\".csv\"))#empty gsm data table"
   ]
  },
  {
   "cell_type": "code",
   "execution_count": null,
   "metadata": {},
   "outputs": [],
   "source": [
    "data.frame(nonfunc_gsm)"
   ]
  },
  {
   "cell_type": "code",
   "execution_count": null,
   "metadata": {
    "jupyter": {
     "source_hidden": true
    }
   },
   "outputs": [],
   "source": [
    "nonfunc_gpl$keys()"
   ]
  },
  {
   "cell_type": "code",
   "execution_count": null,
   "metadata": {
    "jupyter": {
     "source_hidden": true
    }
   },
   "outputs": [],
   "source": [
    "nonfunc_gpl$values()[1]"
   ]
  },
  {
   "cell_type": "code",
   "execution_count": null,
   "metadata": {
    "jupyter": {
     "source_hidden": true
    }
   },
   "outputs": [],
   "source": [
    "#names(dt_list)"
   ]
  },
  {
   "cell_type": "code",
   "execution_count": null,
   "metadata": {
    "jupyter": {
     "source_hidden": true
    }
   },
   "outputs": [],
   "source": [
    "length(unique(colnames(x)))"
   ]
  },
  {
   "cell_type": "code",
   "execution_count": null,
   "metadata": {
    "jupyter": {
     "source_hidden": true
    }
   },
   "outputs": [],
   "source": [
    "head(x)"
   ]
  },
  {
   "cell_type": "code",
   "execution_count": null,
   "metadata": {
    "jupyter": {
     "source_hidden": true
    }
   },
   "outputs": [],
   "source": [
    "length(gsm_list)"
   ]
  },
  {
   "cell_type": "code",
   "execution_count": null,
   "metadata": {
    "jupyter": {
     "source_hidden": true
    }
   },
   "outputs": [],
   "source": [
    "length(unique(gpl_list))"
   ]
  },
  {
   "cell_type": "code",
   "execution_count": null,
   "metadata": {
    "jupyter": {
     "source_hidden": true
    }
   },
   "outputs": [],
   "source": [
    "head(final_res1)"
   ]
  },
  {
   "cell_type": "code",
   "execution_count": null,
   "metadata": {
    "jupyter": {
     "source_hidden": true
    }
   },
   "outputs": [],
   "source": [
    "gene_profiles"
   ]
  },
  {
   "cell_type": "code",
   "execution_count": null,
   "metadata": {
    "jupyter": {
     "source_hidden": true
    }
   },
   "outputs": [],
   "source": [
    "getwd()"
   ]
  },
  {
   "cell_type": "code",
   "execution_count": null,
   "metadata": {
    "jupyter": {
     "source_hidden": true
    }
   },
   "outputs": [],
   "source": [
    "list.files()[grepl('GSM', list.files())]"
   ]
  },
  {
   "cell_type": "code",
   "execution_count": null,
   "metadata": {
    "jupyter": {
     "source_hidden": true
    }
   },
   "outputs": [],
   "source": [
    "colnames(w)"
   ]
  },
  {
   "cell_type": "code",
   "execution_count": null,
   "metadata": {
    "jupyter": {
     "source_hidden": true
    }
   },
   "outputs": [],
   "source": [
    "w = w[!(grepl('-Dec', w$Symbol) | grepl('-Mar', w$Symbol)), ]\n",
    "x = x[!(grepl('-Dec', x$Symbol) | grepl('-Mar', x$Symbol)), ]\n",
    "y = y[!(grepl('-Dec', y$Symbol) | grepl('-Mar', y$Symbol)), ]\n",
    "z = z[!(grepl('-Dec', z$Symbol) | grepl('-Mar', z$Symbol)), ]"
   ]
  },
  {
   "cell_type": "code",
   "execution_count": null,
   "metadata": {
    "jupyter": {
     "source_hidden": true
    }
   },
   "outputs": [],
   "source": [
    "length(intersect(colnames(z), colnames(w)))# all gsm files contain duplicate columns "
   ]
  },
  {
   "cell_type": "code",
   "execution_count": null,
   "metadata": {
    "jupyter": {
     "source_hidden": true
    }
   },
   "outputs": [],
   "source": [
    "length(sort(colnames(w)))"
   ]
  },
  {
   "cell_type": "code",
   "execution_count": null,
   "metadata": {
    "jupyter": {
     "source_hidden": true
    }
   },
   "outputs": [],
   "source": [
    "length(colnam)"
   ]
  },
  {
   "cell_type": "code",
   "execution_count": null,
   "metadata": {
    "jupyter": {
     "source_hidden": true
    }
   },
   "outputs": [],
   "source": [
    "#unique(union(colnames(w), colnames(x)))\n",
    "head(z)"
   ]
  },
  {
   "cell_type": "code",
   "execution_count": null,
   "metadata": {
    "jupyter": {
     "source_hidden": true
    }
   },
   "outputs": [],
   "source": [
    "length(colnames(w))"
   ]
  },
  {
   "cell_type": "code",
   "execution_count": null,
   "metadata": {
    "jupyter": {
     "source_hidden": true
    }
   },
   "outputs": [],
   "source": [
    "diffw = setdiff(colnames(z), colnames(x))\n",
    "print(length(diffw))"
   ]
  },
  {
   "cell_type": "code",
   "execution_count": null,
   "metadata": {
    "jupyter": {
     "source_hidden": true
    }
   },
   "outputs": [],
   "source": [
    "#w[,diffw]"
   ]
  },
  {
   "cell_type": "code",
   "execution_count": null,
   "metadata": {
    "jupyter": {
     "source_hidden": true
    }
   },
   "outputs": [],
   "source": [
    "count = 0"
   ]
  },
  {
   "cell_type": "code",
   "execution_count": null,
   "metadata": {},
   "outputs": [],
   "source": [
    "for(f in list.files()[grepl('GSM', list.files())]){\n",
    "    df = read.csv(f)\n",
    "    df = df[!(grepl('-Dec', df$Symbol) | grepl('-Mar', df$Symbol)), ]\n",
    "    \n",
    "    if (count == 0){\n",
    "        final_res = df\n",
    "    \n",
    "    } else {\n",
    "        diff = setdiff(colnames(df), colnames(final_res))# only unique cols from df \n",
    "        final_res = final_res%>%full_join(diff, by='Symbol')\n",
    "        final_res = final_res%>%group_by(Symbol)%>%summarise_all('mean')\n",
    "    }\n",
    "    \n",
    "    count = count + 1\n",
    "}# 25-30 mins"
   ]
  },
  {
   "cell_type": "code",
   "execution_count": null,
   "metadata": {
    "jupyter": {
     "source_hidden": true
    }
   },
   "outputs": [],
   "source": [
    "# x('GSM1519747_2020-11-05 05:17:11_.csv') is the only good file// poorly placed cell// rearrange notebook\n",
    "\n",
    "df = x[!(grepl('-Dec', x$Symbol) | grepl('-Mar', x$Symbol)), ]\n",
    "\n",
    "final_res = df%>%group_by(Symbol)%>%summarise_all('mean')\n",
    "meanSymb = final_res%>%pivot_longer(cols = -Symbol)%>%pivot_wider(names_from = Symbol, values_from = value)"
   ]
  },
  {
   "cell_type": "code",
   "execution_count": null,
   "metadata": {
    "jupyter": {
     "source_hidden": true
    }
   },
   "outputs": [],
   "source": [
    "head(meanSymb)"
   ]
  },
  {
   "cell_type": "code",
   "execution_count": null,
   "metadata": {
    "jupyter": {
     "source_hidden": true
    }
   },
   "outputs": [],
   "source": [
    "head(df)"
   ]
  },
  {
   "cell_type": "code",
   "execution_count": null,
   "metadata": {
    "jupyter": {
     "source_hidden": true
    }
   },
   "outputs": [],
   "source": [
    "length(unique(colnames(final_res)))"
   ]
  },
  {
   "cell_type": "code",
   "execution_count": null,
   "metadata": {
    "jupyter": {
     "source_hidden": true
    }
   },
   "outputs": [],
   "source": [
    "#df[!(grepl('-Dec', df$Symbol) | grepl('-Mar', df$Symbol)), ]"
   ]
  },
  {
   "cell_type": "code",
   "execution_count": null,
   "metadata": {
    "jupyter": {
     "source_hidden": true
    }
   },
   "outputs": [],
   "source": [
    "print(dim(final_res))"
   ]
  },
  {
   "cell_type": "code",
   "execution_count": null,
   "metadata": {
    "jupyter": {
     "source_hidden": true
    }
   },
   "outputs": [],
   "source": [
    "print(head(final_res))"
   ]
  },
  {
   "cell_type": "code",
   "execution_count": null,
   "metadata": {
    "jupyter": {
     "source_hidden": true
    }
   },
   "outputs": [],
   "source": [
    "meanSymb = final_res%>%pivot_longer(cols = -Symbol)%>%pivot_wider(names_from = Symbol, values_from = value)"
   ]
  },
  {
   "cell_type": "code",
   "execution_count": null,
   "metadata": {
    "jupyter": {
     "source_hidden": true
    }
   },
   "outputs": [],
   "source": [
    "fwrite(final_res, paste0(i,\"_\" ,Sys.time(),\"_\" ,\".csv\"))# Nov 6 should be last data set"
   ]
  },
  {
   "cell_type": "code",
   "execution_count": null,
   "metadata": {
    "jupyter": {
     "source_hidden": true
    }
   },
   "outputs": [],
   "source": [
    "head(final_res)"
   ]
  },
  {
   "cell_type": "code",
   "execution_count": null,
   "metadata": {
    "jupyter": {
     "source_hidden": true
    }
   },
   "outputs": [],
   "source": [
    "#fwrite(genex, \"_.csv\") works but not in the for loop bc it can't find object\n",
    "count = 0\n",
    "gpl_dict = dict()\n",
    "nonfunc_gpl = dict()### non-functional GPL ID dict or list for colnames\n",
    "nonfunc_gsm = vector()"
   ]
  },
  {
   "cell_type": "code",
   "execution_count": null,
   "metadata": {
    "jupyter": {
     "source_hidden": true
    }
   },
   "outputs": [],
   "source": [
    "for(i in setdiff(res, nonfunc_gsm)) {#res\n",
    "    ### LOADING TABLES\n",
    "    GSM = getGEO(i, getGPL=FALSE)\n",
    "    \n",
    "    if(length(colnames(GSM@dataTable@table)) == 0){\n",
    "        nonfunc_gsm = c(nonfunc_gsm, i)\n",
    "        next\n",
    "    }\n",
    "    \n",
    "    genex = GSM@dataTable@table[,1:2]# it exists, load it\n",
    "    platform_char = GSM@header$platform_id\n",
    "  \n",
    "    ### check if platform id already loaded\n",
    "    if(platform_char %in% gpl_dict$keys()){\n",
    "        ### at this point the platform table should only have cols ID and Symbol\n",
    "        gene_profiles = genex%>%inner_join(gpl_dict[[platform_char]], by=c(\"ID_REF\"=\"ID\"))\n",
    "    \n",
    "    } else { ### we have a unique platform GPL ID to add to the dict\n",
    "        ### load unique GPL\n",
    "        platform_obj = getGEO(platform_char, getGPL=FALSE)\n",
    "        platform = platform_obj@dataTable@table\n",
    "        \n",
    "        if(\"ID\" %in% colnames(platform) && str_contains(colnames(platform), \"Symbol\")){\n",
    "            names(platform)[grepl(\"Symbol\", names(platform))] = \"Symbol\"\n",
    "            platform = platform[,c(\"ID\",\"Symbol\")]\n",
    "\n",
    "            gpl_dict[[platform_char]] = platform ## add platform table to dict\n",
    "            gene_profiles = genex%>%inner_join(platform, by=c(\"ID_REF\"=\"ID\"))\n",
    "      \n",
    "        } else {\n",
    "            ### store non-functional GPL w/ platform table or colnames in dict\n",
    "            nonfunc_gpl[[platform_char]] = platform# one gpl is responsible for all bad gsm, \n",
    "                                                   # so need to bag into list b/c one table \n",
    "                                                   # is overwriting all other tables, expecting\n",
    "                                                   # one value per key \n",
    "            next\n",
    "        }\n",
    "    }\n",
    "  \n",
    "    gene_profiles = gene_profiles[ ,c(\"Symbol\",\"VALUE\")]\n",
    "    gene_profiles = gene_profiles[!(gene_profiles$Symbol == \"---\" | gene_profiles$Symbol == \"\"), ]\n",
    "    names(gene_profiles)[names(gene_profiles) == \"VALUE\"] = i\n",
    "  \n",
    "    if (count == 0){\n",
    "        final_res1 = gene_profiles\n",
    "        \n",
    "        #print(head(final_res1))\n",
    "    \n",
    "    } else if (count == 50){\n",
    "        final_res1 = final_res1%>%full_join(gene_profiles, by=\"Symbol\")\n",
    "        final_res1 = final_res1%>%group_by(Symbol)%>%summarise_all(\"mean\")\n",
    "        \n",
    "        #print(head(final_res1))\n",
    "        \n",
    "        fwrite(final_res1, paste0(i,\"_\" ,Sys.time(),\"_\" ,\".csv\"))# i is the last gsm included in write file\n",
    "        count = 0\n",
    "    \n",
    "    } else {\n",
    "        final_res1 = final_res1%>%full_join(gene_profiles, by=\"Symbol\")\n",
    "        final_res1 = final_res1%>%group_by(Symbol)%>%summarise_all(\"mean\") #aggregate rows containing duplicate Symbol elements\n",
    "        \n",
    "        count = count + 1 # count needs to be here otherwise it will increment and a full join will occur without a table\n",
    "    }\n",
    "}\n",
    "#fwrite(final_res1, paste0(i,\"_\" ,Sys.time(),\"_\" ,\".csv\"))"
   ]
  },
  {
   "cell_type": "code",
   "execution_count": null,
   "metadata": {
    "jupyter": {
     "source_hidden": true
    }
   },
   "outputs": [],
   "source": [
    "#GSM1132316\n",
    "#res -- made it through all GSM without creating gene_profiles, final_res object, writing files\n",
    "length(nonfunc_gsm)"
   ]
  },
  {
   "cell_type": "code",
   "execution_count": null,
   "metadata": {
    "jupyter": {
     "source_hidden": true
    }
   },
   "outputs": [],
   "source": [
    "length(res)"
   ]
  },
  {
   "cell_type": "code",
   "execution_count": null,
   "metadata": {
    "jupyter": {
     "source_hidden": true
    }
   },
   "outputs": [],
   "source": [
    "length(setdiff(res, nonfunc_gsm))"
   ]
  },
  {
   "cell_type": "code",
   "execution_count": null,
   "metadata": {},
   "outputs": [],
   "source": []
  }
 ],
 "metadata": {
  "kernelspec": {
   "display_name": "R",
   "language": "R",
   "name": "ir"
  },
  "language_info": {
   "codemirror_mode": "r",
   "file_extension": ".r",
   "mimetype": "text/x-r-source",
   "name": "R",
   "pygments_lexer": "r",
   "version": "3.6.3"
  }
 },
 "nbformat": 4,
 "nbformat_minor": 4
}
